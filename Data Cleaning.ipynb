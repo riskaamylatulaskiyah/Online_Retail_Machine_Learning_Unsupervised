{
 "cells": [
  {
   "cell_type": "code",
   "execution_count": 9,
   "metadata": {
    "ExecuteTime": {
     "end_time": "2020-08-21T08:55:39.560949Z",
     "start_time": "2020-08-21T08:55:39.554193Z"
    }
   },
   "outputs": [],
   "source": [
    "import numpy as np\n",
    "import pandas as pd\n",
    "import matplotlib.pyplot as plt\n",
    "import seaborn as sns\n",
    "import datetime as dt\n",
    "\n",
    "pd.set_option('display.float_format', lambda x: '%.2f' % x)"
   ]
  },
  {
   "cell_type": "markdown",
   "metadata": {},
   "source": [
    "# Online Retail II Dataset"
   ]
  },
  {
   "cell_type": "markdown",
   "metadata": {},
   "source": [
    "- InvoiceNo: Invoice number. Nominal. A 6-digit integral number uniquely assigned to each transaction. If this code starts with the letter 'c', it indicates a cancellation.\n",
    "\n",
    "- StockCode: Product (item) code. Nominal. A 5-digit integral number uniquely assigned to each distinct product.\n",
    "\n",
    "- Description: Product (item) name. Nominal.\n",
    "\n",
    "- Quantity: The quantities of each product (item) per transaction. Numeric.\n",
    "\n",
    "- InvoiceDate: Invice date and time. Numeric. The day and time when a transaction was generated.\n",
    "\n",
    "- UnitPrice: Unit price. Numeric. Product price per unit in sterling (Â£).\n",
    "\n",
    "- CustomerID: Customer number. Nominal. A 5-digit integral number uniquely assigned to each customer.\n",
    "\n",
    "- Country: Country name. Nominal. The name of the country where a customer resides."
   ]
  },
  {
   "cell_type": "code",
   "execution_count": 10,
   "metadata": {
    "ExecuteTime": {
     "end_time": "2020-08-21T08:55:41.972942Z",
     "start_time": "2020-08-21T08:55:40.457390Z"
    }
   },
   "outputs": [],
   "source": [
    "dataset = pd.read_csv('online_retail_II.csv', dtype={'Customer ID':float, 'Invoice':str})"
   ]
  },
  {
   "cell_type": "code",
   "execution_count": 11,
   "metadata": {
    "ExecuteTime": {
     "end_time": "2020-08-21T08:55:43.761588Z",
     "start_time": "2020-08-21T08:55:41.976939Z"
    },
    "execution": {
     "iopub.execute_input": "2020-08-06T00:09:28.815912Z",
     "iopub.status.busy": "2020-08-06T00:09:28.815912Z",
     "iopub.status.idle": "2020-08-06T00:09:30.282988Z",
     "shell.execute_reply": "2020-08-06T00:09:30.281988Z",
     "shell.execute_reply.started": "2020-08-06T00:09:28.815912Z"
    }
   },
   "outputs": [],
   "source": [
    "dataset = pd.read_csv('online_retail_II.csv', dtype={'Customer ID':float, 'Invoice':str})"
   ]
  },
  {
   "cell_type": "code",
   "execution_count": 12,
   "metadata": {
    "ExecuteTime": {
     "end_time": "2020-08-21T08:55:43.782820Z",
     "start_time": "2020-08-21T08:55:43.761588Z"
    },
    "execution": {
     "iopub.execute_input": "2020-08-06T00:09:30.823653Z",
     "iopub.status.busy": "2020-08-06T00:09:30.822654Z",
     "iopub.status.idle": "2020-08-06T00:09:30.838641Z",
     "shell.execute_reply": "2020-08-06T00:09:30.837642Z",
     "shell.execute_reply.started": "2020-08-06T00:09:30.823653Z"
    }
   },
   "outputs": [
    {
     "data": {
      "text/html": [
       "<div>\n",
       "<style scoped>\n",
       "    .dataframe tbody tr th:only-of-type {\n",
       "        vertical-align: middle;\n",
       "    }\n",
       "\n",
       "    .dataframe tbody tr th {\n",
       "        vertical-align: top;\n",
       "    }\n",
       "\n",
       "    .dataframe thead th {\n",
       "        text-align: right;\n",
       "    }\n",
       "</style>\n",
       "<table border=\"1\" class=\"dataframe\">\n",
       "  <thead>\n",
       "    <tr style=\"text-align: right;\">\n",
       "      <th></th>\n",
       "      <th>Invoice</th>\n",
       "      <th>StockCode</th>\n",
       "      <th>Description</th>\n",
       "      <th>Quantity</th>\n",
       "      <th>InvoiceDate</th>\n",
       "      <th>Price</th>\n",
       "      <th>Customer ID</th>\n",
       "      <th>Country</th>\n",
       "    </tr>\n",
       "  </thead>\n",
       "  <tbody>\n",
       "    <tr>\n",
       "      <th>0</th>\n",
       "      <td>489434</td>\n",
       "      <td>85048</td>\n",
       "      <td>15CM CHRISTMAS GLASS BALL 20 LIGHTS</td>\n",
       "      <td>12</td>\n",
       "      <td>2009-12-01 07:45:00</td>\n",
       "      <td>6.95</td>\n",
       "      <td>13085.00</td>\n",
       "      <td>United Kingdom</td>\n",
       "    </tr>\n",
       "    <tr>\n",
       "      <th>1</th>\n",
       "      <td>489434</td>\n",
       "      <td>79323P</td>\n",
       "      <td>PINK CHERRY LIGHTS</td>\n",
       "      <td>12</td>\n",
       "      <td>2009-12-01 07:45:00</td>\n",
       "      <td>6.75</td>\n",
       "      <td>13085.00</td>\n",
       "      <td>United Kingdom</td>\n",
       "    </tr>\n",
       "    <tr>\n",
       "      <th>2</th>\n",
       "      <td>489434</td>\n",
       "      <td>79323W</td>\n",
       "      <td>WHITE CHERRY LIGHTS</td>\n",
       "      <td>12</td>\n",
       "      <td>2009-12-01 07:45:00</td>\n",
       "      <td>6.75</td>\n",
       "      <td>13085.00</td>\n",
       "      <td>United Kingdom</td>\n",
       "    </tr>\n",
       "    <tr>\n",
       "      <th>3</th>\n",
       "      <td>489434</td>\n",
       "      <td>22041</td>\n",
       "      <td>RECORD FRAME 7\" SINGLE SIZE</td>\n",
       "      <td>48</td>\n",
       "      <td>2009-12-01 07:45:00</td>\n",
       "      <td>2.10</td>\n",
       "      <td>13085.00</td>\n",
       "      <td>United Kingdom</td>\n",
       "    </tr>\n",
       "    <tr>\n",
       "      <th>4</th>\n",
       "      <td>489434</td>\n",
       "      <td>21232</td>\n",
       "      <td>STRAWBERRY CERAMIC TRINKET BOX</td>\n",
       "      <td>24</td>\n",
       "      <td>2009-12-01 07:45:00</td>\n",
       "      <td>1.25</td>\n",
       "      <td>13085.00</td>\n",
       "      <td>United Kingdom</td>\n",
       "    </tr>\n",
       "  </tbody>\n",
       "</table>\n",
       "</div>"
      ],
      "text/plain": [
       "  Invoice StockCode                          Description  Quantity  \\\n",
       "0  489434     85048  15CM CHRISTMAS GLASS BALL 20 LIGHTS        12   \n",
       "1  489434    79323P                   PINK CHERRY LIGHTS        12   \n",
       "2  489434    79323W                  WHITE CHERRY LIGHTS        12   \n",
       "3  489434     22041         RECORD FRAME 7\" SINGLE SIZE         48   \n",
       "4  489434     21232       STRAWBERRY CERAMIC TRINKET BOX        24   \n",
       "\n",
       "           InvoiceDate  Price  Customer ID         Country  \n",
       "0  2009-12-01 07:45:00   6.95     13085.00  United Kingdom  \n",
       "1  2009-12-01 07:45:00   6.75     13085.00  United Kingdom  \n",
       "2  2009-12-01 07:45:00   6.75     13085.00  United Kingdom  \n",
       "3  2009-12-01 07:45:00   2.10     13085.00  United Kingdom  \n",
       "4  2009-12-01 07:45:00   1.25     13085.00  United Kingdom  "
      ]
     },
     "execution_count": 12,
     "metadata": {},
     "output_type": "execute_result"
    }
   ],
   "source": [
    "dataset.head()"
   ]
  },
  {
   "cell_type": "code",
   "execution_count": 13,
   "metadata": {
    "ExecuteTime": {
     "end_time": "2020-08-21T08:55:43.797455Z",
     "start_time": "2020-08-21T08:55:43.785890Z"
    },
    "execution": {
     "iopub.execute_input": "2020-08-06T00:09:31.095501Z",
     "iopub.status.busy": "2020-08-06T00:09:31.095501Z",
     "iopub.status.idle": "2020-08-06T00:09:31.101494Z",
     "shell.execute_reply": "2020-08-06T00:09:31.100493Z",
     "shell.execute_reply.started": "2020-08-06T00:09:31.095501Z"
    }
   },
   "outputs": [
    {
     "data": {
      "text/plain": [
       "(1067371, 8)"
      ]
     },
     "execution_count": 13,
     "metadata": {},
     "output_type": "execute_result"
    }
   ],
   "source": [
    "dataset.shape"
   ]
  },
  {
   "cell_type": "raw",
   "metadata": {
    "ExecuteTime": {
     "end_time": "2020-07-31T08:17:29.906102Z",
     "start_time": "2020-07-31T08:17:27.806240Z"
    }
   },
   "source": [
    "describe_columns(dataset)"
   ]
  },
  {
   "cell_type": "markdown",
   "metadata": {},
   "source": [
    "# Information of Data"
   ]
  },
  {
   "cell_type": "code",
   "execution_count": 14,
   "metadata": {
    "ExecuteTime": {
     "end_time": "2020-08-21T08:55:45.271453Z",
     "start_time": "2020-08-21T08:55:44.905273Z"
    },
    "execution": {
     "iopub.execute_input": "2020-08-06T00:09:32.412915Z",
     "iopub.status.busy": "2020-08-06T00:09:32.412915Z",
     "iopub.status.idle": "2020-08-06T00:09:32.770328Z",
     "shell.execute_reply": "2020-08-06T00:09:32.769328Z",
     "shell.execute_reply.started": "2020-08-06T00:09:32.412915Z"
    }
   },
   "outputs": [
    {
     "name": "stdout",
     "output_type": "stream",
     "text": [
      "<class 'pandas.core.frame.DataFrame'>\n",
      "RangeIndex: 1067371 entries, 0 to 1067370\n",
      "Data columns (total 8 columns):\n",
      " #   Column       Non-Null Count    Dtype  \n",
      "---  ------       --------------    -----  \n",
      " 0   Invoice      1067371 non-null  object \n",
      " 1   StockCode    1067371 non-null  object \n",
      " 2   Description  1062989 non-null  object \n",
      " 3   Quantity     1067371 non-null  int64  \n",
      " 4   InvoiceDate  1067371 non-null  object \n",
      " 5   Price        1067371 non-null  float64\n",
      " 6   Customer ID  824364 non-null   float64\n",
      " 7   Country      1067371 non-null  object \n",
      "dtypes: float64(2), int64(1), object(5)\n",
      "memory usage: 65.1+ MB\n"
     ]
    }
   ],
   "source": [
    "dataset.info()"
   ]
  },
  {
   "cell_type": "code",
   "execution_count": 15,
   "metadata": {
    "ExecuteTime": {
     "end_time": "2020-08-21T08:55:46.615158Z",
     "start_time": "2020-08-21T08:55:46.220562Z"
    },
    "execution": {
     "iopub.execute_input": "2020-08-06T00:09:35.388495Z",
     "iopub.status.busy": "2020-08-06T00:09:35.388495Z",
     "iopub.status.idle": "2020-08-06T00:09:35.723600Z",
     "shell.execute_reply": "2020-08-06T00:09:35.722601Z",
     "shell.execute_reply.started": "2020-08-06T00:09:35.388495Z"
    }
   },
   "outputs": [
    {
     "data": {
      "text/html": [
       "<div>\n",
       "<style scoped>\n",
       "    .dataframe tbody tr th:only-of-type {\n",
       "        vertical-align: middle;\n",
       "    }\n",
       "\n",
       "    .dataframe tbody tr th {\n",
       "        vertical-align: top;\n",
       "    }\n",
       "\n",
       "    .dataframe thead th {\n",
       "        text-align: right;\n",
       "    }\n",
       "</style>\n",
       "<table border=\"1\" class=\"dataframe\">\n",
       "  <thead>\n",
       "    <tr style=\"text-align: right;\">\n",
       "      <th></th>\n",
       "      <th>Quantity</th>\n",
       "      <th>Price</th>\n",
       "      <th>Customer ID</th>\n",
       "    </tr>\n",
       "  </thead>\n",
       "  <tbody>\n",
       "    <tr>\n",
       "      <th>count</th>\n",
       "      <td>1067371.00</td>\n",
       "      <td>1067371.00</td>\n",
       "      <td>824364.00</td>\n",
       "    </tr>\n",
       "    <tr>\n",
       "      <th>mean</th>\n",
       "      <td>9.94</td>\n",
       "      <td>4.65</td>\n",
       "      <td>15324.64</td>\n",
       "    </tr>\n",
       "    <tr>\n",
       "      <th>std</th>\n",
       "      <td>172.71</td>\n",
       "      <td>123.55</td>\n",
       "      <td>1697.46</td>\n",
       "    </tr>\n",
       "    <tr>\n",
       "      <th>min</th>\n",
       "      <td>-80995.00</td>\n",
       "      <td>-53594.36</td>\n",
       "      <td>12346.00</td>\n",
       "    </tr>\n",
       "    <tr>\n",
       "      <th>25%</th>\n",
       "      <td>1.00</td>\n",
       "      <td>1.25</td>\n",
       "      <td>13975.00</td>\n",
       "    </tr>\n",
       "    <tr>\n",
       "      <th>50%</th>\n",
       "      <td>3.00</td>\n",
       "      <td>2.10</td>\n",
       "      <td>15255.00</td>\n",
       "    </tr>\n",
       "    <tr>\n",
       "      <th>75%</th>\n",
       "      <td>10.00</td>\n",
       "      <td>4.15</td>\n",
       "      <td>16797.00</td>\n",
       "    </tr>\n",
       "    <tr>\n",
       "      <th>max</th>\n",
       "      <td>80995.00</td>\n",
       "      <td>38970.00</td>\n",
       "      <td>18287.00</td>\n",
       "    </tr>\n",
       "  </tbody>\n",
       "</table>\n",
       "</div>"
      ],
      "text/plain": [
       "        Quantity      Price  Customer ID\n",
       "count 1067371.00 1067371.00    824364.00\n",
       "mean        9.94       4.65     15324.64\n",
       "std       172.71     123.55      1697.46\n",
       "min    -80995.00  -53594.36     12346.00\n",
       "25%         1.00       1.25     13975.00\n",
       "50%         3.00       2.10     15255.00\n",
       "75%        10.00       4.15     16797.00\n",
       "max     80995.00   38970.00     18287.00"
      ]
     },
     "execution_count": 15,
     "metadata": {},
     "output_type": "execute_result"
    }
   ],
   "source": [
    "dataset.describe()"
   ]
  },
  {
   "cell_type": "markdown",
   "metadata": {},
   "source": [
    "**We have a negative values in Quantity and Price**"
   ]
  },
  {
   "cell_type": "code",
   "execution_count": 46,
   "metadata": {
    "ExecuteTime": {
     "end_time": "2020-08-03T16:14:00.097820Z",
     "start_time": "2020-08-03T16:14:00.013240Z"
    },
    "execution": {
     "iopub.execute_input": "2020-08-06T00:09:37.799269Z",
     "iopub.status.busy": "2020-08-06T00:09:37.798272Z",
     "iopub.status.idle": "2020-08-06T00:09:37.846243Z",
     "shell.execute_reply": "2020-08-06T00:09:37.845241Z",
     "shell.execute_reply.started": "2020-08-06T00:09:37.799269Z"
    },
    "scrolled": true
   },
   "outputs": [
    {
     "data": {
      "text/html": [
       "<div>\n",
       "<style scoped>\n",
       "    .dataframe tbody tr th:only-of-type {\n",
       "        vertical-align: middle;\n",
       "    }\n",
       "\n",
       "    .dataframe tbody tr th {\n",
       "        vertical-align: top;\n",
       "    }\n",
       "\n",
       "    .dataframe thead th {\n",
       "        text-align: right;\n",
       "    }\n",
       "</style>\n",
       "<table border=\"1\" class=\"dataframe\">\n",
       "  <thead>\n",
       "    <tr style=\"text-align: right;\">\n",
       "      <th></th>\n",
       "      <th>Invoice</th>\n",
       "      <th>StockCode</th>\n",
       "      <th>Description</th>\n",
       "      <th>Quantity</th>\n",
       "      <th>InvoiceDate</th>\n",
       "      <th>Price</th>\n",
       "      <th>Customer ID</th>\n",
       "      <th>Country</th>\n",
       "    </tr>\n",
       "  </thead>\n",
       "  <tbody>\n",
       "    <tr>\n",
       "      <th>178</th>\n",
       "      <td>C489449</td>\n",
       "      <td>22087</td>\n",
       "      <td>PAPER BUNTING WHITE LACE</td>\n",
       "      <td>-12</td>\n",
       "      <td>2009-12-01 10:33:00</td>\n",
       "      <td>2.95</td>\n",
       "      <td>16321.0</td>\n",
       "      <td>Australia</td>\n",
       "    </tr>\n",
       "    <tr>\n",
       "      <th>179</th>\n",
       "      <td>C489449</td>\n",
       "      <td>85206A</td>\n",
       "      <td>CREAM FELT EASTER EGG BASKET</td>\n",
       "      <td>-6</td>\n",
       "      <td>2009-12-01 10:33:00</td>\n",
       "      <td>1.65</td>\n",
       "      <td>16321.0</td>\n",
       "      <td>Australia</td>\n",
       "    </tr>\n",
       "    <tr>\n",
       "      <th>180</th>\n",
       "      <td>C489449</td>\n",
       "      <td>21895</td>\n",
       "      <td>POTTING SHED SOW 'N' GROW SET</td>\n",
       "      <td>-4</td>\n",
       "      <td>2009-12-01 10:33:00</td>\n",
       "      <td>4.25</td>\n",
       "      <td>16321.0</td>\n",
       "      <td>Australia</td>\n",
       "    </tr>\n",
       "    <tr>\n",
       "      <th>181</th>\n",
       "      <td>C489449</td>\n",
       "      <td>21896</td>\n",
       "      <td>POTTING SHED TWINE</td>\n",
       "      <td>-6</td>\n",
       "      <td>2009-12-01 10:33:00</td>\n",
       "      <td>2.10</td>\n",
       "      <td>16321.0</td>\n",
       "      <td>Australia</td>\n",
       "    </tr>\n",
       "    <tr>\n",
       "      <th>182</th>\n",
       "      <td>C489449</td>\n",
       "      <td>22083</td>\n",
       "      <td>PAPER CHAIN KIT RETRO SPOT</td>\n",
       "      <td>-12</td>\n",
       "      <td>2009-12-01 10:33:00</td>\n",
       "      <td>2.95</td>\n",
       "      <td>16321.0</td>\n",
       "      <td>Australia</td>\n",
       "    </tr>\n",
       "    <tr>\n",
       "      <th>...</th>\n",
       "      <td>...</td>\n",
       "      <td>...</td>\n",
       "      <td>...</td>\n",
       "      <td>...</td>\n",
       "      <td>...</td>\n",
       "      <td>...</td>\n",
       "      <td>...</td>\n",
       "      <td>...</td>\n",
       "    </tr>\n",
       "    <tr>\n",
       "      <th>1065910</th>\n",
       "      <td>C581490</td>\n",
       "      <td>23144</td>\n",
       "      <td>ZINC T-LIGHT HOLDER STARS SMALL</td>\n",
       "      <td>-11</td>\n",
       "      <td>2011-12-09 09:57:00</td>\n",
       "      <td>0.83</td>\n",
       "      <td>14397.0</td>\n",
       "      <td>United Kingdom</td>\n",
       "    </tr>\n",
       "    <tr>\n",
       "      <th>1067002</th>\n",
       "      <td>C581499</td>\n",
       "      <td>M</td>\n",
       "      <td>Manual</td>\n",
       "      <td>-1</td>\n",
       "      <td>2011-12-09 10:28:00</td>\n",
       "      <td>224.69</td>\n",
       "      <td>15498.0</td>\n",
       "      <td>United Kingdom</td>\n",
       "    </tr>\n",
       "    <tr>\n",
       "      <th>1067176</th>\n",
       "      <td>C581568</td>\n",
       "      <td>21258</td>\n",
       "      <td>VICTORIAN SEWING BOX LARGE</td>\n",
       "      <td>-5</td>\n",
       "      <td>2011-12-09 11:57:00</td>\n",
       "      <td>10.95</td>\n",
       "      <td>15311.0</td>\n",
       "      <td>United Kingdom</td>\n",
       "    </tr>\n",
       "    <tr>\n",
       "      <th>1067177</th>\n",
       "      <td>C581569</td>\n",
       "      <td>84978</td>\n",
       "      <td>HANGING HEART JAR T-LIGHT HOLDER</td>\n",
       "      <td>-1</td>\n",
       "      <td>2011-12-09 11:58:00</td>\n",
       "      <td>1.25</td>\n",
       "      <td>17315.0</td>\n",
       "      <td>United Kingdom</td>\n",
       "    </tr>\n",
       "    <tr>\n",
       "      <th>1067178</th>\n",
       "      <td>C581569</td>\n",
       "      <td>20979</td>\n",
       "      <td>36 PENCILS TUBE RED RETROSPOT</td>\n",
       "      <td>-5</td>\n",
       "      <td>2011-12-09 11:58:00</td>\n",
       "      <td>1.25</td>\n",
       "      <td>17315.0</td>\n",
       "      <td>United Kingdom</td>\n",
       "    </tr>\n",
       "  </tbody>\n",
       "</table>\n",
       "<p>22955 rows × 8 columns</p>\n",
       "</div>"
      ],
      "text/plain": [
       "         Invoice StockCode                       Description  Quantity  \\\n",
       "178      C489449     22087          PAPER BUNTING WHITE LACE       -12   \n",
       "179      C489449    85206A      CREAM FELT EASTER EGG BASKET        -6   \n",
       "180      C489449     21895     POTTING SHED SOW 'N' GROW SET        -4   \n",
       "181      C489449     21896                POTTING SHED TWINE        -6   \n",
       "182      C489449     22083        PAPER CHAIN KIT RETRO SPOT       -12   \n",
       "...          ...       ...                               ...       ...   \n",
       "1065910  C581490     23144   ZINC T-LIGHT HOLDER STARS SMALL       -11   \n",
       "1067002  C581499         M                            Manual        -1   \n",
       "1067176  C581568     21258        VICTORIAN SEWING BOX LARGE        -5   \n",
       "1067177  C581569     84978  HANGING HEART JAR T-LIGHT HOLDER        -1   \n",
       "1067178  C581569     20979     36 PENCILS TUBE RED RETROSPOT        -5   \n",
       "\n",
       "                 InvoiceDate   Price  Customer ID         Country  \n",
       "178      2009-12-01 10:33:00    2.95      16321.0       Australia  \n",
       "179      2009-12-01 10:33:00    1.65      16321.0       Australia  \n",
       "180      2009-12-01 10:33:00    4.25      16321.0       Australia  \n",
       "181      2009-12-01 10:33:00    2.10      16321.0       Australia  \n",
       "182      2009-12-01 10:33:00    2.95      16321.0       Australia  \n",
       "...                      ...     ...          ...             ...  \n",
       "1065910  2011-12-09 09:57:00    0.83      14397.0  United Kingdom  \n",
       "1067002  2011-12-09 10:28:00  224.69      15498.0  United Kingdom  \n",
       "1067176  2011-12-09 11:57:00   10.95      15311.0  United Kingdom  \n",
       "1067177  2011-12-09 11:58:00    1.25      17315.0  United Kingdom  \n",
       "1067178  2011-12-09 11:58:00    1.25      17315.0  United Kingdom  \n",
       "\n",
       "[22955 rows x 8 columns]"
      ]
     },
     "execution_count": 46,
     "metadata": {},
     "output_type": "execute_result"
    }
   ],
   "source": [
    "dataset[(dataset['Quantity'] < 0) | (dataset['Price'] < 0)]"
   ]
  },
  {
   "cell_type": "code",
   "execution_count": 47,
   "metadata": {
    "ExecuteTime": {
     "end_time": "2020-08-03T16:14:00.242887Z",
     "start_time": "2020-08-03T16:14:00.097820Z"
    },
    "execution": {
     "iopub.execute_input": "2020-08-06T00:09:37.951183Z",
     "iopub.status.busy": "2020-08-06T00:09:37.950182Z",
     "iopub.status.idle": "2020-08-06T00:09:37.994157Z",
     "shell.execute_reply": "2020-08-06T00:09:37.993157Z",
     "shell.execute_reply.started": "2020-08-06T00:09:37.951183Z"
    }
   },
   "outputs": [
    {
     "data": {
      "text/html": [
       "<div>\n",
       "<style scoped>\n",
       "    .dataframe tbody tr th:only-of-type {\n",
       "        vertical-align: middle;\n",
       "    }\n",
       "\n",
       "    .dataframe tbody tr th {\n",
       "        vertical-align: top;\n",
       "    }\n",
       "\n",
       "    .dataframe thead th {\n",
       "        text-align: right;\n",
       "    }\n",
       "</style>\n",
       "<table border=\"1\" class=\"dataframe\">\n",
       "  <thead>\n",
       "    <tr style=\"text-align: right;\">\n",
       "      <th></th>\n",
       "      <th>Quantity</th>\n",
       "      <th>Price</th>\n",
       "      <th>Customer ID</th>\n",
       "    </tr>\n",
       "  </thead>\n",
       "  <tbody>\n",
       "    <tr>\n",
       "      <th>count</th>\n",
       "      <td>22955.000000</td>\n",
       "      <td>22955.000000</td>\n",
       "      <td>18744.000000</td>\n",
       "    </tr>\n",
       "    <tr>\n",
       "      <th>mean</th>\n",
       "      <td>-46.354738</td>\n",
       "      <td>31.177929</td>\n",
       "      <td>15014.418694</td>\n",
       "    </tr>\n",
       "    <tr>\n",
       "      <th>std</th>\n",
       "      <td>788.164950</td>\n",
       "      <td>767.464100</td>\n",
       "      <td>1698.413277</td>\n",
       "    </tr>\n",
       "    <tr>\n",
       "      <th>min</th>\n",
       "      <td>-80995.000000</td>\n",
       "      <td>-53594.360000</td>\n",
       "      <td>12346.000000</td>\n",
       "    </tr>\n",
       "    <tr>\n",
       "      <th>25%</th>\n",
       "      <td>-11.000000</td>\n",
       "      <td>0.850000</td>\n",
       "      <td>13552.000000</td>\n",
       "    </tr>\n",
       "    <tr>\n",
       "      <th>50%</th>\n",
       "      <td>-2.000000</td>\n",
       "      <td>2.250000</td>\n",
       "      <td>14911.000000</td>\n",
       "    </tr>\n",
       "    <tr>\n",
       "      <th>75%</th>\n",
       "      <td>-1.000000</td>\n",
       "      <td>4.950000</td>\n",
       "      <td>16401.000000</td>\n",
       "    </tr>\n",
       "    <tr>\n",
       "      <th>max</th>\n",
       "      <td>1.000000</td>\n",
       "      <td>38970.000000</td>\n",
       "      <td>18287.000000</td>\n",
       "    </tr>\n",
       "  </tbody>\n",
       "</table>\n",
       "</div>"
      ],
      "text/plain": [
       "           Quantity         Price   Customer ID\n",
       "count  22955.000000  22955.000000  18744.000000\n",
       "mean     -46.354738     31.177929  15014.418694\n",
       "std      788.164950    767.464100   1698.413277\n",
       "min   -80995.000000 -53594.360000  12346.000000\n",
       "25%      -11.000000      0.850000  13552.000000\n",
       "50%       -2.000000      2.250000  14911.000000\n",
       "75%       -1.000000      4.950000  16401.000000\n",
       "max        1.000000  38970.000000  18287.000000"
      ]
     },
     "execution_count": 47,
     "metadata": {},
     "output_type": "execute_result"
    }
   ],
   "source": [
    "dataset[(dataset['Quantity'] < 0) | (dataset['Price'] < 0)].describe()"
   ]
  },
  {
   "cell_type": "markdown",
   "metadata": {},
   "source": [
    "## A. Data Cleaning and Preparation"
   ]
  },
  {
   "cell_type": "markdown",
   "metadata": {},
   "source": [
    "<span style='color:Indianred'>**Duplicated Values**</span>"
   ]
  },
  {
   "cell_type": "code",
   "execution_count": 48,
   "metadata": {
    "ExecuteTime": {
     "end_time": "2020-08-03T16:14:01.441573Z",
     "start_time": "2020-08-03T16:14:00.246906Z"
    },
    "execution": {
     "iopub.execute_input": "2020-08-06T00:09:59.579049Z",
     "iopub.status.busy": "2020-08-06T00:09:59.578049Z",
     "iopub.status.idle": "2020-08-06T00:10:00.629448Z",
     "shell.execute_reply": "2020-08-06T00:10:00.628448Z",
     "shell.execute_reply.started": "2020-08-06T00:09:59.579049Z"
    },
    "scrolled": true
   },
   "outputs": [
    {
     "data": {
      "text/plain": [
       "(67242, 8)"
      ]
     },
     "execution_count": 48,
     "metadata": {},
     "output_type": "execute_result"
    }
   ],
   "source": [
    "dupli = dataset[dataset.duplicated(subset=dataset.columns,keep=False)]\n",
    "dupli.shape"
   ]
  },
  {
   "cell_type": "code",
   "execution_count": 49,
   "metadata": {
    "ExecuteTime": {
     "end_time": "2020-08-03T16:14:01.484902Z",
     "start_time": "2020-08-03T16:14:01.443572Z"
    },
    "execution": {
     "iopub.execute_input": "2020-08-06T00:10:01.293477Z",
     "iopub.status.busy": "2020-08-06T00:10:01.293477Z",
     "iopub.status.idle": "2020-08-06T00:10:01.322460Z",
     "shell.execute_reply": "2020-08-06T00:10:01.321460Z",
     "shell.execute_reply.started": "2020-08-06T00:10:01.293477Z"
    }
   },
   "outputs": [
    {
     "data": {
      "text/html": [
       "<div>\n",
       "<style scoped>\n",
       "    .dataframe tbody tr th:only-of-type {\n",
       "        vertical-align: middle;\n",
       "    }\n",
       "\n",
       "    .dataframe tbody tr th {\n",
       "        vertical-align: top;\n",
       "    }\n",
       "\n",
       "    .dataframe thead th {\n",
       "        text-align: right;\n",
       "    }\n",
       "</style>\n",
       "<table border=\"1\" class=\"dataframe\">\n",
       "  <thead>\n",
       "    <tr style=\"text-align: right;\">\n",
       "      <th></th>\n",
       "      <th>Invoice</th>\n",
       "      <th>StockCode</th>\n",
       "      <th>Description</th>\n",
       "      <th>Quantity</th>\n",
       "      <th>InvoiceDate</th>\n",
       "      <th>Price</th>\n",
       "      <th>Customer ID</th>\n",
       "      <th>Country</th>\n",
       "    </tr>\n",
       "  </thead>\n",
       "  <tbody>\n",
       "    <tr>\n",
       "      <th>362</th>\n",
       "      <td>489517</td>\n",
       "      <td>21913</td>\n",
       "      <td>VINTAGE SEASIDE JIGSAW PUZZLES</td>\n",
       "      <td>1</td>\n",
       "      <td>2009-12-01 11:34:00</td>\n",
       "      <td>3.75</td>\n",
       "      <td>16329.0</td>\n",
       "      <td>United Kingdom</td>\n",
       "    </tr>\n",
       "    <tr>\n",
       "      <th>363</th>\n",
       "      <td>489517</td>\n",
       "      <td>21912</td>\n",
       "      <td>VINTAGE SNAKES &amp; LADDERS</td>\n",
       "      <td>1</td>\n",
       "      <td>2009-12-01 11:34:00</td>\n",
       "      <td>3.75</td>\n",
       "      <td>16329.0</td>\n",
       "      <td>United Kingdom</td>\n",
       "    </tr>\n",
       "    <tr>\n",
       "      <th>365</th>\n",
       "      <td>489517</td>\n",
       "      <td>21821</td>\n",
       "      <td>GLITTER STAR GARLAND WITH BELLS</td>\n",
       "      <td>1</td>\n",
       "      <td>2009-12-01 11:34:00</td>\n",
       "      <td>3.75</td>\n",
       "      <td>16329.0</td>\n",
       "      <td>United Kingdom</td>\n",
       "    </tr>\n",
       "    <tr>\n",
       "      <th>367</th>\n",
       "      <td>489517</td>\n",
       "      <td>22319</td>\n",
       "      <td>HAIRCLIPS FORTIES FABRIC ASSORTED</td>\n",
       "      <td>12</td>\n",
       "      <td>2009-12-01 11:34:00</td>\n",
       "      <td>0.65</td>\n",
       "      <td>16329.0</td>\n",
       "      <td>United Kingdom</td>\n",
       "    </tr>\n",
       "    <tr>\n",
       "      <th>368</th>\n",
       "      <td>489517</td>\n",
       "      <td>22130</td>\n",
       "      <td>PARTY CONE CHRISTMAS DECORATION</td>\n",
       "      <td>6</td>\n",
       "      <td>2009-12-01 11:34:00</td>\n",
       "      <td>0.85</td>\n",
       "      <td>16329.0</td>\n",
       "      <td>United Kingdom</td>\n",
       "    </tr>\n",
       "    <tr>\n",
       "      <th>...</th>\n",
       "      <td>...</td>\n",
       "      <td>...</td>\n",
       "      <td>...</td>\n",
       "      <td>...</td>\n",
       "      <td>...</td>\n",
       "      <td>...</td>\n",
       "      <td>...</td>\n",
       "      <td>...</td>\n",
       "    </tr>\n",
       "    <tr>\n",
       "      <th>1067136</th>\n",
       "      <td>581538</td>\n",
       "      <td>22068</td>\n",
       "      <td>BLACK PIRATE TREASURE CHEST</td>\n",
       "      <td>1</td>\n",
       "      <td>2011-12-09 11:34:00</td>\n",
       "      <td>0.39</td>\n",
       "      <td>14446.0</td>\n",
       "      <td>United Kingdom</td>\n",
       "    </tr>\n",
       "    <tr>\n",
       "      <th>1067150</th>\n",
       "      <td>581538</td>\n",
       "      <td>23318</td>\n",
       "      <td>BOX OF 6 MINI VINTAGE CRACKERS</td>\n",
       "      <td>1</td>\n",
       "      <td>2011-12-09 11:34:00</td>\n",
       "      <td>2.49</td>\n",
       "      <td>14446.0</td>\n",
       "      <td>United Kingdom</td>\n",
       "    </tr>\n",
       "    <tr>\n",
       "      <th>1067153</th>\n",
       "      <td>581538</td>\n",
       "      <td>22992</td>\n",
       "      <td>REVOLVER WOODEN RULER</td>\n",
       "      <td>1</td>\n",
       "      <td>2011-12-09 11:34:00</td>\n",
       "      <td>1.95</td>\n",
       "      <td>14446.0</td>\n",
       "      <td>United Kingdom</td>\n",
       "    </tr>\n",
       "    <tr>\n",
       "      <th>1067160</th>\n",
       "      <td>581538</td>\n",
       "      <td>22694</td>\n",
       "      <td>WICKER STAR</td>\n",
       "      <td>1</td>\n",
       "      <td>2011-12-09 11:34:00</td>\n",
       "      <td>2.10</td>\n",
       "      <td>14446.0</td>\n",
       "      <td>United Kingdom</td>\n",
       "    </tr>\n",
       "    <tr>\n",
       "      <th>1067162</th>\n",
       "      <td>581538</td>\n",
       "      <td>23343</td>\n",
       "      <td>JUMBO BAG VINTAGE CHRISTMAS</td>\n",
       "      <td>1</td>\n",
       "      <td>2011-12-09 11:34:00</td>\n",
       "      <td>2.08</td>\n",
       "      <td>14446.0</td>\n",
       "      <td>United Kingdom</td>\n",
       "    </tr>\n",
       "  </tbody>\n",
       "</table>\n",
       "<p>67242 rows × 8 columns</p>\n",
       "</div>"
      ],
      "text/plain": [
       "        Invoice StockCode                        Description  Quantity  \\\n",
       "362      489517     21913     VINTAGE SEASIDE JIGSAW PUZZLES         1   \n",
       "363      489517     21912           VINTAGE SNAKES & LADDERS         1   \n",
       "365      489517     21821   GLITTER STAR GARLAND WITH BELLS          1   \n",
       "367      489517     22319  HAIRCLIPS FORTIES FABRIC ASSORTED        12   \n",
       "368      489517     22130   PARTY CONE CHRISTMAS DECORATION          6   \n",
       "...         ...       ...                                ...       ...   \n",
       "1067136  581538     22068        BLACK PIRATE TREASURE CHEST         1   \n",
       "1067150  581538     23318     BOX OF 6 MINI VINTAGE CRACKERS         1   \n",
       "1067153  581538     22992             REVOLVER WOODEN RULER          1   \n",
       "1067160  581538     22694                       WICKER STAR          1   \n",
       "1067162  581538     23343       JUMBO BAG VINTAGE CHRISTMAS          1   \n",
       "\n",
       "                 InvoiceDate  Price  Customer ID         Country  \n",
       "362      2009-12-01 11:34:00   3.75      16329.0  United Kingdom  \n",
       "363      2009-12-01 11:34:00   3.75      16329.0  United Kingdom  \n",
       "365      2009-12-01 11:34:00   3.75      16329.0  United Kingdom  \n",
       "367      2009-12-01 11:34:00   0.65      16329.0  United Kingdom  \n",
       "368      2009-12-01 11:34:00   0.85      16329.0  United Kingdom  \n",
       "...                      ...    ...          ...             ...  \n",
       "1067136  2011-12-09 11:34:00   0.39      14446.0  United Kingdom  \n",
       "1067150  2011-12-09 11:34:00   2.49      14446.0  United Kingdom  \n",
       "1067153  2011-12-09 11:34:00   1.95      14446.0  United Kingdom  \n",
       "1067160  2011-12-09 11:34:00   2.10      14446.0  United Kingdom  \n",
       "1067162  2011-12-09 11:34:00   2.08      14446.0  United Kingdom  \n",
       "\n",
       "[67242 rows x 8 columns]"
      ]
     },
     "execution_count": 49,
     "metadata": {},
     "output_type": "execute_result"
    }
   ],
   "source": [
    "dupli"
   ]
  },
  {
   "cell_type": "markdown",
   "metadata": {},
   "source": [
    "**We've got a 67242 rows duplicated values, so we're gonna removing all duplicated and keep first values from them.**"
   ]
  },
  {
   "cell_type": "code",
   "execution_count": 50,
   "metadata": {
    "ExecuteTime": {
     "end_time": "2020-08-03T16:14:01.827510Z",
     "start_time": "2020-08-03T16:14:01.490889Z"
    },
    "execution": {
     "iopub.execute_input": "2020-08-06T00:10:05.664355Z",
     "iopub.status.busy": "2020-08-06T00:10:05.664355Z",
     "iopub.status.idle": "2020-08-06T00:10:05.736311Z",
     "shell.execute_reply": "2020-08-06T00:10:05.735312Z",
     "shell.execute_reply.started": "2020-08-06T00:10:05.664355Z"
    }
   },
   "outputs": [],
   "source": [
    "df = dataset.copy()"
   ]
  },
  {
   "cell_type": "code",
   "execution_count": 51,
   "metadata": {
    "ExecuteTime": {
     "end_time": "2020-08-03T16:14:03.032035Z",
     "start_time": "2020-08-03T16:14:01.839538Z"
    },
    "execution": {
     "iopub.execute_input": "2020-08-06T00:11:01.257279Z",
     "iopub.status.busy": "2020-08-06T00:11:01.256278Z",
     "iopub.status.idle": "2020-08-06T00:11:02.372637Z",
     "shell.execute_reply": "2020-08-06T00:11:02.372637Z",
     "shell.execute_reply.started": "2020-08-06T00:11:01.257279Z"
    }
   },
   "outputs": [],
   "source": [
    "df.drop_duplicates(keep='first', inplace=True)"
   ]
  },
  {
   "cell_type": "code",
   "execution_count": 52,
   "metadata": {
    "ExecuteTime": {
     "end_time": "2020-08-03T16:14:03.042570Z",
     "start_time": "2020-08-03T16:14:03.032035Z"
    },
    "execution": {
     "iopub.execute_input": "2020-08-06T00:11:03.129131Z",
     "iopub.status.busy": "2020-08-06T00:11:03.129131Z",
     "iopub.status.idle": "2020-08-06T00:11:03.135129Z",
     "shell.execute_reply": "2020-08-06T00:11:03.134131Z",
     "shell.execute_reply.started": "2020-08-06T00:11:03.129131Z"
    },
    "scrolled": true
   },
   "outputs": [
    {
     "data": {
      "text/plain": [
       "(1033036, 8)"
      ]
     },
     "execution_count": 52,
     "metadata": {},
     "output_type": "execute_result"
    }
   ],
   "source": [
    "df.shape"
   ]
  },
  {
   "cell_type": "code",
   "execution_count": 53,
   "metadata": {
    "ExecuteTime": {
     "end_time": "2020-08-03T16:14:03.060608Z",
     "start_time": "2020-08-03T16:14:03.048564Z"
    },
    "execution": {
     "iopub.execute_input": "2020-08-06T00:11:03.874821Z",
     "iopub.status.busy": "2020-08-06T00:11:03.874821Z",
     "iopub.status.idle": "2020-08-06T00:11:03.879817Z",
     "shell.execute_reply": "2020-08-06T00:11:03.878818Z",
     "shell.execute_reply.started": "2020-08-06T00:11:03.874821Z"
    }
   },
   "outputs": [
    {
     "name": "stdout",
     "output_type": "stream",
     "text": [
      "The data was decreasing  34335  rows, after a removing a duplicates and keep first values from them\n"
     ]
    }
   ],
   "source": [
    "print('The data was decreasing ',dataset.shape[0]-df.shape[0], ' rows, after a removing a duplicates and keep first values from them')"
   ]
  },
  {
   "cell_type": "markdown",
   "metadata": {},
   "source": [
    "<span style='color:Indianred'>**Checking Missing Values**</span>"
   ]
  },
  {
   "cell_type": "code",
   "execution_count": 39,
   "metadata": {
    "ExecuteTime": {
     "end_time": "2020-08-03T16:14:03.496540Z",
     "start_time": "2020-08-03T16:14:03.065584Z"
    },
    "execution": {
     "iopub.execute_input": "2020-08-06T00:08:22.227273Z",
     "iopub.status.busy": "2020-08-06T00:08:22.226297Z",
     "iopub.status.idle": "2020-08-06T00:08:22.513202Z",
     "shell.execute_reply": "2020-08-06T00:08:22.512202Z",
     "shell.execute_reply.started": "2020-08-06T00:08:22.226297Z"
    }
   },
   "outputs": [
    {
     "data": {
      "text/html": [
       "<div>\n",
       "<style scoped>\n",
       "    .dataframe tbody tr th:only-of-type {\n",
       "        vertical-align: middle;\n",
       "    }\n",
       "\n",
       "    .dataframe tbody tr th {\n",
       "        vertical-align: top;\n",
       "    }\n",
       "\n",
       "    .dataframe thead th {\n",
       "        text-align: right;\n",
       "    }\n",
       "</style>\n",
       "<table border=\"1\" class=\"dataframe\">\n",
       "  <thead>\n",
       "    <tr style=\"text-align: right;\">\n",
       "      <th></th>\n",
       "      <th>Missing (%)</th>\n",
       "    </tr>\n",
       "  </thead>\n",
       "  <tbody>\n",
       "    <tr>\n",
       "      <th>Invoice</th>\n",
       "      <td>0.000</td>\n",
       "    </tr>\n",
       "    <tr>\n",
       "      <th>StockCode</th>\n",
       "      <td>0.000</td>\n",
       "    </tr>\n",
       "    <tr>\n",
       "      <th>Description</th>\n",
       "      <td>0.417</td>\n",
       "    </tr>\n",
       "    <tr>\n",
       "      <th>Quantity</th>\n",
       "      <td>0.000</td>\n",
       "    </tr>\n",
       "    <tr>\n",
       "      <th>InvoiceDate</th>\n",
       "      <td>0.000</td>\n",
       "    </tr>\n",
       "    <tr>\n",
       "      <th>Price</th>\n",
       "      <td>0.000</td>\n",
       "    </tr>\n",
       "    <tr>\n",
       "      <th>Customer ID</th>\n",
       "      <td>22.728</td>\n",
       "    </tr>\n",
       "    <tr>\n",
       "      <th>Country</th>\n",
       "      <td>0.000</td>\n",
       "    </tr>\n",
       "  </tbody>\n",
       "</table>\n",
       "</div>"
      ],
      "text/plain": [
       "             Missing (%)\n",
       "Invoice            0.000\n",
       "StockCode          0.000\n",
       "Description        0.417\n",
       "Quantity           0.000\n",
       "InvoiceDate        0.000\n",
       "Price              0.000\n",
       "Customer ID       22.728\n",
       "Country            0.000"
      ]
     },
     "execution_count": 39,
     "metadata": {},
     "output_type": "execute_result"
    }
   ],
   "source": [
    "pd.DataFrame(round(df.isnull().sum()/df.shape[0] * 100,3), columns = ['Missing (%)'])"
   ]
  },
  {
   "cell_type": "markdown",
   "metadata": {},
   "source": [
    "**Imputing a Missing values in a Customer ID columns can't take a mean/mode/median as a methods, it just because we never know what kind of customers or where the place customers has purchase the product. We gonna keep that missing values for further analysis**"
   ]
  },
  {
   "cell_type": "code",
   "execution_count": 40,
   "metadata": {
    "ExecuteTime": {
     "end_time": "2020-08-03T16:14:03.691915Z",
     "start_time": "2020-08-03T16:14:03.496540Z"
    },
    "execution": {
     "iopub.execute_input": "2020-08-06T00:08:41.185286Z",
     "iopub.status.busy": "2020-08-06T00:08:41.184283Z",
     "iopub.status.idle": "2020-08-06T00:08:41.321205Z",
     "shell.execute_reply": "2020-08-06T00:08:41.320207Z",
     "shell.execute_reply.started": "2020-08-06T00:08:41.185286Z"
    },
    "scrolled": true
   },
   "outputs": [
    {
     "data": {
      "text/html": [
       "<div>\n",
       "<style scoped>\n",
       "    .dataframe tbody tr th:only-of-type {\n",
       "        vertical-align: middle;\n",
       "    }\n",
       "\n",
       "    .dataframe tbody tr th {\n",
       "        vertical-align: top;\n",
       "    }\n",
       "\n",
       "    .dataframe thead th {\n",
       "        text-align: right;\n",
       "    }\n",
       "</style>\n",
       "<table border=\"1\" class=\"dataframe\">\n",
       "  <thead>\n",
       "    <tr style=\"text-align: right;\">\n",
       "      <th></th>\n",
       "      <th>Invoice</th>\n",
       "      <th>StockCode</th>\n",
       "      <th>Description</th>\n",
       "      <th>Quantity</th>\n",
       "      <th>InvoiceDate</th>\n",
       "      <th>Price</th>\n",
       "      <th>Customer ID</th>\n",
       "      <th>Country</th>\n",
       "    </tr>\n",
       "  </thead>\n",
       "  <tbody>\n",
       "    <tr>\n",
       "      <th>263</th>\n",
       "      <td>489464</td>\n",
       "      <td>21733</td>\n",
       "      <td>85123a mixed</td>\n",
       "      <td>-96</td>\n",
       "      <td>2009-12-01 10:52:00</td>\n",
       "      <td>0.00</td>\n",
       "      <td>NaN</td>\n",
       "      <td>United Kingdom</td>\n",
       "    </tr>\n",
       "    <tr>\n",
       "      <th>283</th>\n",
       "      <td>489463</td>\n",
       "      <td>71477</td>\n",
       "      <td>short</td>\n",
       "      <td>-240</td>\n",
       "      <td>2009-12-01 10:52:00</td>\n",
       "      <td>0.00</td>\n",
       "      <td>NaN</td>\n",
       "      <td>United Kingdom</td>\n",
       "    </tr>\n",
       "    <tr>\n",
       "      <th>284</th>\n",
       "      <td>489467</td>\n",
       "      <td>85123A</td>\n",
       "      <td>21733 mixed</td>\n",
       "      <td>-192</td>\n",
       "      <td>2009-12-01 10:53:00</td>\n",
       "      <td>0.00</td>\n",
       "      <td>NaN</td>\n",
       "      <td>United Kingdom</td>\n",
       "    </tr>\n",
       "    <tr>\n",
       "      <th>470</th>\n",
       "      <td>489521</td>\n",
       "      <td>21646</td>\n",
       "      <td>NaN</td>\n",
       "      <td>-50</td>\n",
       "      <td>2009-12-01 11:44:00</td>\n",
       "      <td>0.00</td>\n",
       "      <td>NaN</td>\n",
       "      <td>United Kingdom</td>\n",
       "    </tr>\n",
       "    <tr>\n",
       "      <th>577</th>\n",
       "      <td>489525</td>\n",
       "      <td>85226C</td>\n",
       "      <td>BLUE PULL BACK RACING CAR</td>\n",
       "      <td>1</td>\n",
       "      <td>2009-12-01 11:49:00</td>\n",
       "      <td>0.55</td>\n",
       "      <td>NaN</td>\n",
       "      <td>United Kingdom</td>\n",
       "    </tr>\n",
       "    <tr>\n",
       "      <th>...</th>\n",
       "      <td>...</td>\n",
       "      <td>...</td>\n",
       "      <td>...</td>\n",
       "      <td>...</td>\n",
       "      <td>...</td>\n",
       "      <td>...</td>\n",
       "      <td>...</td>\n",
       "      <td>...</td>\n",
       "    </tr>\n",
       "    <tr>\n",
       "      <th>1066997</th>\n",
       "      <td>581498</td>\n",
       "      <td>85099B</td>\n",
       "      <td>JUMBO BAG RED RETROSPOT</td>\n",
       "      <td>5</td>\n",
       "      <td>2011-12-09 10:26:00</td>\n",
       "      <td>4.13</td>\n",
       "      <td>NaN</td>\n",
       "      <td>United Kingdom</td>\n",
       "    </tr>\n",
       "    <tr>\n",
       "      <th>1066998</th>\n",
       "      <td>581498</td>\n",
       "      <td>85099C</td>\n",
       "      <td>JUMBO  BAG BAROQUE BLACK WHITE</td>\n",
       "      <td>4</td>\n",
       "      <td>2011-12-09 10:26:00</td>\n",
       "      <td>4.13</td>\n",
       "      <td>NaN</td>\n",
       "      <td>United Kingdom</td>\n",
       "    </tr>\n",
       "    <tr>\n",
       "      <th>1066999</th>\n",
       "      <td>581498</td>\n",
       "      <td>85150</td>\n",
       "      <td>LADIES &amp; GENTLEMEN METAL SIGN</td>\n",
       "      <td>1</td>\n",
       "      <td>2011-12-09 10:26:00</td>\n",
       "      <td>4.96</td>\n",
       "      <td>NaN</td>\n",
       "      <td>United Kingdom</td>\n",
       "    </tr>\n",
       "    <tr>\n",
       "      <th>1067000</th>\n",
       "      <td>581498</td>\n",
       "      <td>85174</td>\n",
       "      <td>S/4 CACTI CANDLES</td>\n",
       "      <td>1</td>\n",
       "      <td>2011-12-09 10:26:00</td>\n",
       "      <td>10.79</td>\n",
       "      <td>NaN</td>\n",
       "      <td>United Kingdom</td>\n",
       "    </tr>\n",
       "    <tr>\n",
       "      <th>1067001</th>\n",
       "      <td>581498</td>\n",
       "      <td>DOT</td>\n",
       "      <td>DOTCOM POSTAGE</td>\n",
       "      <td>1</td>\n",
       "      <td>2011-12-09 10:26:00</td>\n",
       "      <td>1714.17</td>\n",
       "      <td>NaN</td>\n",
       "      <td>United Kingdom</td>\n",
       "    </tr>\n",
       "  </tbody>\n",
       "</table>\n",
       "<p>243007 rows × 8 columns</p>\n",
       "</div>"
      ],
      "text/plain": [
       "        Invoice StockCode                     Description  Quantity  \\\n",
       "263      489464     21733                    85123a mixed       -96   \n",
       "283      489463     71477                           short      -240   \n",
       "284      489467    85123A                     21733 mixed      -192   \n",
       "470      489521     21646                             NaN       -50   \n",
       "577      489525    85226C       BLUE PULL BACK RACING CAR         1   \n",
       "...         ...       ...                             ...       ...   \n",
       "1066997  581498    85099B         JUMBO BAG RED RETROSPOT         5   \n",
       "1066998  581498    85099C  JUMBO  BAG BAROQUE BLACK WHITE         4   \n",
       "1066999  581498     85150   LADIES & GENTLEMEN METAL SIGN         1   \n",
       "1067000  581498     85174               S/4 CACTI CANDLES         1   \n",
       "1067001  581498       DOT                  DOTCOM POSTAGE         1   \n",
       "\n",
       "                 InvoiceDate    Price  Customer ID         Country  \n",
       "263      2009-12-01 10:52:00     0.00          NaN  United Kingdom  \n",
       "283      2009-12-01 10:52:00     0.00          NaN  United Kingdom  \n",
       "284      2009-12-01 10:53:00     0.00          NaN  United Kingdom  \n",
       "470      2009-12-01 11:44:00     0.00          NaN  United Kingdom  \n",
       "577      2009-12-01 11:49:00     0.55          NaN  United Kingdom  \n",
       "...                      ...      ...          ...             ...  \n",
       "1066997  2011-12-09 10:26:00     4.13          NaN  United Kingdom  \n",
       "1066998  2011-12-09 10:26:00     4.13          NaN  United Kingdom  \n",
       "1066999  2011-12-09 10:26:00     4.96          NaN  United Kingdom  \n",
       "1067000  2011-12-09 10:26:00    10.79          NaN  United Kingdom  \n",
       "1067001  2011-12-09 10:26:00  1714.17          NaN  United Kingdom  \n",
       "\n",
       "[243007 rows x 8 columns]"
      ]
     },
     "execution_count": 40,
     "metadata": {},
     "output_type": "execute_result"
    }
   ],
   "source": [
    "miss_val = dataset[(dataset['Customer ID'].isna()) | (dataset['Description'].isna())]\n",
    "miss_val"
   ]
  },
  {
   "cell_type": "markdown",
   "metadata": {},
   "source": [
    "### Understanding Features"
   ]
  },
  {
   "cell_type": "markdown",
   "metadata": {},
   "source": [
    "### a. `Invoice`\n",
    "\n",
    "- InvoiceNo: Invoice number. Nominal. A 6-digit integral number uniquely assigned to each transaction. If this code starts with the letter 'c', it indicates a cancellation."
   ]
  },
  {
   "cell_type": "markdown",
   "metadata": {},
   "source": [
    "variabel `nc`  =  `no_cancel` dataset which those data doesn't have a `cancel_condition`"
   ]
  },
  {
   "cell_type": "code",
   "execution_count": 17,
   "metadata": {
    "ExecuteTime": {
     "end_time": "2020-08-03T16:14:04.247427Z",
     "start_time": "2020-08-03T16:14:03.691915Z"
    },
    "scrolled": true
   },
   "outputs": [
    {
     "data": {
      "text/html": [
       "<div>\n",
       "<style scoped>\n",
       "    .dataframe tbody tr th:only-of-type {\n",
       "        vertical-align: middle;\n",
       "    }\n",
       "\n",
       "    .dataframe tbody tr th {\n",
       "        vertical-align: top;\n",
       "    }\n",
       "\n",
       "    .dataframe thead th {\n",
       "        text-align: right;\n",
       "    }\n",
       "</style>\n",
       "<table border=\"1\" class=\"dataframe\">\n",
       "  <thead>\n",
       "    <tr style=\"text-align: right;\">\n",
       "      <th></th>\n",
       "      <th>Invoice</th>\n",
       "      <th>StockCode</th>\n",
       "      <th>Description</th>\n",
       "      <th>Quantity</th>\n",
       "      <th>InvoiceDate</th>\n",
       "      <th>Price</th>\n",
       "      <th>Customer ID</th>\n",
       "      <th>Country</th>\n",
       "    </tr>\n",
       "  </thead>\n",
       "  <tbody>\n",
       "    <tr>\n",
       "      <th>0</th>\n",
       "      <td>489434</td>\n",
       "      <td>85048</td>\n",
       "      <td>15CM CHRISTMAS GLASS BALL 20 LIGHTS</td>\n",
       "      <td>12</td>\n",
       "      <td>2009-12-01 07:45:00</td>\n",
       "      <td>6.95</td>\n",
       "      <td>13085.0</td>\n",
       "      <td>United Kingdom</td>\n",
       "    </tr>\n",
       "    <tr>\n",
       "      <th>1</th>\n",
       "      <td>489434</td>\n",
       "      <td>79323P</td>\n",
       "      <td>PINK CHERRY LIGHTS</td>\n",
       "      <td>12</td>\n",
       "      <td>2009-12-01 07:45:00</td>\n",
       "      <td>6.75</td>\n",
       "      <td>13085.0</td>\n",
       "      <td>United Kingdom</td>\n",
       "    </tr>\n",
       "    <tr>\n",
       "      <th>2</th>\n",
       "      <td>489434</td>\n",
       "      <td>79323W</td>\n",
       "      <td>WHITE CHERRY LIGHTS</td>\n",
       "      <td>12</td>\n",
       "      <td>2009-12-01 07:45:00</td>\n",
       "      <td>6.75</td>\n",
       "      <td>13085.0</td>\n",
       "      <td>United Kingdom</td>\n",
       "    </tr>\n",
       "    <tr>\n",
       "      <th>3</th>\n",
       "      <td>489434</td>\n",
       "      <td>22041</td>\n",
       "      <td>RECORD FRAME 7\" SINGLE SIZE</td>\n",
       "      <td>48</td>\n",
       "      <td>2009-12-01 07:45:00</td>\n",
       "      <td>2.10</td>\n",
       "      <td>13085.0</td>\n",
       "      <td>United Kingdom</td>\n",
       "    </tr>\n",
       "    <tr>\n",
       "      <th>4</th>\n",
       "      <td>489434</td>\n",
       "      <td>21232</td>\n",
       "      <td>STRAWBERRY CERAMIC TRINKET BOX</td>\n",
       "      <td>24</td>\n",
       "      <td>2009-12-01 07:45:00</td>\n",
       "      <td>1.25</td>\n",
       "      <td>13085.0</td>\n",
       "      <td>United Kingdom</td>\n",
       "    </tr>\n",
       "    <tr>\n",
       "      <th>...</th>\n",
       "      <td>...</td>\n",
       "      <td>...</td>\n",
       "      <td>...</td>\n",
       "      <td>...</td>\n",
       "      <td>...</td>\n",
       "      <td>...</td>\n",
       "      <td>...</td>\n",
       "      <td>...</td>\n",
       "    </tr>\n",
       "    <tr>\n",
       "      <th>1067366</th>\n",
       "      <td>581587</td>\n",
       "      <td>22899</td>\n",
       "      <td>CHILDREN'S APRON DOLLY GIRL</td>\n",
       "      <td>6</td>\n",
       "      <td>2011-12-09 12:50:00</td>\n",
       "      <td>2.10</td>\n",
       "      <td>12680.0</td>\n",
       "      <td>France</td>\n",
       "    </tr>\n",
       "    <tr>\n",
       "      <th>1067367</th>\n",
       "      <td>581587</td>\n",
       "      <td>23254</td>\n",
       "      <td>CHILDRENS CUTLERY DOLLY GIRL</td>\n",
       "      <td>4</td>\n",
       "      <td>2011-12-09 12:50:00</td>\n",
       "      <td>4.15</td>\n",
       "      <td>12680.0</td>\n",
       "      <td>France</td>\n",
       "    </tr>\n",
       "    <tr>\n",
       "      <th>1067368</th>\n",
       "      <td>581587</td>\n",
       "      <td>23255</td>\n",
       "      <td>CHILDRENS CUTLERY CIRCUS PARADE</td>\n",
       "      <td>4</td>\n",
       "      <td>2011-12-09 12:50:00</td>\n",
       "      <td>4.15</td>\n",
       "      <td>12680.0</td>\n",
       "      <td>France</td>\n",
       "    </tr>\n",
       "    <tr>\n",
       "      <th>1067369</th>\n",
       "      <td>581587</td>\n",
       "      <td>22138</td>\n",
       "      <td>BAKING SET 9 PIECE RETROSPOT</td>\n",
       "      <td>3</td>\n",
       "      <td>2011-12-09 12:50:00</td>\n",
       "      <td>4.95</td>\n",
       "      <td>12680.0</td>\n",
       "      <td>France</td>\n",
       "    </tr>\n",
       "    <tr>\n",
       "      <th>1067370</th>\n",
       "      <td>581587</td>\n",
       "      <td>POST</td>\n",
       "      <td>POSTAGE</td>\n",
       "      <td>1</td>\n",
       "      <td>2011-12-09 12:50:00</td>\n",
       "      <td>18.00</td>\n",
       "      <td>12680.0</td>\n",
       "      <td>France</td>\n",
       "    </tr>\n",
       "  </tbody>\n",
       "</table>\n",
       "<p>1013932 rows × 8 columns</p>\n",
       "</div>"
      ],
      "text/plain": [
       "        Invoice StockCode                          Description  Quantity  \\\n",
       "0        489434     85048  15CM CHRISTMAS GLASS BALL 20 LIGHTS        12   \n",
       "1        489434    79323P                   PINK CHERRY LIGHTS        12   \n",
       "2        489434    79323W                  WHITE CHERRY LIGHTS        12   \n",
       "3        489434     22041         RECORD FRAME 7\" SINGLE SIZE         48   \n",
       "4        489434     21232       STRAWBERRY CERAMIC TRINKET BOX        24   \n",
       "...         ...       ...                                  ...       ...   \n",
       "1067366  581587     22899         CHILDREN'S APRON DOLLY GIRL          6   \n",
       "1067367  581587     23254        CHILDRENS CUTLERY DOLLY GIRL          4   \n",
       "1067368  581587     23255      CHILDRENS CUTLERY CIRCUS PARADE         4   \n",
       "1067369  581587     22138        BAKING SET 9 PIECE RETROSPOT          3   \n",
       "1067370  581587      POST                              POSTAGE         1   \n",
       "\n",
       "                 InvoiceDate  Price  Customer ID         Country  \n",
       "0        2009-12-01 07:45:00   6.95      13085.0  United Kingdom  \n",
       "1        2009-12-01 07:45:00   6.75      13085.0  United Kingdom  \n",
       "2        2009-12-01 07:45:00   6.75      13085.0  United Kingdom  \n",
       "3        2009-12-01 07:45:00   2.10      13085.0  United Kingdom  \n",
       "4        2009-12-01 07:45:00   1.25      13085.0  United Kingdom  \n",
       "...                      ...    ...          ...             ...  \n",
       "1067366  2011-12-09 12:50:00   2.10      12680.0          France  \n",
       "1067367  2011-12-09 12:50:00   4.15      12680.0          France  \n",
       "1067368  2011-12-09 12:50:00   4.15      12680.0          France  \n",
       "1067369  2011-12-09 12:50:00   4.95      12680.0          France  \n",
       "1067370  2011-12-09 12:50:00  18.00      12680.0          France  \n",
       "\n",
       "[1013932 rows x 8 columns]"
      ]
     },
     "metadata": {},
     "output_type": "display_data"
    },
    {
     "data": {
      "text/html": [
       "<div>\n",
       "<style scoped>\n",
       "    .dataframe tbody tr th:only-of-type {\n",
       "        vertical-align: middle;\n",
       "    }\n",
       "\n",
       "    .dataframe tbody tr th {\n",
       "        vertical-align: top;\n",
       "    }\n",
       "\n",
       "    .dataframe thead th {\n",
       "        text-align: right;\n",
       "    }\n",
       "</style>\n",
       "<table border=\"1\" class=\"dataframe\">\n",
       "  <thead>\n",
       "    <tr style=\"text-align: right;\">\n",
       "      <th></th>\n",
       "      <th>Invoice</th>\n",
       "      <th>StockCode</th>\n",
       "      <th>Description</th>\n",
       "      <th>Quantity</th>\n",
       "      <th>InvoiceDate</th>\n",
       "      <th>Price</th>\n",
       "      <th>Customer ID</th>\n",
       "      <th>Country</th>\n",
       "    </tr>\n",
       "  </thead>\n",
       "  <tbody>\n",
       "    <tr>\n",
       "      <th>178</th>\n",
       "      <td>C489449</td>\n",
       "      <td>22087</td>\n",
       "      <td>PAPER BUNTING WHITE LACE</td>\n",
       "      <td>-12</td>\n",
       "      <td>2009-12-01 10:33:00</td>\n",
       "      <td>2.95</td>\n",
       "      <td>16321.0</td>\n",
       "      <td>Australia</td>\n",
       "    </tr>\n",
       "    <tr>\n",
       "      <th>179</th>\n",
       "      <td>C489449</td>\n",
       "      <td>85206A</td>\n",
       "      <td>CREAM FELT EASTER EGG BASKET</td>\n",
       "      <td>-6</td>\n",
       "      <td>2009-12-01 10:33:00</td>\n",
       "      <td>1.65</td>\n",
       "      <td>16321.0</td>\n",
       "      <td>Australia</td>\n",
       "    </tr>\n",
       "    <tr>\n",
       "      <th>180</th>\n",
       "      <td>C489449</td>\n",
       "      <td>21895</td>\n",
       "      <td>POTTING SHED SOW 'N' GROW SET</td>\n",
       "      <td>-4</td>\n",
       "      <td>2009-12-01 10:33:00</td>\n",
       "      <td>4.25</td>\n",
       "      <td>16321.0</td>\n",
       "      <td>Australia</td>\n",
       "    </tr>\n",
       "    <tr>\n",
       "      <th>181</th>\n",
       "      <td>C489449</td>\n",
       "      <td>21896</td>\n",
       "      <td>POTTING SHED TWINE</td>\n",
       "      <td>-6</td>\n",
       "      <td>2009-12-01 10:33:00</td>\n",
       "      <td>2.10</td>\n",
       "      <td>16321.0</td>\n",
       "      <td>Australia</td>\n",
       "    </tr>\n",
       "    <tr>\n",
       "      <th>182</th>\n",
       "      <td>C489449</td>\n",
       "      <td>22083</td>\n",
       "      <td>PAPER CHAIN KIT RETRO SPOT</td>\n",
       "      <td>-12</td>\n",
       "      <td>2009-12-01 10:33:00</td>\n",
       "      <td>2.95</td>\n",
       "      <td>16321.0</td>\n",
       "      <td>Australia</td>\n",
       "    </tr>\n",
       "    <tr>\n",
       "      <th>...</th>\n",
       "      <td>...</td>\n",
       "      <td>...</td>\n",
       "      <td>...</td>\n",
       "      <td>...</td>\n",
       "      <td>...</td>\n",
       "      <td>...</td>\n",
       "      <td>...</td>\n",
       "      <td>...</td>\n",
       "    </tr>\n",
       "    <tr>\n",
       "      <th>1065910</th>\n",
       "      <td>C581490</td>\n",
       "      <td>23144</td>\n",
       "      <td>ZINC T-LIGHT HOLDER STARS SMALL</td>\n",
       "      <td>-11</td>\n",
       "      <td>2011-12-09 09:57:00</td>\n",
       "      <td>0.83</td>\n",
       "      <td>14397.0</td>\n",
       "      <td>United Kingdom</td>\n",
       "    </tr>\n",
       "    <tr>\n",
       "      <th>1067002</th>\n",
       "      <td>C581499</td>\n",
       "      <td>M</td>\n",
       "      <td>Manual</td>\n",
       "      <td>-1</td>\n",
       "      <td>2011-12-09 10:28:00</td>\n",
       "      <td>224.69</td>\n",
       "      <td>15498.0</td>\n",
       "      <td>United Kingdom</td>\n",
       "    </tr>\n",
       "    <tr>\n",
       "      <th>1067176</th>\n",
       "      <td>C581568</td>\n",
       "      <td>21258</td>\n",
       "      <td>VICTORIAN SEWING BOX LARGE</td>\n",
       "      <td>-5</td>\n",
       "      <td>2011-12-09 11:57:00</td>\n",
       "      <td>10.95</td>\n",
       "      <td>15311.0</td>\n",
       "      <td>United Kingdom</td>\n",
       "    </tr>\n",
       "    <tr>\n",
       "      <th>1067177</th>\n",
       "      <td>C581569</td>\n",
       "      <td>84978</td>\n",
       "      <td>HANGING HEART JAR T-LIGHT HOLDER</td>\n",
       "      <td>-1</td>\n",
       "      <td>2011-12-09 11:58:00</td>\n",
       "      <td>1.25</td>\n",
       "      <td>17315.0</td>\n",
       "      <td>United Kingdom</td>\n",
       "    </tr>\n",
       "    <tr>\n",
       "      <th>1067178</th>\n",
       "      <td>C581569</td>\n",
       "      <td>20979</td>\n",
       "      <td>36 PENCILS TUBE RED RETROSPOT</td>\n",
       "      <td>-5</td>\n",
       "      <td>2011-12-09 11:58:00</td>\n",
       "      <td>1.25</td>\n",
       "      <td>17315.0</td>\n",
       "      <td>United Kingdom</td>\n",
       "    </tr>\n",
       "  </tbody>\n",
       "</table>\n",
       "<p>19104 rows × 8 columns</p>\n",
       "</div>"
      ],
      "text/plain": [
       "         Invoice StockCode                       Description  Quantity  \\\n",
       "178      C489449     22087          PAPER BUNTING WHITE LACE       -12   \n",
       "179      C489449    85206A      CREAM FELT EASTER EGG BASKET        -6   \n",
       "180      C489449     21895     POTTING SHED SOW 'N' GROW SET        -4   \n",
       "181      C489449     21896                POTTING SHED TWINE        -6   \n",
       "182      C489449     22083        PAPER CHAIN KIT RETRO SPOT       -12   \n",
       "...          ...       ...                               ...       ...   \n",
       "1065910  C581490     23144   ZINC T-LIGHT HOLDER STARS SMALL       -11   \n",
       "1067002  C581499         M                            Manual        -1   \n",
       "1067176  C581568     21258        VICTORIAN SEWING BOX LARGE        -5   \n",
       "1067177  C581569     84978  HANGING HEART JAR T-LIGHT HOLDER        -1   \n",
       "1067178  C581569     20979     36 PENCILS TUBE RED RETROSPOT        -5   \n",
       "\n",
       "                 InvoiceDate   Price  Customer ID         Country  \n",
       "178      2009-12-01 10:33:00    2.95      16321.0       Australia  \n",
       "179      2009-12-01 10:33:00    1.65      16321.0       Australia  \n",
       "180      2009-12-01 10:33:00    4.25      16321.0       Australia  \n",
       "181      2009-12-01 10:33:00    2.10      16321.0       Australia  \n",
       "182      2009-12-01 10:33:00    2.95      16321.0       Australia  \n",
       "...                      ...     ...          ...             ...  \n",
       "1065910  2011-12-09 09:57:00    0.83      14397.0  United Kingdom  \n",
       "1067002  2011-12-09 10:28:00  224.69      15498.0  United Kingdom  \n",
       "1067176  2011-12-09 11:57:00   10.95      15311.0  United Kingdom  \n",
       "1067177  2011-12-09 11:58:00    1.25      17315.0  United Kingdom  \n",
       "1067178  2011-12-09 11:58:00    1.25      17315.0  United Kingdom  \n",
       "\n",
       "[19104 rows x 8 columns]"
      ]
     },
     "metadata": {},
     "output_type": "display_data"
    }
   ],
   "source": [
    "cancel_condition = df['Invoice'].apply(lambda x: x[0] == 'C')\n",
    "nc = df[~cancel_condition]\n",
    "display(nc, df[cancel_condition])"
   ]
  },
  {
   "cell_type": "markdown",
   "metadata": {},
   "source": [
    "The invoice is a unique identifier, assuming that numbers denote the customers purchasing with a multiple items. So we have to check."
   ]
  },
  {
   "cell_type": "code",
   "execution_count": 18,
   "metadata": {
    "ExecuteTime": {
     "end_time": "2020-08-03T16:14:04.398585Z",
     "start_time": "2020-08-03T16:14:04.251450Z"
    }
   },
   "outputs": [
    {
     "data": {
      "text/html": [
       "<div>\n",
       "<style scoped>\n",
       "    .dataframe tbody tr th:only-of-type {\n",
       "        vertical-align: middle;\n",
       "    }\n",
       "\n",
       "    .dataframe tbody tr th {\n",
       "        vertical-align: top;\n",
       "    }\n",
       "\n",
       "    .dataframe thead th {\n",
       "        text-align: right;\n",
       "    }\n",
       "</style>\n",
       "<table border=\"1\" class=\"dataframe\">\n",
       "  <thead>\n",
       "    <tr style=\"text-align: right;\">\n",
       "      <th></th>\n",
       "      <th>Invoice</th>\n",
       "      <th>StockCode</th>\n",
       "      <th>Description</th>\n",
       "      <th>Quantity</th>\n",
       "      <th>InvoiceDate</th>\n",
       "      <th>Price</th>\n",
       "      <th>Customer ID</th>\n",
       "      <th>Country</th>\n",
       "    </tr>\n",
       "  </thead>\n",
       "  <tbody>\n",
       "    <tr>\n",
       "      <th>1067355</th>\n",
       "      <td>581587</td>\n",
       "      <td>22631</td>\n",
       "      <td>CIRCUS PARADE LUNCH BOX</td>\n",
       "      <td>12</td>\n",
       "      <td>2011-12-09 12:50:00</td>\n",
       "      <td>1.95</td>\n",
       "      <td>12680.0</td>\n",
       "      <td>France</td>\n",
       "    </tr>\n",
       "    <tr>\n",
       "      <th>1067356</th>\n",
       "      <td>581587</td>\n",
       "      <td>22556</td>\n",
       "      <td>PLASTERS IN TIN CIRCUS PARADE</td>\n",
       "      <td>12</td>\n",
       "      <td>2011-12-09 12:50:00</td>\n",
       "      <td>1.65</td>\n",
       "      <td>12680.0</td>\n",
       "      <td>France</td>\n",
       "    </tr>\n",
       "    <tr>\n",
       "      <th>1067357</th>\n",
       "      <td>581587</td>\n",
       "      <td>22555</td>\n",
       "      <td>PLASTERS IN TIN STRONGMAN</td>\n",
       "      <td>12</td>\n",
       "      <td>2011-12-09 12:50:00</td>\n",
       "      <td>1.65</td>\n",
       "      <td>12680.0</td>\n",
       "      <td>France</td>\n",
       "    </tr>\n",
       "    <tr>\n",
       "      <th>1067358</th>\n",
       "      <td>581587</td>\n",
       "      <td>22728</td>\n",
       "      <td>ALARM CLOCK BAKELIKE PINK</td>\n",
       "      <td>4</td>\n",
       "      <td>2011-12-09 12:50:00</td>\n",
       "      <td>3.75</td>\n",
       "      <td>12680.0</td>\n",
       "      <td>France</td>\n",
       "    </tr>\n",
       "    <tr>\n",
       "      <th>1067359</th>\n",
       "      <td>581587</td>\n",
       "      <td>22727</td>\n",
       "      <td>ALARM CLOCK BAKELIKE RED</td>\n",
       "      <td>4</td>\n",
       "      <td>2011-12-09 12:50:00</td>\n",
       "      <td>3.75</td>\n",
       "      <td>12680.0</td>\n",
       "      <td>France</td>\n",
       "    </tr>\n",
       "    <tr>\n",
       "      <th>1067360</th>\n",
       "      <td>581587</td>\n",
       "      <td>22726</td>\n",
       "      <td>ALARM CLOCK BAKELIKE GREEN</td>\n",
       "      <td>4</td>\n",
       "      <td>2011-12-09 12:50:00</td>\n",
       "      <td>3.75</td>\n",
       "      <td>12680.0</td>\n",
       "      <td>France</td>\n",
       "    </tr>\n",
       "    <tr>\n",
       "      <th>1067361</th>\n",
       "      <td>581587</td>\n",
       "      <td>22730</td>\n",
       "      <td>ALARM CLOCK BAKELIKE IVORY</td>\n",
       "      <td>4</td>\n",
       "      <td>2011-12-09 12:50:00</td>\n",
       "      <td>3.75</td>\n",
       "      <td>12680.0</td>\n",
       "      <td>France</td>\n",
       "    </tr>\n",
       "    <tr>\n",
       "      <th>1067362</th>\n",
       "      <td>581587</td>\n",
       "      <td>22367</td>\n",
       "      <td>CHILDRENS APRON SPACEBOY DESIGN</td>\n",
       "      <td>8</td>\n",
       "      <td>2011-12-09 12:50:00</td>\n",
       "      <td>1.95</td>\n",
       "      <td>12680.0</td>\n",
       "      <td>France</td>\n",
       "    </tr>\n",
       "    <tr>\n",
       "      <th>1067363</th>\n",
       "      <td>581587</td>\n",
       "      <td>22629</td>\n",
       "      <td>SPACEBOY LUNCH BOX</td>\n",
       "      <td>12</td>\n",
       "      <td>2011-12-09 12:50:00</td>\n",
       "      <td>1.95</td>\n",
       "      <td>12680.0</td>\n",
       "      <td>France</td>\n",
       "    </tr>\n",
       "    <tr>\n",
       "      <th>1067364</th>\n",
       "      <td>581587</td>\n",
       "      <td>23256</td>\n",
       "      <td>CHILDRENS CUTLERY SPACEBOY</td>\n",
       "      <td>4</td>\n",
       "      <td>2011-12-09 12:50:00</td>\n",
       "      <td>4.15</td>\n",
       "      <td>12680.0</td>\n",
       "      <td>France</td>\n",
       "    </tr>\n",
       "    <tr>\n",
       "      <th>1067365</th>\n",
       "      <td>581587</td>\n",
       "      <td>22613</td>\n",
       "      <td>PACK OF 20 SPACEBOY NAPKINS</td>\n",
       "      <td>12</td>\n",
       "      <td>2011-12-09 12:50:00</td>\n",
       "      <td>0.85</td>\n",
       "      <td>12680.0</td>\n",
       "      <td>France</td>\n",
       "    </tr>\n",
       "    <tr>\n",
       "      <th>1067366</th>\n",
       "      <td>581587</td>\n",
       "      <td>22899</td>\n",
       "      <td>CHILDREN'S APRON DOLLY GIRL</td>\n",
       "      <td>6</td>\n",
       "      <td>2011-12-09 12:50:00</td>\n",
       "      <td>2.10</td>\n",
       "      <td>12680.0</td>\n",
       "      <td>France</td>\n",
       "    </tr>\n",
       "    <tr>\n",
       "      <th>1067367</th>\n",
       "      <td>581587</td>\n",
       "      <td>23254</td>\n",
       "      <td>CHILDRENS CUTLERY DOLLY GIRL</td>\n",
       "      <td>4</td>\n",
       "      <td>2011-12-09 12:50:00</td>\n",
       "      <td>4.15</td>\n",
       "      <td>12680.0</td>\n",
       "      <td>France</td>\n",
       "    </tr>\n",
       "    <tr>\n",
       "      <th>1067368</th>\n",
       "      <td>581587</td>\n",
       "      <td>23255</td>\n",
       "      <td>CHILDRENS CUTLERY CIRCUS PARADE</td>\n",
       "      <td>4</td>\n",
       "      <td>2011-12-09 12:50:00</td>\n",
       "      <td>4.15</td>\n",
       "      <td>12680.0</td>\n",
       "      <td>France</td>\n",
       "    </tr>\n",
       "    <tr>\n",
       "      <th>1067369</th>\n",
       "      <td>581587</td>\n",
       "      <td>22138</td>\n",
       "      <td>BAKING SET 9 PIECE RETROSPOT</td>\n",
       "      <td>3</td>\n",
       "      <td>2011-12-09 12:50:00</td>\n",
       "      <td>4.95</td>\n",
       "      <td>12680.0</td>\n",
       "      <td>France</td>\n",
       "    </tr>\n",
       "    <tr>\n",
       "      <th>1067370</th>\n",
       "      <td>581587</td>\n",
       "      <td>POST</td>\n",
       "      <td>POSTAGE</td>\n",
       "      <td>1</td>\n",
       "      <td>2011-12-09 12:50:00</td>\n",
       "      <td>18.00</td>\n",
       "      <td>12680.0</td>\n",
       "      <td>France</td>\n",
       "    </tr>\n",
       "  </tbody>\n",
       "</table>\n",
       "</div>"
      ],
      "text/plain": [
       "        Invoice StockCode                      Description  Quantity  \\\n",
       "1067355  581587     22631         CIRCUS PARADE LUNCH BOX         12   \n",
       "1067356  581587     22556   PLASTERS IN TIN CIRCUS PARADE         12   \n",
       "1067357  581587     22555        PLASTERS IN TIN STRONGMAN        12   \n",
       "1067358  581587     22728        ALARM CLOCK BAKELIKE PINK         4   \n",
       "1067359  581587     22727        ALARM CLOCK BAKELIKE RED          4   \n",
       "1067360  581587     22726       ALARM CLOCK BAKELIKE GREEN         4   \n",
       "1067361  581587     22730       ALARM CLOCK BAKELIKE IVORY         4   \n",
       "1067362  581587     22367  CHILDRENS APRON SPACEBOY DESIGN         8   \n",
       "1067363  581587     22629              SPACEBOY LUNCH BOX         12   \n",
       "1067364  581587     23256      CHILDRENS CUTLERY SPACEBOY          4   \n",
       "1067365  581587     22613      PACK OF 20 SPACEBOY NAPKINS        12   \n",
       "1067366  581587     22899     CHILDREN'S APRON DOLLY GIRL          6   \n",
       "1067367  581587     23254    CHILDRENS CUTLERY DOLLY GIRL          4   \n",
       "1067368  581587     23255  CHILDRENS CUTLERY CIRCUS PARADE         4   \n",
       "1067369  581587     22138    BAKING SET 9 PIECE RETROSPOT          3   \n",
       "1067370  581587      POST                          POSTAGE         1   \n",
       "\n",
       "                 InvoiceDate  Price  Customer ID Country  \n",
       "1067355  2011-12-09 12:50:00   1.95      12680.0  France  \n",
       "1067356  2011-12-09 12:50:00   1.65      12680.0  France  \n",
       "1067357  2011-12-09 12:50:00   1.65      12680.0  France  \n",
       "1067358  2011-12-09 12:50:00   3.75      12680.0  France  \n",
       "1067359  2011-12-09 12:50:00   3.75      12680.0  France  \n",
       "1067360  2011-12-09 12:50:00   3.75      12680.0  France  \n",
       "1067361  2011-12-09 12:50:00   3.75      12680.0  France  \n",
       "1067362  2011-12-09 12:50:00   1.95      12680.0  France  \n",
       "1067363  2011-12-09 12:50:00   1.95      12680.0  France  \n",
       "1067364  2011-12-09 12:50:00   4.15      12680.0  France  \n",
       "1067365  2011-12-09 12:50:00   0.85      12680.0  France  \n",
       "1067366  2011-12-09 12:50:00   2.10      12680.0  France  \n",
       "1067367  2011-12-09 12:50:00   4.15      12680.0  France  \n",
       "1067368  2011-12-09 12:50:00   4.15      12680.0  France  \n",
       "1067369  2011-12-09 12:50:00   4.95      12680.0  France  \n",
       "1067370  2011-12-09 12:50:00  18.00      12680.0  France  "
      ]
     },
     "execution_count": 18,
     "metadata": {},
     "output_type": "execute_result"
    }
   ],
   "source": [
    "nc[nc['Invoice'] == '581587']"
   ]
  },
  {
   "cell_type": "code",
   "execution_count": 19,
   "metadata": {
    "ExecuteTime": {
     "end_time": "2020-08-03T16:14:05.007997Z",
     "start_time": "2020-08-03T16:14:04.410570Z"
    }
   },
   "outputs": [
    {
     "data": {
      "text/html": [
       "<div>\n",
       "<style scoped>\n",
       "    .dataframe tbody tr th:only-of-type {\n",
       "        vertical-align: middle;\n",
       "    }\n",
       "\n",
       "    .dataframe tbody tr th {\n",
       "        vertical-align: top;\n",
       "    }\n",
       "\n",
       "    .dataframe thead th {\n",
       "        text-align: right;\n",
       "    }\n",
       "</style>\n",
       "<table border=\"1\" class=\"dataframe\">\n",
       "  <thead>\n",
       "    <tr style=\"text-align: right;\">\n",
       "      <th></th>\n",
       "      <th>Invoice</th>\n",
       "      <th>StockCode</th>\n",
       "      <th>Description</th>\n",
       "      <th>Quantity</th>\n",
       "      <th>InvoiceDate</th>\n",
       "      <th>Price</th>\n",
       "      <th>Country</th>\n",
       "    </tr>\n",
       "    <tr>\n",
       "      <th>Customer ID</th>\n",
       "      <th></th>\n",
       "      <th></th>\n",
       "      <th></th>\n",
       "      <th></th>\n",
       "      <th></th>\n",
       "      <th></th>\n",
       "      <th></th>\n",
       "    </tr>\n",
       "  </thead>\n",
       "  <tbody>\n",
       "    <tr>\n",
       "      <th>12346.0</th>\n",
       "      <td>34</td>\n",
       "      <td>34</td>\n",
       "      <td>34</td>\n",
       "      <td>34</td>\n",
       "      <td>34</td>\n",
       "      <td>34</td>\n",
       "      <td>34</td>\n",
       "    </tr>\n",
       "    <tr>\n",
       "      <th>12347.0</th>\n",
       "      <td>222</td>\n",
       "      <td>222</td>\n",
       "      <td>222</td>\n",
       "      <td>222</td>\n",
       "      <td>222</td>\n",
       "      <td>222</td>\n",
       "      <td>222</td>\n",
       "    </tr>\n",
       "    <tr>\n",
       "      <th>12348.0</th>\n",
       "      <td>51</td>\n",
       "      <td>51</td>\n",
       "      <td>51</td>\n",
       "      <td>51</td>\n",
       "      <td>51</td>\n",
       "      <td>51</td>\n",
       "      <td>51</td>\n",
       "    </tr>\n",
       "    <tr>\n",
       "      <th>12349.0</th>\n",
       "      <td>175</td>\n",
       "      <td>175</td>\n",
       "      <td>175</td>\n",
       "      <td>175</td>\n",
       "      <td>175</td>\n",
       "      <td>175</td>\n",
       "      <td>175</td>\n",
       "    </tr>\n",
       "    <tr>\n",
       "      <th>12350.0</th>\n",
       "      <td>17</td>\n",
       "      <td>17</td>\n",
       "      <td>17</td>\n",
       "      <td>17</td>\n",
       "      <td>17</td>\n",
       "      <td>17</td>\n",
       "      <td>17</td>\n",
       "    </tr>\n",
       "    <tr>\n",
       "      <th>...</th>\n",
       "      <td>...</td>\n",
       "      <td>...</td>\n",
       "      <td>...</td>\n",
       "      <td>...</td>\n",
       "      <td>...</td>\n",
       "      <td>...</td>\n",
       "      <td>...</td>\n",
       "    </tr>\n",
       "    <tr>\n",
       "      <th>18283.0</th>\n",
       "      <td>938</td>\n",
       "      <td>938</td>\n",
       "      <td>938</td>\n",
       "      <td>938</td>\n",
       "      <td>938</td>\n",
       "      <td>938</td>\n",
       "      <td>938</td>\n",
       "    </tr>\n",
       "    <tr>\n",
       "      <th>18284.0</th>\n",
       "      <td>28</td>\n",
       "      <td>28</td>\n",
       "      <td>28</td>\n",
       "      <td>28</td>\n",
       "      <td>28</td>\n",
       "      <td>28</td>\n",
       "      <td>28</td>\n",
       "    </tr>\n",
       "    <tr>\n",
       "      <th>18285.0</th>\n",
       "      <td>12</td>\n",
       "      <td>12</td>\n",
       "      <td>12</td>\n",
       "      <td>12</td>\n",
       "      <td>12</td>\n",
       "      <td>12</td>\n",
       "      <td>12</td>\n",
       "    </tr>\n",
       "    <tr>\n",
       "      <th>18286.0</th>\n",
       "      <td>67</td>\n",
       "      <td>67</td>\n",
       "      <td>67</td>\n",
       "      <td>67</td>\n",
       "      <td>67</td>\n",
       "      <td>67</td>\n",
       "      <td>67</td>\n",
       "    </tr>\n",
       "    <tr>\n",
       "      <th>18287.0</th>\n",
       "      <td>155</td>\n",
       "      <td>155</td>\n",
       "      <td>155</td>\n",
       "      <td>155</td>\n",
       "      <td>155</td>\n",
       "      <td>155</td>\n",
       "      <td>155</td>\n",
       "    </tr>\n",
       "  </tbody>\n",
       "</table>\n",
       "<p>5881 rows × 7 columns</p>\n",
       "</div>"
      ],
      "text/plain": [
       "             Invoice  StockCode  Description  Quantity  InvoiceDate  Price  \\\n",
       "Customer ID                                                                  \n",
       "12346.0           34         34           34        34           34     34   \n",
       "12347.0          222        222          222       222          222    222   \n",
       "12348.0           51         51           51        51           51     51   \n",
       "12349.0          175        175          175       175          175    175   \n",
       "12350.0           17         17           17        17           17     17   \n",
       "...              ...        ...          ...       ...          ...    ...   \n",
       "18283.0          938        938          938       938          938    938   \n",
       "18284.0           28         28           28        28           28     28   \n",
       "18285.0           12         12           12        12           12     12   \n",
       "18286.0           67         67           67        67           67     67   \n",
       "18287.0          155        155          155       155          155    155   \n",
       "\n",
       "             Country  \n",
       "Customer ID           \n",
       "12346.0           34  \n",
       "12347.0          222  \n",
       "12348.0           51  \n",
       "12349.0          175  \n",
       "12350.0           17  \n",
       "...              ...  \n",
       "18283.0          938  \n",
       "18284.0           28  \n",
       "18285.0           12  \n",
       "18286.0           67  \n",
       "18287.0          155  \n",
       "\n",
       "[5881 rows x 7 columns]"
      ]
     },
     "execution_count": 19,
     "metadata": {},
     "output_type": "execute_result"
    }
   ],
   "source": [
    "nc.groupby('Customer ID').count()"
   ]
  },
  {
   "cell_type": "markdown",
   "metadata": {},
   "source": [
    "I think that customers has purchased multiple items, so it's makes sense. Doesn't need a manipulation in this case."
   ]
  },
  {
   "cell_type": "markdown",
   "metadata": {},
   "source": [
    "**From understanding `Invoice` feature, separate the *cancelation* purchase is the best way to continue analyzing this data. Holding that *Cancelation* or *C* at this data make a bias for further analysis so I'm gonna remove that.**"
   ]
  },
  {
   "cell_type": "markdown",
   "metadata": {},
   "source": [
    "### b. `StockCode`\n",
    "\n",
    "- StockCode: Product (item) code. Nominal. A 5-digit integral number uniquely assigned to each distinct product."
   ]
  },
  {
   "cell_type": "markdown",
   "metadata": {},
   "source": [
    "**From `StockCode` *feature* description that item code have a 5 digit number uniquely**"
   ]
  },
  {
   "cell_type": "raw",
   "metadata": {
    "ExecuteTime": {
     "end_time": "2020-08-02T12:33:01.389796Z",
     "start_time": "2020-08-02T12:33:01.037422Z"
    }
   },
   "source": [
    "# Slicing the condition that code has 5 digit number\n",
    "stock = nc['StockCode'].apply(lambda x : len(x) < 6)\n",
    "\n",
    "nc[stock]"
   ]
  },
  {
   "cell_type": "code",
   "execution_count": 21,
   "metadata": {
    "ExecuteTime": {
     "end_time": "2020-08-03T16:14:05.069236Z",
     "start_time": "2020-08-03T16:14:05.057242Z"
    }
   },
   "outputs": [
    {
     "data": {
      "text/plain": [
       "True"
      ]
     },
     "execution_count": 21,
     "metadata": {},
     "output_type": "execute_result"
    }
   ],
   "source": [
    "a = '79323W'\n",
    "a[:5].isnumeric()"
   ]
  },
  {
   "cell_type": "code",
   "execution_count": 22,
   "metadata": {
    "ExecuteTime": {
     "end_time": "2020-08-03T16:14:05.816445Z",
     "start_time": "2020-08-03T16:14:05.075115Z"
    }
   },
   "outputs": [
    {
     "data": {
      "text/html": [
       "<div>\n",
       "<style scoped>\n",
       "    .dataframe tbody tr th:only-of-type {\n",
       "        vertical-align: middle;\n",
       "    }\n",
       "\n",
       "    .dataframe tbody tr th {\n",
       "        vertical-align: top;\n",
       "    }\n",
       "\n",
       "    .dataframe thead th {\n",
       "        text-align: right;\n",
       "    }\n",
       "</style>\n",
       "<table border=\"1\" class=\"dataframe\">\n",
       "  <thead>\n",
       "    <tr style=\"text-align: right;\">\n",
       "      <th></th>\n",
       "      <th>Invoice</th>\n",
       "      <th>StockCode</th>\n",
       "      <th>Description</th>\n",
       "      <th>Quantity</th>\n",
       "      <th>InvoiceDate</th>\n",
       "      <th>Price</th>\n",
       "      <th>Customer ID</th>\n",
       "      <th>Country</th>\n",
       "    </tr>\n",
       "  </thead>\n",
       "  <tbody>\n",
       "    <tr>\n",
       "      <th>0</th>\n",
       "      <td>489434</td>\n",
       "      <td>85048</td>\n",
       "      <td>15CM CHRISTMAS GLASS BALL 20 LIGHTS</td>\n",
       "      <td>12</td>\n",
       "      <td>2009-12-01 07:45:00</td>\n",
       "      <td>6.95</td>\n",
       "      <td>13085.0</td>\n",
       "      <td>United Kingdom</td>\n",
       "    </tr>\n",
       "    <tr>\n",
       "      <th>1</th>\n",
       "      <td>489434</td>\n",
       "      <td>79323P</td>\n",
       "      <td>PINK CHERRY LIGHTS</td>\n",
       "      <td>12</td>\n",
       "      <td>2009-12-01 07:45:00</td>\n",
       "      <td>6.75</td>\n",
       "      <td>13085.0</td>\n",
       "      <td>United Kingdom</td>\n",
       "    </tr>\n",
       "    <tr>\n",
       "      <th>2</th>\n",
       "      <td>489434</td>\n",
       "      <td>79323W</td>\n",
       "      <td>WHITE CHERRY LIGHTS</td>\n",
       "      <td>12</td>\n",
       "      <td>2009-12-01 07:45:00</td>\n",
       "      <td>6.75</td>\n",
       "      <td>13085.0</td>\n",
       "      <td>United Kingdom</td>\n",
       "    </tr>\n",
       "    <tr>\n",
       "      <th>3</th>\n",
       "      <td>489434</td>\n",
       "      <td>22041</td>\n",
       "      <td>RECORD FRAME 7\" SINGLE SIZE</td>\n",
       "      <td>48</td>\n",
       "      <td>2009-12-01 07:45:00</td>\n",
       "      <td>2.10</td>\n",
       "      <td>13085.0</td>\n",
       "      <td>United Kingdom</td>\n",
       "    </tr>\n",
       "    <tr>\n",
       "      <th>4</th>\n",
       "      <td>489434</td>\n",
       "      <td>21232</td>\n",
       "      <td>STRAWBERRY CERAMIC TRINKET BOX</td>\n",
       "      <td>24</td>\n",
       "      <td>2009-12-01 07:45:00</td>\n",
       "      <td>1.25</td>\n",
       "      <td>13085.0</td>\n",
       "      <td>United Kingdom</td>\n",
       "    </tr>\n",
       "    <tr>\n",
       "      <th>...</th>\n",
       "      <td>...</td>\n",
       "      <td>...</td>\n",
       "      <td>...</td>\n",
       "      <td>...</td>\n",
       "      <td>...</td>\n",
       "      <td>...</td>\n",
       "      <td>...</td>\n",
       "      <td>...</td>\n",
       "    </tr>\n",
       "    <tr>\n",
       "      <th>1067365</th>\n",
       "      <td>581587</td>\n",
       "      <td>22613</td>\n",
       "      <td>PACK OF 20 SPACEBOY NAPKINS</td>\n",
       "      <td>12</td>\n",
       "      <td>2011-12-09 12:50:00</td>\n",
       "      <td>0.85</td>\n",
       "      <td>12680.0</td>\n",
       "      <td>France</td>\n",
       "    </tr>\n",
       "    <tr>\n",
       "      <th>1067366</th>\n",
       "      <td>581587</td>\n",
       "      <td>22899</td>\n",
       "      <td>CHILDREN'S APRON DOLLY GIRL</td>\n",
       "      <td>6</td>\n",
       "      <td>2011-12-09 12:50:00</td>\n",
       "      <td>2.10</td>\n",
       "      <td>12680.0</td>\n",
       "      <td>France</td>\n",
       "    </tr>\n",
       "    <tr>\n",
       "      <th>1067367</th>\n",
       "      <td>581587</td>\n",
       "      <td>23254</td>\n",
       "      <td>CHILDRENS CUTLERY DOLLY GIRL</td>\n",
       "      <td>4</td>\n",
       "      <td>2011-12-09 12:50:00</td>\n",
       "      <td>4.15</td>\n",
       "      <td>12680.0</td>\n",
       "      <td>France</td>\n",
       "    </tr>\n",
       "    <tr>\n",
       "      <th>1067368</th>\n",
       "      <td>581587</td>\n",
       "      <td>23255</td>\n",
       "      <td>CHILDRENS CUTLERY CIRCUS PARADE</td>\n",
       "      <td>4</td>\n",
       "      <td>2011-12-09 12:50:00</td>\n",
       "      <td>4.15</td>\n",
       "      <td>12680.0</td>\n",
       "      <td>France</td>\n",
       "    </tr>\n",
       "    <tr>\n",
       "      <th>1067369</th>\n",
       "      <td>581587</td>\n",
       "      <td>22138</td>\n",
       "      <td>BAKING SET 9 PIECE RETROSPOT</td>\n",
       "      <td>3</td>\n",
       "      <td>2011-12-09 12:50:00</td>\n",
       "      <td>4.95</td>\n",
       "      <td>12680.0</td>\n",
       "      <td>France</td>\n",
       "    </tr>\n",
       "  </tbody>\n",
       "</table>\n",
       "<p>1009142 rows × 8 columns</p>\n",
       "</div>"
      ],
      "text/plain": [
       "        Invoice StockCode                          Description  Quantity  \\\n",
       "0        489434     85048  15CM CHRISTMAS GLASS BALL 20 LIGHTS        12   \n",
       "1        489434    79323P                   PINK CHERRY LIGHTS        12   \n",
       "2        489434    79323W                  WHITE CHERRY LIGHTS        12   \n",
       "3        489434     22041         RECORD FRAME 7\" SINGLE SIZE         48   \n",
       "4        489434     21232       STRAWBERRY CERAMIC TRINKET BOX        24   \n",
       "...         ...       ...                                  ...       ...   \n",
       "1067365  581587     22613          PACK OF 20 SPACEBOY NAPKINS        12   \n",
       "1067366  581587     22899         CHILDREN'S APRON DOLLY GIRL          6   \n",
       "1067367  581587     23254        CHILDRENS CUTLERY DOLLY GIRL          4   \n",
       "1067368  581587     23255      CHILDRENS CUTLERY CIRCUS PARADE         4   \n",
       "1067369  581587     22138        BAKING SET 9 PIECE RETROSPOT          3   \n",
       "\n",
       "                 InvoiceDate  Price  Customer ID         Country  \n",
       "0        2009-12-01 07:45:00   6.95      13085.0  United Kingdom  \n",
       "1        2009-12-01 07:45:00   6.75      13085.0  United Kingdom  \n",
       "2        2009-12-01 07:45:00   6.75      13085.0  United Kingdom  \n",
       "3        2009-12-01 07:45:00   2.10      13085.0  United Kingdom  \n",
       "4        2009-12-01 07:45:00   1.25      13085.0  United Kingdom  \n",
       "...                      ...    ...          ...             ...  \n",
       "1067365  2011-12-09 12:50:00   0.85      12680.0          France  \n",
       "1067366  2011-12-09 12:50:00   2.10      12680.0          France  \n",
       "1067367  2011-12-09 12:50:00   4.15      12680.0          France  \n",
       "1067368  2011-12-09 12:50:00   4.15      12680.0          France  \n",
       "1067369  2011-12-09 12:50:00   4.95      12680.0          France  \n",
       "\n",
       "[1009142 rows x 8 columns]"
      ]
     },
     "execution_count": 22,
     "metadata": {},
     "output_type": "execute_result"
    }
   ],
   "source": [
    "stockrules = nc['StockCode'].apply(lambda x: x[:5].isnumeric())\n",
    "nc[stockrules]"
   ]
  },
  {
   "cell_type": "markdown",
   "metadata": {},
   "source": [
    "**According thr description of `StockCode` that stock code have a 5 digit number. Assuming additional last words are variances of Products**"
   ]
  },
  {
   "cell_type": "code",
   "execution_count": 23,
   "metadata": {
    "ExecuteTime": {
     "end_time": "2020-08-03T16:14:05.837494Z",
     "start_time": "2020-08-03T16:14:05.820453Z"
    }
   },
   "outputs": [
    {
     "name": "stdout",
     "output_type": "stream",
     "text": [
      "So we have 4790 rows doesn't meet the condition of stock rules\n"
     ]
    }
   ],
   "source": [
    "print(f\"So we have {nc[~stockrules].shape[0]} rows doesn't meet the condition of stock rules\")"
   ]
  },
  {
   "cell_type": "code",
   "execution_count": 24,
   "metadata": {
    "ExecuteTime": {
     "end_time": "2020-08-03T16:14:05.862600Z",
     "start_time": "2020-08-03T16:14:05.840507Z"
    }
   },
   "outputs": [
    {
     "data": {
      "text/plain": [
       "array(['POST', 'DCGS0058', 'DCGS0068', 'DOT', 'M', 'DCGS0004', 'DCGS0076',\n",
       "       'C2', 'BANK CHARGES', 'DCGS0003', 'TEST001', 'gift_0001_80',\n",
       "       'DCGS0072', 'gift_0001_20', 'DCGS0044', 'TEST002', 'gift_0001_10',\n",
       "       'gift_0001_50', 'DCGS0066N', 'gift_0001_30', 'PADS', 'ADJUST',\n",
       "       'gift_0001_40', 'gift_0001_60', 'gift_0001_70', 'gift_0001_90',\n",
       "       'DCGSSGIRL', 'DCGS0006', 'DCGS0016', 'DCGS0027', 'DCGS0036',\n",
       "       'DCGS0039', 'DCGS0060', 'DCGS0056', 'DCGS0059', 'GIFT', 'DCGSLBOY',\n",
       "       'm', 'DCGS0053', 'DCGS0062', 'DCGS0037', 'DCGSSBOY', 'DCGSLGIRL',\n",
       "       'DCGS0069', 'DCGS0070', 'DCGS0075', 'D', 'B', 'S', 'DCGS0041',\n",
       "       'ADJUST2', 'C3', 'SP1002', 'AMAZONFEE', 'DCGS0055', 'DCGS0074',\n",
       "       'DCGS0057', 'DCGS0073', 'DCGS0071', 'DCGS0066P', 'DCGS0067'],\n",
       "      dtype=object)"
      ]
     },
     "execution_count": 24,
     "metadata": {},
     "output_type": "execute_result"
    }
   ],
   "source": [
    "ds = nc[~stockrules][['StockCode']]\n",
    "ds['StockCode'].unique()"
   ]
  },
  {
   "cell_type": "markdown",
   "metadata": {},
   "source": [
    "Fortunately, there is only a small number of data points like this so lets remove them. Does it matter if I am suggesting to a buyer a pink or white item? Yes, it does! Let's say that a buyer is decorating a bedroom with a specific color pallet around pink, that buyer will be more susceptible to a suggested item within his desired color pallet. If enough buyers have a \"thematic buying pattern\" in the dataset it is possible that any future models build upon this dataset will be able to pick this knowledge. Anyways, the collapsing of data leads to an information loss which I really want to avoid. So, the answer is no, collapsing seems like a bad idea here."
   ]
  },
  {
   "cell_type": "code",
   "execution_count": 25,
   "metadata": {
    "ExecuteTime": {
     "end_time": "2020-08-03T16:14:06.167726Z",
     "start_time": "2020-08-03T16:14:05.862600Z"
    }
   },
   "outputs": [],
   "source": [
    "nc = nc[stockrules]"
   ]
  },
  {
   "cell_type": "code",
   "execution_count": 26,
   "metadata": {
    "ExecuteTime": {
     "end_time": "2020-08-03T16:14:06.183738Z",
     "start_time": "2020-08-03T16:14:06.171724Z"
    }
   },
   "outputs": [
    {
     "data": {
      "text/plain": [
       "(1009142, 8)"
      ]
     },
     "execution_count": 26,
     "metadata": {},
     "output_type": "execute_result"
    }
   ],
   "source": [
    "nc.shape"
   ]
  },
  {
   "cell_type": "raw",
   "metadata": {
    "ExecuteTime": {
     "end_time": "2020-07-31T19:10:27.703236Z",
     "start_time": "2020-07-31T19:08:53.753405Z"
    }
   },
   "source": [
    "# Identify all the StockCode with more than one descripitions and print out those different descripitions\n",
    "a\n",
    "desc_unique = df.groupby('StockCode').agg(pd.Series.nunique)[['Description']]\n",
    "desc_unique\n",
    "for index, row in desc_unique[desc_unique['Description']>1].iterrows():\n",
    "    print(index, df[df['StockCode']==index]['Description'].unique()a"
   ]
  },
  {
   "cell_type": "markdown",
   "metadata": {},
   "source": [
    "### c. Customer ID\n",
    "\n",
    "- `Customer ID`: Customer number. Nominal. A 5-digit integral number uniquely assigned to each customer."
   ]
  },
  {
   "cell_type": "code",
   "execution_count": 27,
   "metadata": {
    "ExecuteTime": {
     "end_time": "2020-08-03T16:14:06.404052Z",
     "start_time": "2020-08-03T16:14:06.187720Z"
    }
   },
   "outputs": [
    {
     "name": "stdout",
     "output_type": "stream",
     "text": [
      "29.937409626376287% of the data point have missing 'Customer ID'\n"
     ]
    }
   ],
   "source": [
    "no_reg = nc[nc['Customer ID'].isnull()]\n",
    "reg = nc[~nc['Customer ID'].isnull()]\n",
    "\n",
    "print(f\"{no_reg.shape[0] * 100 / reg.shape[0]}% of the data point have missing 'Customer ID'\")"
   ]
  },
  {
   "cell_type": "code",
   "execution_count": 28,
   "metadata": {
    "ExecuteTime": {
     "end_time": "2020-08-03T16:14:06.424061Z",
     "start_time": "2020-08-03T16:14:06.404052Z"
    }
   },
   "outputs": [
    {
     "data": {
      "text/plain": [
       "(232505, 8)"
      ]
     },
     "execution_count": 28,
     "metadata": {},
     "output_type": "execute_result"
    }
   ],
   "source": [
    "no_reg.shape"
   ]
  },
  {
   "cell_type": "code",
   "execution_count": 29,
   "metadata": {
    "ExecuteTime": {
     "end_time": "2020-08-03T16:14:06.451199Z",
     "start_time": "2020-08-03T16:14:06.432034Z"
    }
   },
   "outputs": [
    {
     "data": {
      "text/plain": [
       "(776637, 8)"
      ]
     },
     "execution_count": 29,
     "metadata": {},
     "output_type": "execute_result"
    }
   ],
   "source": [
    "reg.shape"
   ]
  },
  {
   "cell_type": "markdown",
   "metadata": {
    "ExecuteTime": {
     "end_time": "2020-08-02T16:33:14.621318Z",
     "start_time": "2020-08-02T16:33:14.596332Z"
    }
   },
   "source": [
    "#### Imputing Customer ID\n",
    "\n",
    "Identifying `Customer ID` from `Invoice` features, the logic are that pruchased item with the same `Invoice` made by the same user. If the missing `Customer ID` are due to unregistered users/removed by request, this approach is not going to work."
   ]
  },
  {
   "cell_type": "code",
   "execution_count": 30,
   "metadata": {
    "ExecuteTime": {
     "end_time": "2020-08-03T16:14:12.902180Z",
     "start_time": "2020-08-03T16:14:06.461239Z"
    }
   },
   "outputs": [
    {
     "name": "stdout",
     "output_type": "stream",
     "text": [
      "There are 0 overlapping entries between those with and without 'Customer ID' regarding the 'Invoice'\n"
     ]
    },
    {
     "data": {
      "text/plain": [
       "[]"
      ]
     },
     "execution_count": 30,
     "metadata": {},
     "output_type": "execute_result"
    }
   ],
   "source": [
    "invoice_no_reg = no_reg['Invoice'].unique()\n",
    "invoice_with_reg = reg['Invoice'].unique()\n",
    "\n",
    "cross_cust_id = [x for x in invoice_no_reg if x in invoice_with_reg]\n",
    "\n",
    "print(f\"There are {len(cross_cust_id)} overlapping entries between those with \\\n",
    "and without 'Customer ID' regarding the 'Invoice'\")\n",
    "cross_cust_id"
   ]
  },
  {
   "cell_type": "markdown",
   "metadata": {},
   "source": [
    "There is no overlapping `Invoice` unique features from `Null` Values, so the conclusion I'm gonna input *dummies* `Customer ID` which related to buy timing and `Invoice`. Assuming that each `Invoice` corresponds to a single users."
   ]
  },
  {
   "cell_type": "code",
   "execution_count": 31,
   "metadata": {
    "ExecuteTime": {
     "end_time": "2020-08-03T16:14:13.234192Z",
     "start_time": "2020-08-03T16:14:12.906200Z"
    }
   },
   "outputs": [
    {
     "data": {
      "text/html": [
       "<div>\n",
       "<style scoped>\n",
       "    .dataframe tbody tr th:only-of-type {\n",
       "        vertical-align: middle;\n",
       "    }\n",
       "\n",
       "    .dataframe tbody tr th {\n",
       "        vertical-align: top;\n",
       "    }\n",
       "\n",
       "    .dataframe thead th {\n",
       "        text-align: right;\n",
       "    }\n",
       "</style>\n",
       "<table border=\"1\" class=\"dataframe\">\n",
       "  <thead>\n",
       "    <tr style=\"text-align: right;\">\n",
       "      <th></th>\n",
       "      <th>Customer ID</th>\n",
       "    </tr>\n",
       "    <tr>\n",
       "      <th>Invoice</th>\n",
       "      <th></th>\n",
       "    </tr>\n",
       "  </thead>\n",
       "  <tbody>\n",
       "    <tr>\n",
       "      <th>489434</th>\n",
       "      <td>8</td>\n",
       "    </tr>\n",
       "    <tr>\n",
       "      <th>489435</th>\n",
       "      <td>4</td>\n",
       "    </tr>\n",
       "    <tr>\n",
       "      <th>489436</th>\n",
       "      <td>19</td>\n",
       "    </tr>\n",
       "    <tr>\n",
       "      <th>489437</th>\n",
       "      <td>23</td>\n",
       "    </tr>\n",
       "    <tr>\n",
       "      <th>489438</th>\n",
       "      <td>17</td>\n",
       "    </tr>\n",
       "    <tr>\n",
       "      <th>...</th>\n",
       "      <td>...</td>\n",
       "    </tr>\n",
       "    <tr>\n",
       "      <th>581583</th>\n",
       "      <td>2</td>\n",
       "    </tr>\n",
       "    <tr>\n",
       "      <th>581584</th>\n",
       "      <td>2</td>\n",
       "    </tr>\n",
       "    <tr>\n",
       "      <th>581585</th>\n",
       "      <td>21</td>\n",
       "    </tr>\n",
       "    <tr>\n",
       "      <th>581586</th>\n",
       "      <td>4</td>\n",
       "    </tr>\n",
       "    <tr>\n",
       "      <th>581587</th>\n",
       "      <td>15</td>\n",
       "    </tr>\n",
       "  </tbody>\n",
       "</table>\n",
       "<p>36597 rows × 1 columns</p>\n",
       "</div>"
      ],
      "text/plain": [
       "         Customer ID\n",
       "Invoice             \n",
       "489434             8\n",
       "489435             4\n",
       "489436            19\n",
       "489437            23\n",
       "489438            17\n",
       "...              ...\n",
       "581583             2\n",
       "581584             2\n",
       "581585            21\n",
       "581586             4\n",
       "581587            15\n",
       "\n",
       "[36597 rows x 1 columns]"
      ]
     },
     "metadata": {},
     "output_type": "display_data"
    },
    {
     "name": "stdout",
     "output_type": "stream",
     "text": [
      "The total of one single user purchasing one item within Customer ID    2741\n",
      "dtype: int64\n",
      "Counting an Invoice which related by Customer ID on Purchasing 36597\n"
     ]
    }
   ],
   "source": [
    "invc_count_cust = reg.groupby(by='Invoice')[['Customer ID']].count()\n",
    "display(invc_count_cust)\n",
    "print(f\"The total of one single user purchasing one item within {invc_count_cust[invc_count_cust['Customer ID'] == 1].sum()}\")\n",
    "print(f\"Counting an Invoice which related by Customer ID on Purchasing {invc_count_cust.shape[0]}\")"
   ]
  },
  {
   "cell_type": "raw",
   "metadata": {
    "ExecuteTime": {
     "end_time": "2020-08-03T16:14:14.165777Z",
     "start_time": "2020-08-03T16:14:13.250195Z"
    }
   },
   "source": [
    "test = nc['Customer ID'].apply(lambda x : mapper[str(int(x))])\n",
    "mapper = {v:k for k,v in mapper.items()}"
   ]
  },
  {
   "cell_type": "code",
   "execution_count": 58,
   "metadata": {
    "ExecuteTime": {
     "end_time": "2020-08-03T16:38:33.410927Z",
     "start_time": "2020-08-03T16:38:33.399937Z"
    }
   },
   "outputs": [],
   "source": [
    "nc.reset_index(inplace=True)"
   ]
  },
  {
   "cell_type": "code",
   "execution_count": 79,
   "metadata": {
    "ExecuteTime": {
     "end_time": "2020-08-03T16:55:19.047953Z",
     "start_time": "2020-08-03T16:55:19.025514Z"
    }
   },
   "outputs": [],
   "source": [
    "nc['Customer ID'].fillna(0, inplace=True)"
   ]
  },
  {
   "cell_type": "code",
   "execution_count": 80,
   "metadata": {
    "ExecuteTime": {
     "end_time": "2020-08-03T19:16:54.590870Z",
     "start_time": "2020-08-03T16:55:22.307289Z"
    },
    "scrolled": true
   },
   "outputs": [],
   "source": [
    "unique_invoice = no_reg['Invoice'].unique()\n",
    "\n",
    "mapper = {}\n",
    "for i in range(len(unique_invoice)):\n",
    "    mapper[unique_invoice[i]] = f'imp{i}'\n",
    "\n",
    "# mapper = {v:k for k,v in mapper.items()}\n",
    "for i in range(len(nc['Customer ID'])):\n",
    "    if nc.loc[i, 'Customer ID'] == 0 and nc.loc[i, 'Invoice'] in mapper.keys():\n",
    "        nc.loc[i, 'Customer ID'] = mapper[nc.loc[i, 'Invoice']]"
   ]
  },
  {
   "cell_type": "code",
   "execution_count": 81,
   "metadata": {
    "ExecuteTime": {
     "end_time": "2020-08-03T19:23:42.725486Z",
     "start_time": "2020-08-03T19:23:42.652528Z"
    }
   },
   "outputs": [
    {
     "data": {
      "text/html": [
       "<div>\n",
       "<style scoped>\n",
       "    .dataframe tbody tr th:only-of-type {\n",
       "        vertical-align: middle;\n",
       "    }\n",
       "\n",
       "    .dataframe tbody tr th {\n",
       "        vertical-align: top;\n",
       "    }\n",
       "\n",
       "    .dataframe thead th {\n",
       "        text-align: right;\n",
       "    }\n",
       "</style>\n",
       "<table border=\"1\" class=\"dataframe\">\n",
       "  <thead>\n",
       "    <tr style=\"text-align: right;\">\n",
       "      <th></th>\n",
       "      <th>index</th>\n",
       "      <th>Invoice</th>\n",
       "      <th>StockCode</th>\n",
       "      <th>Description</th>\n",
       "      <th>Quantity</th>\n",
       "      <th>InvoiceDate</th>\n",
       "      <th>Price</th>\n",
       "      <th>Customer ID</th>\n",
       "      <th>Country</th>\n",
       "    </tr>\n",
       "  </thead>\n",
       "  <tbody>\n",
       "  </tbody>\n",
       "</table>\n",
       "</div>"
      ],
      "text/plain": [
       "Empty DataFrame\n",
       "Columns: [index, Invoice, StockCode, Description, Quantity, InvoiceDate, Price, Customer ID, Country]\n",
       "Index: []"
      ]
     },
     "execution_count": 81,
     "metadata": {},
     "output_type": "execute_result"
    }
   ],
   "source": [
    "nc[nc['Customer ID'].isna()]"
   ]
  },
  {
   "cell_type": "markdown",
   "metadata": {},
   "source": [
    "<hr>\n",
    "\n",
    "Take a long time to impute that missing values, so i'm gonna convert that `DataFrame` to csv again to speed up the process."
   ]
  },
  {
   "cell_type": "code",
   "execution_count": null,
   "metadata": {
    "ExecuteTime": {
     "end_time": "2020-08-03T19:34:18.742357Z",
     "start_time": "2020-08-03T19:34:11.240378Z"
    }
   },
   "outputs": [],
   "source": [
    "nc.to_csv('Online Retail II Impute NaN Customer.csv')"
   ]
  },
  {
   "cell_type": "markdown",
   "metadata": {},
   "source": [
    "<hr>"
   ]
  },
  {
   "cell_type": "code",
   "execution_count": 1,
   "metadata": {
    "ExecuteTime": {
     "end_time": "2020-08-17T15:35:11.281809Z",
     "start_time": "2020-08-17T15:35:07.158915Z"
    },
    "execution": {
     "iopub.execute_input": "2020-08-06T12:54:39.561047Z",
     "iopub.status.busy": "2020-08-06T12:54:39.561047Z",
     "iopub.status.idle": "2020-08-06T12:54:40.536484Z",
     "shell.execute_reply": "2020-08-06T12:54:40.535484Z",
     "shell.execute_reply.started": "2020-08-06T12:54:39.561047Z"
    }
   },
   "outputs": [],
   "source": [
    "import numpy as np\n",
    "import pandas as pd\n",
    "import matplotlib.pyplot as plt\n",
    "import seaborn as sns\n",
    "import datetime as dt\n",
    "\n",
    "import warnings \n",
    "warnings.filterwarnings(\"ignore\")"
   ]
  },
  {
   "cell_type": "code",
   "execution_count": 2,
   "metadata": {
    "ExecuteTime": {
     "end_time": "2020-08-17T15:35:14.194404Z",
     "start_time": "2020-08-17T15:35:12.224146Z"
    },
    "execution": {
     "iopub.execute_input": "2020-08-06T12:54:40.547478Z",
     "iopub.status.busy": "2020-08-06T12:54:40.546479Z",
     "iopub.status.idle": "2020-08-06T12:54:42.428421Z",
     "shell.execute_reply": "2020-08-06T12:54:42.428421Z",
     "shell.execute_reply.started": "2020-08-06T12:54:40.547478Z"
    }
   },
   "outputs": [],
   "source": [
    "nc = pd.read_csv('Online Retail II Impute NaN Customer.csv')"
   ]
  },
  {
   "cell_type": "code",
   "execution_count": 3,
   "metadata": {
    "ExecuteTime": {
     "end_time": "2020-08-17T15:35:14.375019Z",
     "start_time": "2020-08-17T15:35:14.194404Z"
    },
    "execution": {
     "iopub.execute_input": "2020-08-06T12:54:42.430402Z",
     "iopub.status.busy": "2020-08-06T12:54:42.430402Z",
     "iopub.status.idle": "2020-08-06T12:54:42.555329Z",
     "shell.execute_reply": "2020-08-06T12:54:42.554328Z",
     "shell.execute_reply.started": "2020-08-06T12:54:42.430402Z"
    }
   },
   "outputs": [],
   "source": [
    "nc.drop(columns=['Unnamed: 0', 'index'], inplace=True)"
   ]
  },
  {
   "cell_type": "code",
   "execution_count": 4,
   "metadata": {
    "ExecuteTime": {
     "end_time": "2020-08-17T15:35:14.724223Z",
     "start_time": "2020-08-17T15:35:14.378017Z"
    },
    "execution": {
     "iopub.execute_input": "2020-08-06T12:54:42.570320Z",
     "iopub.status.busy": "2020-08-06T12:54:42.569321Z",
     "iopub.status.idle": "2020-08-06T12:54:42.939108Z",
     "shell.execute_reply": "2020-08-06T12:54:42.938109Z",
     "shell.execute_reply.started": "2020-08-06T12:54:42.569321Z"
    },
    "scrolled": true
   },
   "outputs": [
    {
     "name": "stdout",
     "output_type": "stream",
     "text": [
      "<class 'pandas.core.frame.DataFrame'>\n",
      "RangeIndex: 1009142 entries, 0 to 1009141\n",
      "Data columns (total 8 columns):\n",
      " #   Column       Non-Null Count    Dtype  \n",
      "---  ------       --------------    -----  \n",
      " 0   Invoice      1009142 non-null  int64  \n",
      " 1   StockCode    1009142 non-null  object \n",
      " 2   Description  1004930 non-null  object \n",
      " 3   Quantity     1009142 non-null  int64  \n",
      " 4   InvoiceDate  1009142 non-null  object \n",
      " 5   Price        1009142 non-null  float64\n",
      " 6   Customer ID  1009142 non-null  object \n",
      " 7   Country      1009142 non-null  object \n",
      "dtypes: float64(1), int64(2), object(5)\n",
      "memory usage: 61.6+ MB\n"
     ]
    }
   ],
   "source": [
    "nc.info()"
   ]
  },
  {
   "cell_type": "code",
   "execution_count": 5,
   "metadata": {
    "ExecuteTime": {
     "end_time": "2020-08-17T15:35:14.736839Z",
     "start_time": "2020-08-17T15:35:14.726845Z"
    },
    "execution": {
     "iopub.execute_input": "2020-08-06T12:54:42.941107Z",
     "iopub.status.busy": "2020-08-06T12:54:42.940108Z",
     "iopub.status.idle": "2020-08-06T12:54:42.948104Z",
     "shell.execute_reply": "2020-08-06T12:54:42.947104Z",
     "shell.execute_reply.started": "2020-08-06T12:54:42.941107Z"
    }
   },
   "outputs": [
    {
     "data": {
      "text/plain": [
       "(1009142, 8)"
      ]
     },
     "execution_count": 5,
     "metadata": {},
     "output_type": "execute_result"
    }
   ],
   "source": [
    "nc.shape"
   ]
  },
  {
   "cell_type": "markdown",
   "metadata": {},
   "source": [
    "### d. `Quantity` and `Price`\n",
    "\n",
    "- Quantity: The quantities of each product (item) per transaction. Numeric.\n",
    "\n",
    "- UnitPrice: Unit price. Numeric. Product price per unit in sterling (Â£)."
   ]
  },
  {
   "cell_type": "markdown",
   "metadata": {},
   "source": [
    "Checking the business logic where the quantity and price is impossible to have a negative values. I'm gonna separate all of these negative values, features *Description* didn't explain what negative values are."
   ]
  },
  {
   "cell_type": "code",
   "execution_count": 6,
   "metadata": {
    "ExecuteTime": {
     "end_time": "2020-08-17T15:35:14.791807Z",
     "start_time": "2020-08-17T15:35:14.739838Z"
    },
    "execution": {
     "iopub.execute_input": "2020-08-06T12:54:43.891914Z",
     "iopub.status.busy": "2020-08-06T12:54:43.891914Z",
     "iopub.status.idle": "2020-08-06T12:54:43.930890Z",
     "shell.execute_reply": "2020-08-06T12:54:43.929910Z",
     "shell.execute_reply.started": "2020-08-06T12:54:43.891914Z"
    }
   },
   "outputs": [
    {
     "data": {
      "text/html": [
       "<div>\n",
       "<style scoped>\n",
       "    .dataframe tbody tr th:only-of-type {\n",
       "        vertical-align: middle;\n",
       "    }\n",
       "\n",
       "    .dataframe tbody tr th {\n",
       "        vertical-align: top;\n",
       "    }\n",
       "\n",
       "    .dataframe thead th {\n",
       "        text-align: right;\n",
       "    }\n",
       "</style>\n",
       "<table border=\"1\" class=\"dataframe\">\n",
       "  <thead>\n",
       "    <tr style=\"text-align: right;\">\n",
       "      <th></th>\n",
       "      <th>Invoice</th>\n",
       "      <th>StockCode</th>\n",
       "      <th>Description</th>\n",
       "      <th>Quantity</th>\n",
       "      <th>InvoiceDate</th>\n",
       "      <th>Price</th>\n",
       "      <th>Customer ID</th>\n",
       "      <th>Country</th>\n",
       "    </tr>\n",
       "  </thead>\n",
       "  <tbody>\n",
       "    <tr>\n",
       "      <th>238</th>\n",
       "      <td>489464</td>\n",
       "      <td>21733</td>\n",
       "      <td>85123a mixed</td>\n",
       "      <td>-96</td>\n",
       "      <td>2009-12-01 10:52:00</td>\n",
       "      <td>0.0</td>\n",
       "      <td>imp0</td>\n",
       "      <td>United Kingdom</td>\n",
       "    </tr>\n",
       "    <tr>\n",
       "      <th>258</th>\n",
       "      <td>489463</td>\n",
       "      <td>71477</td>\n",
       "      <td>short</td>\n",
       "      <td>-240</td>\n",
       "      <td>2009-12-01 10:52:00</td>\n",
       "      <td>0.0</td>\n",
       "      <td>imp1</td>\n",
       "      <td>United Kingdom</td>\n",
       "    </tr>\n",
       "    <tr>\n",
       "      <th>259</th>\n",
       "      <td>489467</td>\n",
       "      <td>85123A</td>\n",
       "      <td>21733 mixed</td>\n",
       "      <td>-192</td>\n",
       "      <td>2009-12-01 10:53:00</td>\n",
       "      <td>0.0</td>\n",
       "      <td>imp2</td>\n",
       "      <td>United Kingdom</td>\n",
       "    </tr>\n",
       "    <tr>\n",
       "      <th>430</th>\n",
       "      <td>489521</td>\n",
       "      <td>21646</td>\n",
       "      <td>NaN</td>\n",
       "      <td>-50</td>\n",
       "      <td>2009-12-01 11:44:00</td>\n",
       "      <td>0.0</td>\n",
       "      <td>imp3</td>\n",
       "      <td>United Kingdom</td>\n",
       "    </tr>\n",
       "    <tr>\n",
       "      <th>2947</th>\n",
       "      <td>489655</td>\n",
       "      <td>20683</td>\n",
       "      <td>NaN</td>\n",
       "      <td>-44</td>\n",
       "      <td>2009-12-01 17:26:00</td>\n",
       "      <td>0.0</td>\n",
       "      <td>imp25</td>\n",
       "      <td>United Kingdom</td>\n",
       "    </tr>\n",
       "    <tr>\n",
       "      <th>...</th>\n",
       "      <td>...</td>\n",
       "      <td>...</td>\n",
       "      <td>...</td>\n",
       "      <td>...</td>\n",
       "      <td>...</td>\n",
       "      <td>...</td>\n",
       "      <td>...</td>\n",
       "      <td>...</td>\n",
       "    </tr>\n",
       "    <tr>\n",
       "      <th>1002696</th>\n",
       "      <td>581210</td>\n",
       "      <td>23395</td>\n",
       "      <td>check</td>\n",
       "      <td>-26</td>\n",
       "      <td>2011-12-07 18:36:00</td>\n",
       "      <td>0.0</td>\n",
       "      <td>imp8099</td>\n",
       "      <td>United Kingdom</td>\n",
       "    </tr>\n",
       "    <tr>\n",
       "      <th>1002698</th>\n",
       "      <td>581212</td>\n",
       "      <td>22578</td>\n",
       "      <td>lost</td>\n",
       "      <td>-1050</td>\n",
       "      <td>2011-12-07 18:38:00</td>\n",
       "      <td>0.0</td>\n",
       "      <td>imp8101</td>\n",
       "      <td>United Kingdom</td>\n",
       "    </tr>\n",
       "    <tr>\n",
       "      <th>1002699</th>\n",
       "      <td>581213</td>\n",
       "      <td>22576</td>\n",
       "      <td>check</td>\n",
       "      <td>-30</td>\n",
       "      <td>2011-12-07 18:38:00</td>\n",
       "      <td>0.0</td>\n",
       "      <td>imp8102</td>\n",
       "      <td>United Kingdom</td>\n",
       "    </tr>\n",
       "    <tr>\n",
       "      <th>1004270</th>\n",
       "      <td>581226</td>\n",
       "      <td>23090</td>\n",
       "      <td>missing</td>\n",
       "      <td>-338</td>\n",
       "      <td>2011-12-08 09:56:00</td>\n",
       "      <td>0.0</td>\n",
       "      <td>imp8105</td>\n",
       "      <td>United Kingdom</td>\n",
       "    </tr>\n",
       "    <tr>\n",
       "      <th>1006206</th>\n",
       "      <td>581422</td>\n",
       "      <td>23169</td>\n",
       "      <td>smashed</td>\n",
       "      <td>-235</td>\n",
       "      <td>2011-12-08 15:24:00</td>\n",
       "      <td>0.0</td>\n",
       "      <td>imp8111</td>\n",
       "      <td>United Kingdom</td>\n",
       "    </tr>\n",
       "  </tbody>\n",
       "</table>\n",
       "<p>3362 rows × 8 columns</p>\n",
       "</div>"
      ],
      "text/plain": [
       "         Invoice StockCode   Description  Quantity          InvoiceDate  \\\n",
       "238       489464     21733  85123a mixed       -96  2009-12-01 10:52:00   \n",
       "258       489463     71477         short      -240  2009-12-01 10:52:00   \n",
       "259       489467    85123A   21733 mixed      -192  2009-12-01 10:53:00   \n",
       "430       489521     21646           NaN       -50  2009-12-01 11:44:00   \n",
       "2947      489655     20683           NaN       -44  2009-12-01 17:26:00   \n",
       "...          ...       ...           ...       ...                  ...   \n",
       "1002696   581210     23395         check       -26  2011-12-07 18:36:00   \n",
       "1002698   581212     22578          lost     -1050  2011-12-07 18:38:00   \n",
       "1002699   581213     22576         check       -30  2011-12-07 18:38:00   \n",
       "1004270   581226     23090       missing      -338  2011-12-08 09:56:00   \n",
       "1006206   581422     23169       smashed      -235  2011-12-08 15:24:00   \n",
       "\n",
       "         Price Customer ID         Country  \n",
       "238        0.0        imp0  United Kingdom  \n",
       "258        0.0        imp1  United Kingdom  \n",
       "259        0.0        imp2  United Kingdom  \n",
       "430        0.0        imp3  United Kingdom  \n",
       "2947       0.0       imp25  United Kingdom  \n",
       "...        ...         ...             ...  \n",
       "1002696    0.0     imp8099  United Kingdom  \n",
       "1002698    0.0     imp8101  United Kingdom  \n",
       "1002699    0.0     imp8102  United Kingdom  \n",
       "1004270    0.0     imp8105  United Kingdom  \n",
       "1006206    0.0     imp8111  United Kingdom  \n",
       "\n",
       "[3362 rows x 8 columns]"
      ]
     },
     "execution_count": 6,
     "metadata": {},
     "output_type": "execute_result"
    }
   ],
   "source": [
    "nc[(nc['Price'] < 0) | (nc['Quantity'] < 0)]"
   ]
  },
  {
   "cell_type": "code",
   "execution_count": 7,
   "metadata": {
    "ExecuteTime": {
     "end_time": "2020-08-17T15:35:14.970704Z",
     "start_time": "2020-08-17T15:35:14.794805Z"
    },
    "execution": {
     "iopub.execute_input": "2020-08-06T12:54:45.386626Z",
     "iopub.status.busy": "2020-08-06T12:54:45.385629Z",
     "iopub.status.idle": "2020-08-06T12:54:45.554529Z",
     "shell.execute_reply": "2020-08-06T12:54:45.553529Z",
     "shell.execute_reply.started": "2020-08-06T12:54:45.386626Z"
    }
   },
   "outputs": [],
   "source": [
    "nc = nc[~((nc['Price'] < 0) | (nc['Quantity'] < 0))]"
   ]
  },
  {
   "cell_type": "code",
   "execution_count": 8,
   "metadata": {
    "ExecuteTime": {
     "end_time": "2020-08-17T15:35:15.173685Z",
     "start_time": "2020-08-17T15:35:15.166694Z"
    },
    "execution": {
     "iopub.execute_input": "2020-08-06T12:54:46.187030Z",
     "iopub.status.busy": "2020-08-06T12:54:46.186011Z",
     "iopub.status.idle": "2020-08-06T12:54:46.194003Z",
     "shell.execute_reply": "2020-08-06T12:54:46.193024Z",
     "shell.execute_reply.started": "2020-08-06T12:54:46.187030Z"
    }
   },
   "outputs": [
    {
     "data": {
      "text/plain": [
       "(1005780, 8)"
      ]
     },
     "execution_count": 8,
     "metadata": {},
     "output_type": "execute_result"
    }
   ],
   "source": [
    "nc.shape"
   ]
  },
  {
   "cell_type": "markdown",
   "metadata": {},
   "source": [
    "### e. `InvoiceDate`\n",
    "\n",
    "- InvoiceDate: Invice date and time. Numeric. The day and time when a transaction was generated.."
   ]
  },
  {
   "cell_type": "markdown",
   "metadata": {},
   "source": [
    "From the information of the data, this feature still an `object` so we have to change it to date time format, and change the number of month to Month as locale’s abbreviated name. Splitting up the time gonna be useful enough, hope leads me up to get beautiful insight for this `dataset`.\n",
    "\n",
    "*Python strftime reference :*  https://strftime.org/"
   ]
  },
  {
   "cell_type": "code",
   "execution_count": 9,
   "metadata": {
    "ExecuteTime": {
     "end_time": "2020-08-17T15:35:20.308404Z",
     "start_time": "2020-08-17T15:35:20.301407Z"
    },
    "execution": {
     "iopub.execute_input": "2020-08-06T12:54:48.418646Z",
     "iopub.status.busy": "2020-08-06T12:54:48.418646Z",
     "iopub.status.idle": "2020-08-06T12:54:48.425639Z",
     "shell.execute_reply": "2020-08-06T12:54:48.424643Z",
     "shell.execute_reply.started": "2020-08-06T12:54:48.418646Z"
    }
   },
   "outputs": [
    {
     "data": {
      "text/plain": [
       "0    2009-12-01 07:45:00\n",
       "1    2009-12-01 07:45:00\n",
       "2    2009-12-01 07:45:00\n",
       "3    2009-12-01 07:45:00\n",
       "4    2009-12-01 07:45:00\n",
       "Name: InvoiceDate, dtype: object"
      ]
     },
     "execution_count": 9,
     "metadata": {},
     "output_type": "execute_result"
    }
   ],
   "source": [
    "nc['InvoiceDate'].head()"
   ]
  },
  {
   "cell_type": "code",
   "execution_count": 10,
   "metadata": {
    "ExecuteTime": {
     "end_time": "2020-08-17T15:35:21.126402Z",
     "start_time": "2020-08-17T15:35:20.853635Z"
    },
    "execution": {
     "iopub.execute_input": "2020-08-06T12:54:49.394425Z",
     "iopub.status.busy": "2020-08-06T12:54:49.394425Z",
     "iopub.status.idle": "2020-08-06T12:54:49.665286Z",
     "shell.execute_reply": "2020-08-06T12:54:49.665286Z",
     "shell.execute_reply.started": "2020-08-06T12:54:49.394425Z"
    }
   },
   "outputs": [],
   "source": [
    "nc['InvoiceDate'] = pd.to_datetime(nc['InvoiceDate'], format='%Y-%m-%d %H:%M:%S')"
   ]
  },
  {
   "cell_type": "code",
   "execution_count": 11,
   "metadata": {
    "ExecuteTime": {
     "end_time": "2020-08-17T15:35:21.718435Z",
     "start_time": "2020-08-17T15:35:21.712439Z"
    },
    "execution": {
     "iopub.execute_input": "2020-08-06T12:54:49.952365Z",
     "iopub.status.busy": "2020-08-06T12:54:49.952365Z",
     "iopub.status.idle": "2020-08-06T12:54:49.960361Z",
     "shell.execute_reply": "2020-08-06T12:54:49.959360Z",
     "shell.execute_reply.started": "2020-08-06T12:54:49.952365Z"
    }
   },
   "outputs": [
    {
     "data": {
      "text/plain": [
       "0   2009-12-01 07:45:00\n",
       "1   2009-12-01 07:45:00\n",
       "2   2009-12-01 07:45:00\n",
       "3   2009-12-01 07:45:00\n",
       "4   2009-12-01 07:45:00\n",
       "Name: InvoiceDate, dtype: datetime64[ns]"
      ]
     },
     "execution_count": 11,
     "metadata": {},
     "output_type": "execute_result"
    }
   ],
   "source": [
    "nc['InvoiceDate'].head()"
   ]
  },
  {
   "cell_type": "code",
   "execution_count": 12,
   "metadata": {
    "ExecuteTime": {
     "end_time": "2020-08-17T15:35:30.270912Z",
     "start_time": "2020-08-17T15:35:21.892338Z"
    },
    "execution": {
     "iopub.execute_input": "2020-08-06T12:54:52.600207Z",
     "iopub.status.busy": "2020-08-06T12:54:52.599212Z",
     "iopub.status.idle": "2020-08-06T12:55:00.868472Z",
     "shell.execute_reply": "2020-08-06T12:55:00.867511Z",
     "shell.execute_reply.started": "2020-08-06T12:54:52.600207Z"
    }
   },
   "outputs": [],
   "source": [
    "nc['Day of Week'] = nc['InvoiceDate'].dt.strftime('%A')"
   ]
  },
  {
   "cell_type": "code",
   "execution_count": 13,
   "metadata": {
    "ExecuteTime": {
     "end_time": "2020-08-17T15:35:37.542425Z",
     "start_time": "2020-08-17T15:35:30.272909Z"
    },
    "execution": {
     "iopub.execute_input": "2020-08-06T12:55:00.887462Z",
     "iopub.status.busy": "2020-08-06T12:55:00.885463Z",
     "iopub.status.idle": "2020-08-06T12:55:08.498105Z",
     "shell.execute_reply": "2020-08-06T12:55:08.497124Z",
     "shell.execute_reply.started": "2020-08-06T12:55:00.887462Z"
    }
   },
   "outputs": [],
   "source": [
    "nc['Date'] = nc['InvoiceDate'].dt.strftime('%d')"
   ]
  },
  {
   "cell_type": "code",
   "execution_count": 14,
   "metadata": {
    "ExecuteTime": {
     "end_time": "2020-08-17T15:35:45.013366Z",
     "start_time": "2020-08-17T15:35:37.545423Z"
    },
    "execution": {
     "iopub.execute_input": "2020-08-06T12:55:08.500105Z",
     "iopub.status.busy": "2020-08-06T12:55:08.499102Z",
     "iopub.status.idle": "2020-08-06T12:55:17.482974Z",
     "shell.execute_reply": "2020-08-06T12:55:17.482974Z",
     "shell.execute_reply.started": "2020-08-06T12:55:08.500105Z"
    }
   },
   "outputs": [],
   "source": [
    "nc['Month'] = nc['InvoiceDate'].dt.strftime('%b')"
   ]
  },
  {
   "cell_type": "code",
   "execution_count": 15,
   "metadata": {
    "ExecuteTime": {
     "end_time": "2020-08-17T15:35:52.751799Z",
     "start_time": "2020-08-17T15:35:45.013366Z"
    },
    "execution": {
     "iopub.execute_input": "2020-08-06T12:55:17.484957Z",
     "iopub.status.busy": "2020-08-06T12:55:17.484957Z",
     "iopub.status.idle": "2020-08-06T12:55:25.328466Z",
     "shell.execute_reply": "2020-08-06T12:55:25.327502Z",
     "shell.execute_reply.started": "2020-08-06T12:55:17.484957Z"
    }
   },
   "outputs": [],
   "source": [
    "nc['Year'] = nc['InvoiceDate'].dt.strftime('%Y')"
   ]
  },
  {
   "cell_type": "code",
   "execution_count": 16,
   "metadata": {
    "ExecuteTime": {
     "end_time": "2020-08-17T15:35:59.683228Z",
     "start_time": "2020-08-17T15:35:52.751799Z"
    },
    "execution": {
     "iopub.execute_input": "2020-08-06T12:55:25.329466Z",
     "iopub.status.busy": "2020-08-06T12:55:25.329466Z",
     "iopub.status.idle": "2020-08-06T12:55:32.948120Z",
     "shell.execute_reply": "2020-08-06T12:55:32.947123Z",
     "shell.execute_reply.started": "2020-08-06T12:55:25.329466Z"
    }
   },
   "outputs": [],
   "source": [
    "nc['Day of Year'] = nc['InvoiceDate'].dt.strftime('%j') "
   ]
  },
  {
   "cell_type": "code",
   "execution_count": 17,
   "metadata": {
    "ExecuteTime": {
     "end_time": "2020-08-17T15:36:06.586460Z",
     "start_time": "2020-08-17T15:35:59.683228Z"
    },
    "execution": {
     "iopub.execute_input": "2020-08-06T12:55:32.950103Z",
     "iopub.status.busy": "2020-08-06T12:55:32.949102Z",
     "iopub.status.idle": "2020-08-06T12:55:40.630510Z",
     "shell.execute_reply": "2020-08-06T12:55:40.629741Z",
     "shell.execute_reply.started": "2020-08-06T12:55:32.950103Z"
    }
   },
   "outputs": [],
   "source": [
    "nc['Week of Year'] = nc['InvoiceDate'].dt.strftime('%W')"
   ]
  },
  {
   "cell_type": "code",
   "execution_count": 18,
   "metadata": {
    "ExecuteTime": {
     "end_time": "2020-08-17T15:36:14.128738Z",
     "start_time": "2020-08-17T15:36:06.586460Z"
    },
    "execution": {
     "iopub.execute_input": "2020-08-06T12:55:40.633512Z",
     "iopub.status.busy": "2020-08-06T12:55:40.632513Z",
     "iopub.status.idle": "2020-08-06T12:55:48.439042Z",
     "shell.execute_reply": "2020-08-06T12:55:48.438063Z",
     "shell.execute_reply.started": "2020-08-06T12:55:40.633512Z"
    }
   },
   "outputs": [],
   "source": [
    "nc['Time Hour'] = nc['InvoiceDate'].dt.strftime('%X')"
   ]
  },
  {
   "cell_type": "code",
   "execution_count": 19,
   "metadata": {
    "ExecuteTime": {
     "end_time": "2020-08-17T15:36:14.307189Z",
     "start_time": "2020-08-17T15:36:14.134287Z"
    }
   },
   "outputs": [],
   "source": [
    "nc['Hour'] = nc['InvoiceDate'].dt.hour"
   ]
  },
  {
   "cell_type": "code",
   "execution_count": 20,
   "metadata": {
    "ExecuteTime": {
     "end_time": "2020-08-17T15:36:14.342170Z",
     "start_time": "2020-08-17T15:36:14.309187Z"
    },
    "execution": {
     "iopub.execute_input": "2020-08-06T12:55:48.441042Z",
     "iopub.status.busy": "2020-08-06T12:55:48.440042Z",
     "iopub.status.idle": "2020-08-06T12:55:48.480019Z",
     "shell.execute_reply": "2020-08-06T12:55:48.479020Z",
     "shell.execute_reply.started": "2020-08-06T12:55:48.441042Z"
    }
   },
   "outputs": [
    {
     "data": {
      "text/html": [
       "<div>\n",
       "<style scoped>\n",
       "    .dataframe tbody tr th:only-of-type {\n",
       "        vertical-align: middle;\n",
       "    }\n",
       "\n",
       "    .dataframe tbody tr th {\n",
       "        vertical-align: top;\n",
       "    }\n",
       "\n",
       "    .dataframe thead th {\n",
       "        text-align: right;\n",
       "    }\n",
       "</style>\n",
       "<table border=\"1\" class=\"dataframe\">\n",
       "  <thead>\n",
       "    <tr style=\"text-align: right;\">\n",
       "      <th></th>\n",
       "      <th>Invoice</th>\n",
       "      <th>StockCode</th>\n",
       "      <th>Description</th>\n",
       "      <th>Quantity</th>\n",
       "      <th>InvoiceDate</th>\n",
       "      <th>Price</th>\n",
       "      <th>Customer ID</th>\n",
       "      <th>Country</th>\n",
       "      <th>Day of Week</th>\n",
       "      <th>Date</th>\n",
       "      <th>Month</th>\n",
       "      <th>Year</th>\n",
       "      <th>Day of Year</th>\n",
       "      <th>Week of Year</th>\n",
       "      <th>Time Hour</th>\n",
       "      <th>Hour</th>\n",
       "    </tr>\n",
       "  </thead>\n",
       "  <tbody>\n",
       "    <tr>\n",
       "      <th>0</th>\n",
       "      <td>489434</td>\n",
       "      <td>85048</td>\n",
       "      <td>15CM CHRISTMAS GLASS BALL 20 LIGHTS</td>\n",
       "      <td>12</td>\n",
       "      <td>2009-12-01 07:45:00</td>\n",
       "      <td>6.95</td>\n",
       "      <td>13085.0</td>\n",
       "      <td>United Kingdom</td>\n",
       "      <td>Tuesday</td>\n",
       "      <td>01</td>\n",
       "      <td>Dec</td>\n",
       "      <td>2009</td>\n",
       "      <td>335</td>\n",
       "      <td>48</td>\n",
       "      <td>07:45:00</td>\n",
       "      <td>7</td>\n",
       "    </tr>\n",
       "    <tr>\n",
       "      <th>1</th>\n",
       "      <td>489434</td>\n",
       "      <td>79323P</td>\n",
       "      <td>PINK CHERRY LIGHTS</td>\n",
       "      <td>12</td>\n",
       "      <td>2009-12-01 07:45:00</td>\n",
       "      <td>6.75</td>\n",
       "      <td>13085.0</td>\n",
       "      <td>United Kingdom</td>\n",
       "      <td>Tuesday</td>\n",
       "      <td>01</td>\n",
       "      <td>Dec</td>\n",
       "      <td>2009</td>\n",
       "      <td>335</td>\n",
       "      <td>48</td>\n",
       "      <td>07:45:00</td>\n",
       "      <td>7</td>\n",
       "    </tr>\n",
       "  </tbody>\n",
       "</table>\n",
       "</div>"
      ],
      "text/plain": [
       "   Invoice StockCode                          Description  Quantity  \\\n",
       "0   489434     85048  15CM CHRISTMAS GLASS BALL 20 LIGHTS        12   \n",
       "1   489434    79323P                   PINK CHERRY LIGHTS        12   \n",
       "\n",
       "          InvoiceDate  Price Customer ID         Country Day of Week Date  \\\n",
       "0 2009-12-01 07:45:00   6.95     13085.0  United Kingdom     Tuesday   01   \n",
       "1 2009-12-01 07:45:00   6.75     13085.0  United Kingdom     Tuesday   01   \n",
       "\n",
       "  Month  Year Day of Year Week of Year Time Hour  Hour  \n",
       "0   Dec  2009         335           48  07:45:00     7  \n",
       "1   Dec  2009         335           48  07:45:00     7  "
      ]
     },
     "execution_count": 20,
     "metadata": {},
     "output_type": "execute_result"
    }
   ],
   "source": [
    "nc.head(2)"
   ]
  },
  {
   "cell_type": "markdown",
   "metadata": {},
   "source": [
    "### f. `Description`\n",
    "\n",
    "- Description: Product (item) name. Nominal."
   ]
  },
  {
   "cell_type": "markdown",
   "metadata": {},
   "source": [
    "Checking The missing values"
   ]
  },
  {
   "cell_type": "code",
   "execution_count": 21,
   "metadata": {
    "ExecuteTime": {
     "end_time": "2020-08-17T15:36:15.061386Z",
     "start_time": "2020-08-17T15:36:14.349165Z"
    },
    "execution": {
     "iopub.execute_input": "2020-08-06T12:55:53.947357Z",
     "iopub.status.busy": "2020-08-06T12:55:53.946357Z",
     "iopub.status.idle": "2020-08-06T12:55:54.543022Z",
     "shell.execute_reply": "2020-08-06T12:55:54.542033Z",
     "shell.execute_reply.started": "2020-08-06T12:55:53.946357Z"
    }
   },
   "outputs": [
    {
     "data": {
      "text/html": [
       "<div>\n",
       "<style scoped>\n",
       "    .dataframe tbody tr th:only-of-type {\n",
       "        vertical-align: middle;\n",
       "    }\n",
       "\n",
       "    .dataframe tbody tr th {\n",
       "        vertical-align: top;\n",
       "    }\n",
       "\n",
       "    .dataframe thead th {\n",
       "        text-align: right;\n",
       "    }\n",
       "</style>\n",
       "<table border=\"1\" class=\"dataframe\">\n",
       "  <thead>\n",
       "    <tr style=\"text-align: right;\">\n",
       "      <th></th>\n",
       "      <th>Invoice</th>\n",
       "      <th>StockCode</th>\n",
       "      <th>Description</th>\n",
       "      <th>Quantity</th>\n",
       "      <th>InvoiceDate</th>\n",
       "      <th>Price</th>\n",
       "      <th>Customer ID</th>\n",
       "      <th>Country</th>\n",
       "      <th>Day of Week</th>\n",
       "      <th>Date</th>\n",
       "      <th>Month</th>\n",
       "      <th>Year</th>\n",
       "      <th>Day of Year</th>\n",
       "      <th>Week of Year</th>\n",
       "      <th>Time Hour</th>\n",
       "      <th>Hour</th>\n",
       "    </tr>\n",
       "  </thead>\n",
       "  <tbody>\n",
       "    <tr>\n",
       "      <th>2994</th>\n",
       "      <td>489659</td>\n",
       "      <td>21350</td>\n",
       "      <td>NaN</td>\n",
       "      <td>230</td>\n",
       "      <td>2009-12-01 17:39:00</td>\n",
       "      <td>0.0</td>\n",
       "      <td>imp26</td>\n",
       "      <td>United Kingdom</td>\n",
       "      <td>Tuesday</td>\n",
       "      <td>01</td>\n",
       "      <td>Dec</td>\n",
       "      <td>2009</td>\n",
       "      <td>335</td>\n",
       "      <td>48</td>\n",
       "      <td>17:39:00</td>\n",
       "      <td>17</td>\n",
       "    </tr>\n",
       "    <tr>\n",
       "      <th>3549</th>\n",
       "      <td>489781</td>\n",
       "      <td>84292</td>\n",
       "      <td>NaN</td>\n",
       "      <td>17</td>\n",
       "      <td>2009-12-02 11:45:00</td>\n",
       "      <td>0.0</td>\n",
       "      <td>imp29</td>\n",
       "      <td>United Kingdom</td>\n",
       "      <td>Wednesday</td>\n",
       "      <td>02</td>\n",
       "      <td>Dec</td>\n",
       "      <td>2009</td>\n",
       "      <td>336</td>\n",
       "      <td>48</td>\n",
       "      <td>11:45:00</td>\n",
       "      <td>11</td>\n",
       "    </tr>\n",
       "    <tr>\n",
       "      <th>6146</th>\n",
       "      <td>489882</td>\n",
       "      <td>35751C</td>\n",
       "      <td>NaN</td>\n",
       "      <td>12</td>\n",
       "      <td>2009-12-02 16:22:00</td>\n",
       "      <td>0.0</td>\n",
       "      <td>imp37</td>\n",
       "      <td>United Kingdom</td>\n",
       "      <td>Wednesday</td>\n",
       "      <td>02</td>\n",
       "      <td>Dec</td>\n",
       "      <td>2009</td>\n",
       "      <td>336</td>\n",
       "      <td>48</td>\n",
       "      <td>16:22:00</td>\n",
       "      <td>16</td>\n",
       "    </tr>\n",
       "    <tr>\n",
       "      <th>6322</th>\n",
       "      <td>489898</td>\n",
       "      <td>79323G</td>\n",
       "      <td>NaN</td>\n",
       "      <td>954</td>\n",
       "      <td>2009-12-03 09:40:00</td>\n",
       "      <td>0.0</td>\n",
       "      <td>imp39</td>\n",
       "      <td>United Kingdom</td>\n",
       "      <td>Thursday</td>\n",
       "      <td>03</td>\n",
       "      <td>Dec</td>\n",
       "      <td>2009</td>\n",
       "      <td>337</td>\n",
       "      <td>48</td>\n",
       "      <td>09:40:00</td>\n",
       "      <td>9</td>\n",
       "    </tr>\n",
       "    <tr>\n",
       "      <th>6348</th>\n",
       "      <td>489903</td>\n",
       "      <td>21166</td>\n",
       "      <td>NaN</td>\n",
       "      <td>48</td>\n",
       "      <td>2009-12-03 09:57:00</td>\n",
       "      <td>0.0</td>\n",
       "      <td>imp42</td>\n",
       "      <td>United Kingdom</td>\n",
       "      <td>Thursday</td>\n",
       "      <td>03</td>\n",
       "      <td>Dec</td>\n",
       "      <td>2009</td>\n",
       "      <td>337</td>\n",
       "      <td>48</td>\n",
       "      <td>09:57:00</td>\n",
       "      <td>9</td>\n",
       "    </tr>\n",
       "    <tr>\n",
       "      <th>...</th>\n",
       "      <td>...</td>\n",
       "      <td>...</td>\n",
       "      <td>...</td>\n",
       "      <td>...</td>\n",
       "      <td>...</td>\n",
       "      <td>...</td>\n",
       "      <td>...</td>\n",
       "      <td>...</td>\n",
       "      <td>...</td>\n",
       "      <td>...</td>\n",
       "      <td>...</td>\n",
       "      <td>...</td>\n",
       "      <td>...</td>\n",
       "      <td>...</td>\n",
       "      <td>...</td>\n",
       "      <td>...</td>\n",
       "    </tr>\n",
       "    <tr>\n",
       "      <th>1001137</th>\n",
       "      <td>581103</td>\n",
       "      <td>22689</td>\n",
       "      <td>NaN</td>\n",
       "      <td>4</td>\n",
       "      <td>2011-12-07 11:58:00</td>\n",
       "      <td>0.0</td>\n",
       "      <td>imp8084</td>\n",
       "      <td>United Kingdom</td>\n",
       "      <td>Wednesday</td>\n",
       "      <td>07</td>\n",
       "      <td>Dec</td>\n",
       "      <td>2011</td>\n",
       "      <td>341</td>\n",
       "      <td>49</td>\n",
       "      <td>11:58:00</td>\n",
       "      <td>11</td>\n",
       "    </tr>\n",
       "    <tr>\n",
       "      <th>1002689</th>\n",
       "      <td>581203</td>\n",
       "      <td>23406</td>\n",
       "      <td>NaN</td>\n",
       "      <td>15</td>\n",
       "      <td>2011-12-07 18:31:00</td>\n",
       "      <td>0.0</td>\n",
       "      <td>imp8092</td>\n",
       "      <td>United Kingdom</td>\n",
       "      <td>Wednesday</td>\n",
       "      <td>07</td>\n",
       "      <td>Dec</td>\n",
       "      <td>2011</td>\n",
       "      <td>341</td>\n",
       "      <td>49</td>\n",
       "      <td>18:31:00</td>\n",
       "      <td>18</td>\n",
       "    </tr>\n",
       "    <tr>\n",
       "      <th>1002695</th>\n",
       "      <td>581209</td>\n",
       "      <td>21620</td>\n",
       "      <td>NaN</td>\n",
       "      <td>6</td>\n",
       "      <td>2011-12-07 18:35:00</td>\n",
       "      <td>0.0</td>\n",
       "      <td>imp8098</td>\n",
       "      <td>United Kingdom</td>\n",
       "      <td>Wednesday</td>\n",
       "      <td>07</td>\n",
       "      <td>Dec</td>\n",
       "      <td>2011</td>\n",
       "      <td>341</td>\n",
       "      <td>49</td>\n",
       "      <td>18:35:00</td>\n",
       "      <td>18</td>\n",
       "    </tr>\n",
       "    <tr>\n",
       "      <th>1004324</th>\n",
       "      <td>581234</td>\n",
       "      <td>72817</td>\n",
       "      <td>NaN</td>\n",
       "      <td>27</td>\n",
       "      <td>2011-12-08 10:33:00</td>\n",
       "      <td>0.0</td>\n",
       "      <td>imp8106</td>\n",
       "      <td>United Kingdom</td>\n",
       "      <td>Thursday</td>\n",
       "      <td>08</td>\n",
       "      <td>Dec</td>\n",
       "      <td>2011</td>\n",
       "      <td>342</td>\n",
       "      <td>49</td>\n",
       "      <td>10:33:00</td>\n",
       "      <td>10</td>\n",
       "    </tr>\n",
       "    <tr>\n",
       "      <th>1005857</th>\n",
       "      <td>581408</td>\n",
       "      <td>85175</td>\n",
       "      <td>NaN</td>\n",
       "      <td>20</td>\n",
       "      <td>2011-12-08 14:06:00</td>\n",
       "      <td>0.0</td>\n",
       "      <td>imp8110</td>\n",
       "      <td>United Kingdom</td>\n",
       "      <td>Thursday</td>\n",
       "      <td>08</td>\n",
       "      <td>Dec</td>\n",
       "      <td>2011</td>\n",
       "      <td>342</td>\n",
       "      <td>49</td>\n",
       "      <td>14:06:00</td>\n",
       "      <td>14</td>\n",
       "    </tr>\n",
       "  </tbody>\n",
       "</table>\n",
       "<p>1605 rows × 16 columns</p>\n",
       "</div>"
      ],
      "text/plain": [
       "         Invoice StockCode Description  Quantity         InvoiceDate  Price  \\\n",
       "2994      489659     21350         NaN       230 2009-12-01 17:39:00    0.0   \n",
       "3549      489781     84292         NaN        17 2009-12-02 11:45:00    0.0   \n",
       "6146      489882    35751C         NaN        12 2009-12-02 16:22:00    0.0   \n",
       "6322      489898    79323G         NaN       954 2009-12-03 09:40:00    0.0   \n",
       "6348      489903     21166         NaN        48 2009-12-03 09:57:00    0.0   \n",
       "...          ...       ...         ...       ...                 ...    ...   \n",
       "1001137   581103     22689         NaN         4 2011-12-07 11:58:00    0.0   \n",
       "1002689   581203     23406         NaN        15 2011-12-07 18:31:00    0.0   \n",
       "1002695   581209     21620         NaN         6 2011-12-07 18:35:00    0.0   \n",
       "1004324   581234     72817         NaN        27 2011-12-08 10:33:00    0.0   \n",
       "1005857   581408     85175         NaN        20 2011-12-08 14:06:00    0.0   \n",
       "\n",
       "        Customer ID         Country Day of Week Date Month  Year Day of Year  \\\n",
       "2994          imp26  United Kingdom     Tuesday   01   Dec  2009         335   \n",
       "3549          imp29  United Kingdom   Wednesday   02   Dec  2009         336   \n",
       "6146          imp37  United Kingdom   Wednesday   02   Dec  2009         336   \n",
       "6322          imp39  United Kingdom    Thursday   03   Dec  2009         337   \n",
       "6348          imp42  United Kingdom    Thursday   03   Dec  2009         337   \n",
       "...             ...             ...         ...  ...   ...   ...         ...   \n",
       "1001137     imp8084  United Kingdom   Wednesday   07   Dec  2011         341   \n",
       "1002689     imp8092  United Kingdom   Wednesday   07   Dec  2011         341   \n",
       "1002695     imp8098  United Kingdom   Wednesday   07   Dec  2011         341   \n",
       "1004324     imp8106  United Kingdom    Thursday   08   Dec  2011         342   \n",
       "1005857     imp8110  United Kingdom    Thursday   08   Dec  2011         342   \n",
       "\n",
       "        Week of Year Time Hour  Hour  \n",
       "2994              48  17:39:00    17  \n",
       "3549              48  11:45:00    11  \n",
       "6146              48  16:22:00    16  \n",
       "6322              48  09:40:00     9  \n",
       "6348              48  09:57:00     9  \n",
       "...              ...       ...   ...  \n",
       "1001137           49  11:58:00    11  \n",
       "1002689           49  18:31:00    18  \n",
       "1002695           49  18:35:00    18  \n",
       "1004324           49  10:33:00    10  \n",
       "1005857           49  14:06:00    14  \n",
       "\n",
       "[1605 rows x 16 columns]"
      ]
     },
     "metadata": {},
     "output_type": "display_data"
    },
    {
     "name": "stdout",
     "output_type": "stream",
     "text": [
      "We have 1605 missing values from Description Rows\n"
     ]
    }
   ],
   "source": [
    "display(nc[nc['Description'].isna()])\n",
    "print(f\"We have {nc['Description'].isna().sum()} missing values from Description Rows\")"
   ]
  },
  {
   "cell_type": "markdown",
   "metadata": {},
   "source": [
    "#### Cross Validation Check\n",
    "\n",
    "It's a logical whereas the `StockCode` represent `Description` as a unique Code.\n",
    "\n",
    "Separating `NaN` values  `DataFrame` and *Unique code `pd.Series`* before cross checking."
   ]
  },
  {
   "cell_type": "code",
   "execution_count": 22,
   "metadata": {
    "ExecuteTime": {
     "end_time": "2020-08-17T15:36:15.769169Z",
     "start_time": "2020-08-17T15:36:15.063387Z"
    },
    "execution": {
     "iopub.execute_input": "2020-08-06T12:56:11.654472Z",
     "iopub.status.busy": "2020-08-06T12:56:11.653470Z",
     "iopub.status.idle": "2020-08-06T12:56:12.229140Z",
     "shell.execute_reply": "2020-08-06T12:56:12.228141Z",
     "shell.execute_reply.started": "2020-08-06T12:56:11.654472Z"
    }
   },
   "outputs": [
    {
     "name": "stdout",
     "output_type": "stream",
     "text": [
      "There are 986 overlapping entries between those with and without 'Description' regarding the 'Stock Code'\n"
     ]
    }
   ],
   "source": [
    "# DataFrame\n",
    "desc_nan = nc[nc['Description'].isna()]\n",
    "desc_nonan = nc[~nc['Description'].isna()]\n",
    "\n",
    "# Unique Code\n",
    "\n",
    "stck_unq = desc_nonan['StockCode'].unique()\n",
    "stck_unq_nan = desc_nan['StockCode'].unique()\n",
    "\n",
    "cross_stck = [x for x in stck_unq_nan if x in stck_unq]\n",
    "\n",
    "print(f\"There are {len(cross_stck)} overlapping entries between those with \\\n",
    "and without 'Description' regarding the 'Stock Code'\")"
   ]
  },
  {
   "cell_type": "markdown",
   "metadata": {},
   "source": [
    "Checking overlapping result into Description"
   ]
  },
  {
   "cell_type": "raw",
   "metadata": {
    "execution": {
     "iopub.execute_input": "2020-08-06T06:37:47.574430Z",
     "iopub.status.busy": "2020-08-06T06:37:47.573430Z",
     "iopub.status.idle": "2020-08-06T06:37:48.064151Z",
     "shell.execute_reply": "2020-08-06T06:37:48.063150Z",
     "shell.execute_reply.started": "2020-08-06T06:37:47.574430Z"
    }
   },
   "source": [
    "pd.Series.sort_values()"
   ]
  },
  {
   "cell_type": "raw",
   "metadata": {},
   "source": [
    "pd.Series.drop_duplicates"
   ]
  },
  {
   "cell_type": "code",
   "execution_count": 23,
   "metadata": {
    "ExecuteTime": {
     "end_time": "2020-08-17T15:36:16.633607Z",
     "start_time": "2020-08-17T15:36:15.771629Z"
    },
    "execution": {
     "iopub.execute_input": "2020-08-06T12:56:14.873480Z",
     "iopub.status.busy": "2020-08-06T12:56:14.873480Z",
     "iopub.status.idle": "2020-08-06T12:56:15.785955Z",
     "shell.execute_reply": "2020-08-06T12:56:15.784956Z",
     "shell.execute_reply.started": "2020-08-06T12:56:14.873480Z"
    },
    "scrolled": true
   },
   "outputs": [
    {
     "data": {
      "text/html": [
       "<div>\n",
       "<style scoped>\n",
       "    .dataframe tbody tr th:only-of-type {\n",
       "        vertical-align: middle;\n",
       "    }\n",
       "\n",
       "    .dataframe tbody tr th {\n",
       "        vertical-align: top;\n",
       "    }\n",
       "\n",
       "    .dataframe thead th {\n",
       "        text-align: right;\n",
       "    }\n",
       "</style>\n",
       "<table border=\"1\" class=\"dataframe\">\n",
       "  <thead>\n",
       "    <tr style=\"text-align: right;\">\n",
       "      <th></th>\n",
       "      <th>StockCode</th>\n",
       "      <th>Description</th>\n",
       "    </tr>\n",
       "  </thead>\n",
       "  <tbody>\n",
       "    <tr>\n",
       "      <th>0</th>\n",
       "      <td>21350</td>\n",
       "      <td>GINGHAM HEART WREATH</td>\n",
       "    </tr>\n",
       "    <tr>\n",
       "      <th>1</th>\n",
       "      <td>84292</td>\n",
       "      <td>ROSE PINK METAL FOLDING CHAIR</td>\n",
       "    </tr>\n",
       "    <tr>\n",
       "      <th>2</th>\n",
       "      <td>35751C</td>\n",
       "      <td>PURPLE CURRENT CANDLE RING</td>\n",
       "    </tr>\n",
       "    <tr>\n",
       "      <th>3</th>\n",
       "      <td>79323G</td>\n",
       "      <td>GOLD  CHERRY LIGHTS</td>\n",
       "    </tr>\n",
       "    <tr>\n",
       "      <th>4</th>\n",
       "      <td>21166</td>\n",
       "      <td>COOK WITH WINE METAL SIGN</td>\n",
       "    </tr>\n",
       "  </tbody>\n",
       "</table>\n",
       "</div>"
      ],
      "text/plain": [
       "  StockCode                    Description\n",
       "0     21350           GINGHAM HEART WREATH\n",
       "1     84292  ROSE PINK METAL FOLDING CHAIR\n",
       "2    35751C     PURPLE CURRENT CANDLE RING\n",
       "3    79323G            GOLD  CHERRY LIGHTS\n",
       "4     21166     COOK WITH WINE METAL SIGN "
      ]
     },
     "metadata": {},
     "output_type": "display_data"
    },
    {
     "data": {
      "text/plain": [
       "(986, 2)"
      ]
     },
     "metadata": {},
     "output_type": "display_data"
    }
   ],
   "source": [
    "idx_stck = desc_nonan.set_index('StockCode')\n",
    "check_stck = idx_stck.loc[cross_stck, :][['Description']].drop_duplicates(keep='first').reset_index()\n",
    "# check_stck.reset_index(inplace=True)\n",
    "check_stck.drop_duplicates(subset='StockCode', keep='first', inplace=True)\n",
    "display(check_stck.head(), check_stck.shape)"
   ]
  },
  {
   "cell_type": "code",
   "execution_count": 24,
   "metadata": {
    "ExecuteTime": {
     "end_time": "2020-08-17T15:36:16.644602Z",
     "start_time": "2020-08-17T15:36:16.637607Z"
    },
    "execution": {
     "iopub.execute_input": "2020-08-06T12:56:19.004397Z",
     "iopub.status.busy": "2020-08-06T12:56:19.003400Z",
     "iopub.status.idle": "2020-08-06T12:56:19.011393Z",
     "shell.execute_reply": "2020-08-06T12:56:19.010396Z",
     "shell.execute_reply.started": "2020-08-06T12:56:19.004397Z"
    }
   },
   "outputs": [
    {
     "data": {
      "text/plain": [
       "986"
      ]
     },
     "execution_count": 24,
     "metadata": {},
     "output_type": "execute_result"
    }
   ],
   "source": [
    "len(check_stck['StockCode'].unique())"
   ]
  },
  {
   "cell_type": "code",
   "execution_count": 25,
   "metadata": {
    "ExecuteTime": {
     "end_time": "2020-08-17T15:36:16.659593Z",
     "start_time": "2020-08-17T15:36:16.647599Z"
    },
    "execution": {
     "iopub.execute_input": "2020-08-06T12:56:24.391280Z",
     "iopub.status.busy": "2020-08-06T12:56:24.391280Z",
     "iopub.status.idle": "2020-08-06T12:56:24.402272Z",
     "shell.execute_reply": "2020-08-06T12:56:24.401295Z",
     "shell.execute_reply.started": "2020-08-06T12:56:24.391280Z"
    }
   },
   "outputs": [],
   "source": [
    "nc.reset_index(inplace=True)"
   ]
  },
  {
   "cell_type": "code",
   "execution_count": 26,
   "metadata": {
    "ExecuteTime": {
     "end_time": "2020-08-17T15:36:17.032930Z",
     "start_time": "2020-08-17T15:36:16.661594Z"
    },
    "execution": {
     "iopub.execute_input": "2020-08-06T12:56:26.658445Z",
     "iopub.status.busy": "2020-08-06T12:56:26.657444Z",
     "iopub.status.idle": "2020-08-06T12:56:27.017525Z",
     "shell.execute_reply": "2020-08-06T12:56:27.016524Z",
     "shell.execute_reply.started": "2020-08-06T12:56:26.657444Z"
    }
   },
   "outputs": [],
   "source": [
    "nc.drop(columns='index', inplace=True)"
   ]
  },
  {
   "cell_type": "code",
   "execution_count": 27,
   "metadata": {
    "ExecuteTime": {
     "end_time": "2020-08-17T15:36:17.083430Z",
     "start_time": "2020-08-17T15:36:17.035694Z"
    },
    "execution": {
     "iopub.execute_input": "2020-08-06T12:56:29.132794Z",
     "iopub.status.busy": "2020-08-06T12:56:29.131796Z",
     "iopub.status.idle": "2020-08-06T12:56:29.171772Z",
     "shell.execute_reply": "2020-08-06T12:56:29.170771Z",
     "shell.execute_reply.started": "2020-08-06T12:56:29.132794Z"
    },
    "scrolled": true
   },
   "outputs": [
    {
     "data": {
      "text/plain": [
       "{'21350': 'GINGHAM HEART WREATH',\n",
       " '84292': 'ROSE PINK METAL FOLDING CHAIR',\n",
       " '35751C': 'PURPLE CURRENT CANDLE RING',\n",
       " '79323G': 'GOLD  CHERRY LIGHTS',\n",
       " '21166': 'COOK WITH WINE METAL SIGN ',\n",
       " '21982': 'PACK OF 12 SUKI TISSUES ',\n",
       " '84508B': 'STRIPES DESIGN TEDDY',\n",
       " '84347': 'ROTATING SILVER ANGELS T-LIGHT HLDR',\n",
       " '37446': 'MINI CAKE STAND WITH HANGING CAKES',\n",
       " '21133': 'PAINTED BIRD ASSORTED CHRISTMAS',\n",
       " '22158': '3 HEARTS HANGING DECORATION RUSTIC',\n",
       " '72008': 'FROSTED BOX 9 WHITE T-LIGHT CANDLES',\n",
       " '85185F': 'LION SOCK PUPPET',\n",
       " '84922': 'PINK BUTTERFLY WASHBAG',\n",
       " '20879': 'TREE OF NOAH FESTIVE SCENTED CANDLE',\n",
       " '35980C': 'REDWHITE STRIPE SCANDINAVIAN HEART ',\n",
       " '22188': 'BLACK HEART CARD HOLDER',\n",
       " '22174': 'PHOTO CUBE',\n",
       " '72267': 'PREMIUM CHURCH CANDLE',\n",
       " '22187': 'GREEN CHRISTMAS TREE CARD HOLDER',\n",
       " '16161C': 'WRAP SPEED DEMONS ',\n",
       " '47503F': 'ASS FLORAL PRINT TORCH',\n",
       " '72045D': 'ROSES ON BLUE TEACUP CANDLE ',\n",
       " '84249D': 'FAIRY CAKE GREETINGS CARD',\n",
       " '17164B': \"ASS COL SMALL SAND GECKO P'WEIGHT\",\n",
       " '84247H': 'PACK/12 DECOUPAGE CARD',\n",
       " '84199': 'GLOW IN DARK DOLPHINS',\n",
       " '37485': 'ENGLISH ROSE TEA SET IN GIFT BOX',\n",
       " '84814B': 'RHOMBUS CRYSTAL PERFUME BOTTLE',\n",
       " '72756': 'FAIRY CAKE CANDLES',\n",
       " '20736': 'PINK MINI TAPE MEASURE ',\n",
       " '22197': 'POPCORN HOLDER , SMALL ',\n",
       " '20668': 'DISCO BALL CHRISTMAS DECORATION',\n",
       " '20952': 'PORCELAIN CHERUB BELL SMALL',\n",
       " '72724': 'SET/6 CHRISTMAS ICICLE T-LIGHTS',\n",
       " '21560': 'TOADSTOOL  LUNCHBOX WITH CUTLERY',\n",
       " '17164D': \"ASS COL SMALL SAND FROG P'WEIGHT\",\n",
       " '35603B': 'S/16 BLACK SHINY/MAT BAUBLES',\n",
       " '35999': 'S/6 SCANDINAVIAN HEART T-LIGHT',\n",
       " '79163': 'BLACK CHAMPAGNE GLASS',\n",
       " '85230C': 'ROSE SCENTED VOTIVE CANDLE',\n",
       " '85230D': 'VANILLA SCENTED VOTIVE CANDLE',\n",
       " '72708': 'SCULPTED ROUND IVORY CANDLE ',\n",
       " '22144': 'CHRISTMAS CRAFT LITTLE FRIENDS',\n",
       " '35051B': 'PINK BEADED CONE CHRISTMAS',\n",
       " '22330': '72 ROUND PINK DOILIES',\n",
       " '22390': 'PAPERWEIGHT CHILDHOOD MEMORIES',\n",
       " '84251C': 'GREETING CARD, TWO SISTERS.',\n",
       " '21478': 'SILVER SKULL HOT WATER BOTTLE ',\n",
       " '20621': 'ECONOMY PASSPORT COVER ',\n",
       " '71477': 'COLOUR GLASS. STAR T-LIGHT HOLDER',\n",
       " '85151': 'WELCOME METAL SIGN',\n",
       " '22141': 'CHRISTMAS CRAFT TREE TOP ANGEL',\n",
       " '44091C': 'MULTICOLOUR CRUSOE CHECK LAMPSHADE',\n",
       " '47556': 'SET/2 SPOTTY + ROSE TEA TOWELS ',\n",
       " '85083': 'KISS REINDEER SCANDINAVIAN STOCKING',\n",
       " '90002A': 'FLOWER BURST SILVER RING OPAL',\n",
       " '20673': 'STRAWBERRIES PRINT BOWL',\n",
       " '20887': 'BOX OF 6 PEBBLE CANDLES',\n",
       " '20884': 'MODERN CHRISTMAS TREE CANDLE ',\n",
       " '84921': 'CREAM AND PINK FLOWERS PONY ',\n",
       " '21852': 'EMPIRE TEDDY',\n",
       " '22113': 'GREY HEART HOT WATER BOTTLE',\n",
       " '46307': 'ROSES BLUE BASE CUSHION COVER ',\n",
       " '84029D': 'LEOPARD PRINT HOT WATER BOTTLE',\n",
       " '84247N': 'PACK/12 BLUE FOLKART CARDS',\n",
       " '17129C': 'SKY BLUE COLOUR GLASS GEMS IN BAG',\n",
       " '21787': 'RAIN PONCHO WITH RED SPOTS',\n",
       " '37451': 'CERAMIC CAKE TEAPOT WITH CHERRY',\n",
       " '35001P': 'HAND OPEN SHAPE PINK',\n",
       " '78056': 'CAMOUFLAGE BACKPACK ON WHEELS',\n",
       " '79065A': 'TEATIME ROUND CAKE TINS ',\n",
       " '21915': 'RED  HARMONICA IN BOX ',\n",
       " '21169': \"YOU'RE CONFUSING ME METAL SIGN \",\n",
       " '35821P': 'JEWELLED DECORATION,PINK',\n",
       " '21767': 'FRENCH STYLE WIRE DOOR CABINET ',\n",
       " '84803B': 'WHITE ALLIUM  ARTIFICIAL FLOWER',\n",
       " '21450': 'DISTRESSED CANDLE STICK WHITE',\n",
       " '21543': 'BUTTERFLY WATER TRANSFER TATTOOS ',\n",
       " '84255A': 'PINK GLASS COCKTAIL LAMP',\n",
       " '20683': 'RAIN GIRL CHILDS UMBRELLA',\n",
       " '72487': 'ROSES WHITE ROUND CANDLE',\n",
       " '37484': 'ENGLISH ROSE TEA FOR ONE GIFT BOX',\n",
       " '37468': 'HARDMAN MUG 3 ASSORTED',\n",
       " '20721': 'OWLS CHARLOTTE BAG',\n",
       " '20737': 'RED MINI TAPE MEASURE ',\n",
       " '84972L': 'GIANT PINK HEART MEMO HOLDER',\n",
       " '72785A': 'S/4 CONTEMPORY PINK ROSEBUD CANDLES',\n",
       " '72803B': 'OCEAN SCENT CANDLE JEWELLED DRAWER',\n",
       " '84945': 'MULTI COLOUR SILVER T-LIGHT HOLDER',\n",
       " '84757': 'ENCHANTED GARDEN WROUGHT IRON TABLE',\n",
       " '35945': 'GOLD CHRISTMAS STOCKING DECORATION',\n",
       " '35598C': 'WHITE CHRISTMAS TREE 60CM',\n",
       " '85018C': 'S/6 PAPER BOXES CURIOUS IMAGES ',\n",
       " '37492C': 'GREEN BLUE FLOWER PIGGY BANK',\n",
       " '40046C': 'PINK BUTTERFLY PAPER LAMPSHADE',\n",
       " '21558': 'SKULL LUNCHBOX WITH CUTLERY ',\n",
       " '84753A': 'PINK EAU DE COLOGNE BOTTLE',\n",
       " '37509': 'NEW ENGLAND MUG W GIFT BOX',\n",
       " '20940': 'SET/6 GARDEN GNOME T-LIGHT CANDLES',\n",
       " '90004A': 'JADE GREEN PAIR ENAMEL HAIR SLIDES',\n",
       " '20870': 'OPULENT VELVET CANDLE IN BOX',\n",
       " '90121B': 'VINTAGE ROSE BEAD BRACELET BLUE',\n",
       " '20973': '12 PENCIL SMALL TUBE WOODLAND',\n",
       " '21353': 'SILVER SLEIGHBELL  WREATH',\n",
       " '21479': 'WHITE SKULL HOT WATER BOTTLE ',\n",
       " '84855': 'BLOKEY SILVER TOOL SET',\n",
       " '62097A': 'PINK STRIPES SHOULDER BAG',\n",
       " '85232C': 'RUSSIAN FOLKART STACKING TINS',\n",
       " '85064': 'CREAM SWEETHEART LETTER RACK',\n",
       " '90082C': 'DIAMANTE BOW BROOCH WHITE COLOUR',\n",
       " '90091': 'CRYSTAL DRAGONFLY PHONE CHARM',\n",
       " '21981': 'PACK OF 12 WOODLAND TISSUES ',\n",
       " '17129D': 'CLEAR COLOUR GLASS GEMS IN BAG',\n",
       " '84925D': 'LA PALMIERA WALL THERMOMETER',\n",
       " '20714': 'POSY SHOPPER BAG',\n",
       " '20913': 'SET/5 BLUE SPOTTY LID GLASS BOWLS',\n",
       " '21477': 'STRING OF 20 ROSE LIGHTS',\n",
       " '20968': 'GREEN FLORAL FELTCRAFT SHOULDER BAG',\n",
       " '16206B': 'RED PURSE WITH PINK HEART',\n",
       " '21731': 'RED TOADSTOOL LED NIGHT LIGHT',\n",
       " '79321': 'CHILLI LIGHTS',\n",
       " '84795E': 'RIO PINK STRIPE HAMMOCK',\n",
       " '84933C': 'LARGE BLUE ORIENTAL FOLDING STOOL',\n",
       " '85070': 'ANT WHITE SWEETHEART TABLE W 3 DRAW',\n",
       " '84723': 'CHERRY BLOSSOM CANVAS ART PICTURE',\n",
       " '72739B': 'WHITE CHOCOLATE SCENT CANDLE',\n",
       " '47562': 'ENGLISH ROSE IRONING BOARD COVER',\n",
       " '46000P': 'POLYESTER FILLER PAD 65CMx65CM',\n",
       " '72789': 'BASKET/8 SCENTED LOVE TOKEN CANDLES',\n",
       " '21554': 'CERAMIC BIRDHOUSE RED ROOF LARGE',\n",
       " '18096C': 'WHITE ROUND PORCELAIN TLIGHT HOLDER',\n",
       " '20791': 'BLUE TILED SET OF 3 DRAWERS',\n",
       " '21340': 'CLASSIC METAL BIRDCAGE PLANT HOLDER',\n",
       " '21322': 'GLASS SPHERE CANDLE STAND LARGE ',\n",
       " '21893': 'POTTING SHED SEED TIN',\n",
       " '21914': 'BLUE HARMONICA IN BOX ',\n",
       " '18097B': 'BLUE TALL PORCELAIN T-LIGHT HOLDER',\n",
       " '84288B': 'SET/2 BLUE  NOODLE BASKETS',\n",
       " '72796A': 'S/3 ENGLISH LAVENDER SQU CANDLE',\n",
       " '21252': 'SET OF MEADOW  FLOWER STICKERS',\n",
       " '21363': 'HOME SMALL WOOD LETTERS',\n",
       " '21551': 'CERAMIC BIRDHOUSE BUTTERFLY LARGE',\n",
       " '21409': 'SPOTTY COCKEREL DOORSTOP',\n",
       " '21779': 'MA CAMPAGNE MINI WOODEN CHEST',\n",
       " '84030B': 'KNITTED POM POM HOT WATER BOTTLE',\n",
       " '85166A': 'WHITE METAL BAROQUE PHOTO FRAME',\n",
       " '85023A': 'CRYSTAL LARGE JEWELLED PHOTO FRAME',\n",
       " '85043': 'RED HEART CANDY POP LIGHTS',\n",
       " '16254': 'TRANSPARENT ACRYLIC TAPE DISPENSER',\n",
       " '35822B': 'ACRYLIC BEAD CHAIN, BLUE',\n",
       " '84596I': 'WRAP SWEETS LIGHT PINK SMALL BOWL',\n",
       " '46775A': 'BUBBLE GUM CHUNKY KNITTED THROW ',\n",
       " '84292B': 'BLUE COL METAL FOLDING CHAIR',\n",
       " '22657': 'HEN & 2 CHICKS IN BASKET',\n",
       " '22016': 'Dotcomgiftshop Gift Voucher £100.00',\n",
       " '84227': 'HEN HOUSE W CHICK IN NEST',\n",
       " '22139': 'RETRO SPOT TEA SET CERAMIC 11 PC ',\n",
       " '16207A': 'PINK STRAWBERRY HANDBAG ',\n",
       " '84925A': 'WAKE UP COCKEREL WALL THERMOMETER',\n",
       " '21967': 'PACK OF 12 SKULL TISSUES',\n",
       " '72785B': 'S/4 CONTEMPORY RED ROSEBUD CANDLES',\n",
       " '51012C': 'FEATHER DUSTER, COAL BLACK',\n",
       " '84450A': 'PINK RABBIT SITTING EASTER',\n",
       " '44091A': 'BLUE CRUSOE CHECK LAMPSHADE',\n",
       " '82011E': 'BATHROOM SCALES, FAG BREAK',\n",
       " '22169': 'FAMILY ALBUM WHITE PICTURE FRAME',\n",
       " '79303A': 'WHITE ROHMBIC BLOCK TABLE LAMP',\n",
       " '84798C': 'WHITE FOXGLOVE ARTIIFCIAL FLOWER',\n",
       " '84425A': 'WHITE GLASS TV TRIPLE FRAME',\n",
       " '21338': 'MARAKESH LANTERN SMALL ',\n",
       " '84081': 'WHITE CERAMIC PARTY SET (5PCS)',\n",
       " '84705C': 'PINK FLOCK PHOTO FRAME ',\n",
       " '16168S': 'FUNKY MONKEY GIFT BAG SMALL',\n",
       " '84926B': 'SCOTTS ROSES TILE COASTER',\n",
       " '21098': 'CHRISTMAS TOILET ROLL',\n",
       " '21489': 'BLUE WHITE SCARF HOT WATER BOTTLE',\n",
       " '22058': 'CERAMIC LOVE HEARTS DESIGN MUG',\n",
       " '84830': 'LARGE ENGLISH ARBORETUM',\n",
       " '84251J': 'GREETING CARD, THE BLACK CAT',\n",
       " '20804': 'GLASS CHICKEN BUTTER DISH',\n",
       " '10124A': 'SPOTS ON RED BOOKCOVER TAPE',\n",
       " '72796B': 'S/3 FRENCH VANILLA SQU CANDLE',\n",
       " '20698': 'LITTLE PINK MONSTER SOFT TOY',\n",
       " '37477C': 'FLOWER FAIRY MUG+COASTER,ROSE',\n",
       " '85097B': 'BLUE ROCKING SINGING CANARY',\n",
       " '72799A': 'BLACK PILLAR CANDLE SILVER FLOCK',\n",
       " '21729': 'SMALL MARAKESH METAL  LANTERN ',\n",
       " '20747': 'PICCADILLY TEA SET',\n",
       " '84845C': 'CARNATION SQUARE HANDY TIN',\n",
       " '84845D': 'GERANIUM SQUARE HANDY TIN',\n",
       " '20899': 'VINTAGE NOTEBOOK RED ROSE',\n",
       " '37462E': 'PET MUG, GOLDFISH',\n",
       " '77079': 'DOLPHIN WINDMILL',\n",
       " '37488A': 'YELLOW PINK FLOWER DESIGN BIG BOWL',\n",
       " '44217M': 'MULTICOLOUR FEATHERS CURTAIN',\n",
       " '22432': 'WATERING CAN PINK BUNNY',\n",
       " '85114C': 'RED ENCHANTED FOREST PLACEMAT',\n",
       " '82553': \"POP'S GREASY SPOON METAL SIGN\",\n",
       " '16044': 'POP-ART FLUORESCENT PENS',\n",
       " '21984': 'PACK OF 12 PINK PAISLEY TISSUES ',\n",
       " '35001B': 'HAND OPEN SHAPE BLACK',\n",
       " '21309': 'LOUVRE CHALKBOARD',\n",
       " '84464': 'S/60 PINK FLUFFY CHICKS IN BOX',\n",
       " '21256': 'FRENCH BOTTLE, BRASSERIE DES ARTIST',\n",
       " '20672': 'PINK TEATIME PRINT BOWL',\n",
       " '16207B': 'PINK HEART RED HANDBAG',\n",
       " '15056P': 'EDWARDIAN PARASOL PINK',\n",
       " '15056BL': 'EDWARDIAN PARASOL BLACK',\n",
       " '72728': 'ROSE SCENT CANDLES IN GLASS',\n",
       " '21387': 'IVORY HANGING DECORATION  RABBIT',\n",
       " '21095': 'SET/6 POSIES PAPER PLATES',\n",
       " '37410': 'BLACK AND WHITE PAISLEY FLOWER MUG',\n",
       " '20849': 'ZINC HEART LATTICE DOUBLE PLANTER',\n",
       " '20776': 'ABSTRACT CIRCLES NOTEBOOK',\n",
       " '20774': 'GREEN FERN NOTEBOOK',\n",
       " '20775': 'DAISY NOTEBOOK ',\n",
       " '20731': 'POSY CANDY BAG',\n",
       " '21553': 'CERAMIC BIRDHOUSE FINCH BLUE  LARGE',\n",
       " '22295': 'HEART FILIGREE DOVE LARGE',\n",
       " '90111': 'BLUE HIBISCUS  HAIR CLIP',\n",
       " '21396': 'RED SPOTTY EGG CUP ',\n",
       " '21623': 'VINTAGE UNION JACK MEMOBOARD',\n",
       " '84706A': 'ENGLISH ROSE TABLE CLOCK',\n",
       " '84520D': 'PACK OF 20 FAIRY CAKE PAPER NAPKINS',\n",
       " '72750C': 'F.FAIRY S/3 CANDLE/GLASS, ROSE',\n",
       " '84947': 'ANTIQUE SILVER TEA GLASS ENGRAVED',\n",
       " '84219': 'BOX/12 MOTHER & CHICK IN BASKET/BOW',\n",
       " '84997A': 'GREEN 3 PIECE MINI DOTS CUTLERY SET',\n",
       " '82613A': 'METAL SIGN,CUPCAKE SINGLE HOOK',\n",
       " '82585': 'SWEET VALENCIA CANDLE+CUP',\n",
       " '35096A': 'BLUE VICTORIAN FABRIC HEART BOX',\n",
       " '37502': 'TEA TIME MUG IN GIFT BOX',\n",
       " '84427B': 'BLACK GLASS TV DOUBLE P/FRAME 15X10',\n",
       " '72484': 'ROSES IN WHITE HEART CANDLE ',\n",
       " '85049C': 'ROMANTIC PINKS RIBBONS ',\n",
       " '90084': 'PINK CRYSTAL GUITAR PHONE CHARM',\n",
       " '84030C': 'KNITTED RAINBOW HOT WATER BOTTLE',\n",
       " '22125': 'UNION JACK HOT WATER BOTTLE ',\n",
       " '22364': 'GLASS JAR DIGESTIVE BISCUITS',\n",
       " '22362': 'GLASS JAR PEACOCK BATH SALTS',\n",
       " '35970': 'ZINC FOLKART SLEIGH BELLS',\n",
       " '20688': 'BEAUTY SPEED EXPRESSO CUPS',\n",
       " '20689': 'RETRO SISTERS EXPRESSO CUPS',\n",
       " '20989': 'URBAN CHIC CHOPSTICKS SET/5',\n",
       " '84767': 'ZINC POLICE BOX LANTERN',\n",
       " '84437A': 'S/6 PINK EASTER DECS IN BOX',\n",
       " '21255': 'FRENCH BOTTLE , LAVENDER',\n",
       " '16161P': 'WRAP ENGLISH ROSE ',\n",
       " '85053': 'FRENCH ENAMEL CANDLEHOLDER',\n",
       " '16244A': 'MAXWELL 2 TONE PINK 60 PAGE PHOTO A',\n",
       " '84402D': 'PINK DRESS JEWELLERY STAND ',\n",
       " '79413': 'GLASS WINE GLASS DECORATIONS',\n",
       " '21752': 'GLASS CAKE STAND MIRRORED BASE',\n",
       " '79303D': 'LILAC FLOWER BLOCK TABLE LAMP',\n",
       " '84469': 'ROSE DES PADDED FLOOR CUSHION',\n",
       " '84984B': 'RED PEONY DES C/COVER ',\n",
       " '17109A': 'FLOWER FAIRY INCENSE LILY',\n",
       " '85196': 'EASTER BUNNIES ON A STICK',\n",
       " '85206B': 'PINK FELT EASTER EGG BASKET',\n",
       " '21384': 'IVORY HANGING DECORATION  BUTTERFLY',\n",
       " '48195': 'DOOR MAT GREEN PAISLEY ',\n",
       " '85014D': 'PINK/BROWN DOTS RUFFLED UMBRELLA',\n",
       " '22146': 'EASTER CRAFT IVY WREATH WITH CHICK',\n",
       " '84447': '6 RABBIT CHAIN EASTER',\n",
       " '37326': 'FAIRY DESIGN MUGS',\n",
       " '21385': 'IVORY HANGING DECORATION  HEART',\n",
       " '84814A': 'HEXAGONAL CRYSTAL PERFUME BOTTLE',\n",
       " '84750A': 'PINK SMALL GLASS CAKE STAND',\n",
       " '85167A': 'WHITE GRAND BAROQUE PHOTO FRAME',\n",
       " '84746': 'PINK EASTER HENS+FLOWER',\n",
       " '21173': 'LOO ROLL  METAL SIGN ',\n",
       " '22290': 'STANDING METAL RABBIT WITH EGG',\n",
       " '84467': 'ENGLISH ROSE DESIGN QUILTED THROW',\n",
       " '21321': 'GLASS CHALICE BLUE  LARGE ',\n",
       " '21193': 'WHITE HONEYCOMB PAPER FAN ',\n",
       " '84914A': 'PINK ROSE PICNIC RUG',\n",
       " '22719': 'GUMBALL COATHOOK., BLACK & WHITE ',\n",
       " '22528': 'GARDENERS KNEELING PAD',\n",
       " '22558': 'CLOTHES PEGS RETROSPOT PACK 24 ',\n",
       " '84875D': 'BLUE SQUARE COMPACT MIRROR',\n",
       " '47503A': 'ASS FLORAL PRINT MULTI SCREWDRIVER',\n",
       " '22180': 'RETRO SPOT LAMP',\n",
       " '22429': 'ENAMEL MEASURING JUG CREAM',\n",
       " '20685': 'RED SPOTTY COIR DOORMAT',\n",
       " '37501': 'TEA TIME TEA SET IN GIFT BOX',\n",
       " '21663': 'VINTAGE GLASS SUGAR CADDY',\n",
       " '47504G': 'ENGLISH ROSE TAPE MEASURE',\n",
       " '90197D': 'AMBER GLASS BRACELET HEART CHARMS',\n",
       " '84971L': 'LARGE HEART FLOWERS HOOK   ',\n",
       " '47570': 'ENGLISH ROSE TABLE CLOTH',\n",
       " '84627': 'CANDY STRIPE ROSE C/COVER ',\n",
       " '85113': 'POLKA DOT PISTACHIO PAIL',\n",
       " '21759': 'METAL WALL SHELF UNIT WITH HOOKS',\n",
       " '84795C': 'OCEAN STRIPE HAMMOCK ',\n",
       " '84795A': 'PASTEL STRIPE HAMMOCK ',\n",
       " '10080': 'GROOVY CACTUS INFLATABLE',\n",
       " '75149N': 'STRING CRYSTALS NATURAL',\n",
       " '16156N': 'WRAP, FRIENDSHIP ON GREEN',\n",
       " '84461': '12 PINK HEN+CHICKS IN BASKET',\n",
       " '21935': 'SUKI  SHOULDER BAG',\n",
       " '35004P': 'SET OF 3 PINK FLYING DUCKS',\n",
       " '21670': 'BLUE SPOT CERAMIC DRAWER KNOB',\n",
       " '84247E': 'PACK/12 XMAS FUN CARD',\n",
       " '46115B': 'GREEN POP ART MAO CUSHION COVER ',\n",
       " '37461': 'FUNKY MONKEY MUG',\n",
       " '75049L': 'LARGE CIRCULAR MIRROR MOBILE',\n",
       " '84670': 'JAPANESE CROCHETED ANIMAL',\n",
       " '17014A': 'ORIGAMI VANILLA INCENSE CONES',\n",
       " '17014E': 'ORIGAMI OPIUM INCENSE CONES',\n",
       " '84620': 'BLUE GINGHAM ROSE CUSHION COVER',\n",
       " '84854': 'GIRLY PINK TOOL SET',\n",
       " '21552': 'CERAMIC BIRDHOUSE BLACK ROSE  LARGE',\n",
       " '47587A': 'PINK FAIRY CAKE COASTER',\n",
       " '84629': 'WHITE 3 FRAME BIRDS AND TREE ',\n",
       " '85121B': 'RETRO LAUNDRY TUB PINK',\n",
       " '85231E': 'STRAWBERRY SCENTED SET/9 T-LIGHTS',\n",
       " '85050': 'FRENCH ENAMEL SOAP DISH WITH LID',\n",
       " '40018E': 'TEA TIME PAPER LANTERNS',\n",
       " '84251F': 'GREETING CARD, RITA',\n",
       " '16161M': 'WRAP  PINK FLOCK',\n",
       " '85185C': 'COW  SOCK PUPPET',\n",
       " '85014C': 'BLUE/BROWN DOTS RUFFLED UMBRELLA',\n",
       " '84526': 'GIANT BLACK SUNGLASSES',\n",
       " '84529A': 'PINK KNITTED KIDS RUCKSACK',\n",
       " '17014F': 'ORIGAMI SANDLEWOOD INCENSE CONES',\n",
       " '72798C': 'SET/4 GARDEN ROSE DINNER CANDLE',\n",
       " '72799D': 'BLUE PILLAR CANDLE SILVER FLOCK',\n",
       " '84597B': 'RETRO BROWN BALL ASHTRAY ',\n",
       " '20785': 'FUSCHIA RETRO BAR STOOL',\n",
       " '20786': 'BLACK RETRO BAR STOOL',\n",
       " '20957': 'PORCELAIN HANGING BELL SMALL',\n",
       " '84575B': 'BROWN DOG CANNISTER W BONE',\n",
       " '84743C': 'ORANGE FELT VASE + FLOWERS',\n",
       " '22348': 'TEA BAG PLATE RED SPOTTY ',\n",
       " '84937': 'KASHMIR FOLKART TUMBLERS',\n",
       " '21950': 'SET OF 6 DOTS CHOPSTICKS',\n",
       " '20990': 'SPRING FLOWER CHOPSTICKS SET/5',\n",
       " '84986B': 'SET OF 36 SILVER PAPER DOILIES',\n",
       " '84510B': 'SET OF 4 FAIRY CAKES COASTERS ',\n",
       " '84596K': 'JELLY BABIES YELLOW SMALL BOWL',\n",
       " '84564': '6 SEGMENT COLOURED SNACK BOWL ',\n",
       " '84595B': 'LARGE TRIFLE DESIGN L BLUE BOWL',\n",
       " '84795D': 'SEASIDE STRIPE HAMMOCK',\n",
       " '84858B': 'BLUE RIVIERA HANDBAG',\n",
       " '20862': 'PINK PATCH PENCIL CASE BLUE HEART',\n",
       " '21357': 'TOAST ITS - DINOSAUR',\n",
       " '37483': 'ENGLISH ROSE MUG IN GIFT BOX',\n",
       " '79308B': 'MOSAIC CANDLE DISH BLUE PURPLE',\n",
       " '21749': 'LARGE RED SPOT WINDMILL',\n",
       " '77081': 'FLOWER WINDMILL',\n",
       " '21837': 'CROSS STITCH ALPHABET CUSHION COVER',\n",
       " '84690': 'S/2 BEACH HUT STOOLS',\n",
       " '22193': 'RED DINER WALL CLOCK',\n",
       " '16052': 'TEATIME PUSH DOWN RUBBER',\n",
       " '21145': 'ANTIQUE GLASS PLACE SETTING',\n",
       " '22467': 'GUMBALL COAT RACK',\n",
       " '85078': 'SCANDINAVIAN 3 HEARTS NAPKIN RING',\n",
       " '21341': 'KASBAH LANTERN WITH GLASS ',\n",
       " '84886': 'BLUE METAL WALL SHELF',\n",
       " '84891B': 'GREEN WIRE GOBLET CANDLEHOLDER',\n",
       " '16162M': 'THE KING GIFT BAG 25x24x12cm',\n",
       " '21928': 'JUMBO BAG SCANDINAVIAN PAISLEY',\n",
       " '72800A': 'S/4 BLACK DINNER CANDLE SILVER FLOC',\n",
       " '84990': '60 GOLD AND SILVER FAIRY CAKE CASES',\n",
       " '84857A': 'SILVER MONTE CARLO HANDBAG',\n",
       " '46775E': 'CANDY POP CHUNKY KNITTED THROW ',\n",
       " '37491C': 'GREEN/BLUE CERAMIC CANDLE HOLDER',\n",
       " '37491A': 'YELLOW/PINK CERAMIC CANDLE HOLDER',\n",
       " '84402B': 'PURPLE DRESS JEWELLERY STAND',\n",
       " '84680': 'CLASSICAL ROSE URN',\n",
       " '35809B': 'ENAMEL BLUE RIM TEA CONTAINER',\n",
       " '35597D': 'PINK/WHITE CHRISTMAS TREE 30CM',\n",
       " '21698': 'MOCK LOBSTER FRIDGE MAGNET',\n",
       " '79030A': 'TUMBLER, ENGLISH ROSE',\n",
       " '35240': 'ENAMEL BLUE RIM OVAL TRAY SET/2',\n",
       " '84709A': 'SILVER OVAL JEWELLED MIRROR',\n",
       " '44228': 'CANNABIS LEAF BEAD CURTAIN',\n",
       " '84709B': 'PINK OVAL JEWELLED MIRROR',\n",
       " '84712B': 'PINK JEWELLED PHOTO FRAME',\n",
       " '17001': 'HEAVENS SCENT FRAGRANCE OILS ASSTD',\n",
       " '79161A': 'ST GEORGE SET OF 10 PARTY LIGHTS',\n",
       " '37441': 'ASSORTED WHITE EMBOSSED CHINA MUGS',\n",
       " '79532': 'MOSAIC GLASS BALL CANDLEHOLDER',\n",
       " '47592B': \"SCOTTIES DESIGN CHILD'S OVERALL\",\n",
       " '84856S': 'SMALL TAHITI BEACH BAG',\n",
       " '79331': 'PINK FLOCK GLASS CANDLEHOLDER',\n",
       " '84497': 'BUTTONS AND STRIPES NOTEBOOK ',\n",
       " '21226': 'POCKET MIRROR WOODLAND',\n",
       " '75013B': 'STRING OF 8 BUTTERFLIES,PINK',\n",
       " '37462B': 'PET MUG, BUDGIE',\n",
       " '37422': 'WHITE WITH BLACK CATS BOWL',\n",
       " '84762A': 'WHITE PICNIC BARBECUE BUCKET',\n",
       " '20845': 'ZINC HEART LATTICE 2 WALL PLANTER',\n",
       " '90042C': 'FRESHWATER PEARL BRACELET IVORY',\n",
       " '90081B': 'LILY BROOCH WHITE/SILVER COLOUR',\n",
       " '90094': 'NECKLACE+BRACELET SET FRUIT SALAD ',\n",
       " '90060D': 'FIRE POLISHED GLASS NECKL BRONZE',\n",
       " '90162A': 'ANT SILVER TURQUOISE BOUDICCA RING',\n",
       " '90212C': 'PURPLE LAS VEGAS BRACELET ROUND',\n",
       " '90036B': 'FLOWER GLASS GARLAND NECKL.36\"GREEN',\n",
       " '90025C': 'BAROQUE BUTTERFLY EARRINGS GREEN',\n",
       " '90011C': 'GREEN CRYSTAL DROP EARRINGS',\n",
       " '90000C': 'OPAL WHITE/SILVER FLOWER NECKLACE',\n",
       " '90139': 'FLOWER BROOCH 4 ASSORTED COLOURS',\n",
       " '90090': 'PINK CRYSTAL HEART PHONE CHARM',\n",
       " '90087': 'CRYSTAL SEA HORSE PHONE CHARM',\n",
       " '90128B': 'BLUE LEAVES AND BEADS PHONE CHARM',\n",
       " '90128A': 'PINK LEAVES AND BEADS PHONE CHARM',\n",
       " '90104': 'PURPLE FRANGIPANI HAIRCLIP',\n",
       " '84684': 'BEACH HUT PHOTO FRAME',\n",
       " '47505': 'MINATURE COLOURED GARDENING SET',\n",
       " '37481': 'CUBIC MUG TEATIME CAKES',\n",
       " '85162B': 'BLACK RETRODISC LAMPSHADE',\n",
       " '21871': 'SAVE THE PLANET MUG',\n",
       " '21077': 'SET/20 WOODLAND PAPER NAPKINS ',\n",
       " '37479B': 'CUBIC MUG FLOCK BLUE ON BROWN',\n",
       " '22236': 'CAKE STAND 3 TIER MAGIC GARDEN',\n",
       " '21869': 'POTTING SHED COFFEE MUG',\n",
       " '84873A': 'FUNKY FLOWER PICNIC BAG FOR 4',\n",
       " '21740': 'COSY SLIPPER SHOES LARGE RED',\n",
       " '84977': 'WIRE FLOWER T-LIGHT HOLDER',\n",
       " '21736': 'GOLD SCROLL GLASS T-LIGHT HOLDER',\n",
       " '16051': 'TEATIME PENCIL W STAMP ASST',\n",
       " '16256B': 'FLOWER PENCIL/RUBBER+5 MINI PENCILS',\n",
       " '84424A': 'FOUR PICTURE WHITE GLASS FRAME',\n",
       " '84791': 'GINGHAM HEART DECORATION',\n",
       " '20861': 'GOLD COSMETIC BAG PINK STAR',\n",
       " '20729': 'RED SPOTTY CANDY BAG',\n",
       " '85222': 'ASSORTED COLOUR SILK COSMETIC PURSE',\n",
       " '51020B': 'STRIPY DESIGN SHOWER CAP',\n",
       " '47598': 'NEW ENGLAND EGG WARMER',\n",
       " '47591C': \"BLUE FAIRY CAKE CHILD'S APRON\",\n",
       " '22347': 'PIZZA SLICE DISH',\n",
       " '47566B': 'TEA TIME PARTY BUNTING',\n",
       " '22640': 'SET OF 4 NAPKIN CHARMS 3 KEYS ',\n",
       " '84932A': 'SMALL GREEN PEONY FOLDING STOOL',\n",
       " '84932D': 'SMALL ORIENTAL RED FOLDING STOOL',\n",
       " '21923': 'RED/CREAM STRIPE FRINGE HAMMOCK',\n",
       " '90060C': 'FIRE POLISHED GLASS NECKL SILVER',\n",
       " '84279B': 'CHERRY BLOSSOM DECORATIVE FLASK',\n",
       " '90035B': 'PEARL & SHELL 42\"NECKL. PINK',\n",
       " '21730': 'GLASS STAR FROSTED T-LIGHT HOLDER',\n",
       " '21185': ' HOME SWEET HOME  BLACKBOARD',\n",
       " '82607E': \"GLASS BONBON JAR. D'AMANDES\",\n",
       " '22192': 'BLUE DINER WALL CLOCK',\n",
       " '22122': 'SET OF 2 FANCY FONT TEA TOWELS',\n",
       " '85080': 'PADDED RED HEART DECORATION',\n",
       " '35838A': 'S/6 MULTICOLOUR ORNAMENETAL CANDLE',\n",
       " '21768': 'WALL MOUNTED VINTAGE ORGANISER',\n",
       " '35838B': 'S/6 SILVER ORNAMENETAL CANDLE',\n",
       " '22656': 'VINTAGE BLUE KITCHEN CABINET',\n",
       " '22655': 'VINTAGE RED KITCHEN CABINET',\n",
       " '79320': ' FLAMINGO LIGHTS',\n",
       " '21924': 'BLUE/CREAM STRIPE FRINGE HAMMOCK',\n",
       " '84968D': 'S/16 VINTAGE RED CUTLERY',\n",
       " '21765': 'HANGING METAL BIRD BATH',\n",
       " '85041': 'SET/4 PINK ORCHID CANDLES IN BOWL',\n",
       " '20660': 'VIP LUGGAGE TAG ',\n",
       " '47599A': 'PINK PARTY BAGS',\n",
       " '22639': 'SET OF 4 NAPKIN CHARMS HEARTS',\n",
       " '22638': 'SET OF 4 NAPKIN CHARMS CROWNS ',\n",
       " '22641': 'SET OF 4 NAPKIN CHARMS INSTRUMENT',\n",
       " '22642': 'SET OF 4 NAPKIN CHARMS STARS   ',\n",
       " '22643': 'SET OF 4 NAPKIN CHARMS LEAVES   ',\n",
       " '22604': 'SET OF 4 NAPKIN CHARMS CUTLERY',\n",
       " '48103': 'DOOR MAT KISS MY.......',\n",
       " '21121': 'SET/10 RED SPOTTY PARTY CANDLES',\n",
       " '22607': 'WOODEN ROUNDERS GARDEN SET ',\n",
       " '22752': 'SET 7 BABUSHKA NESTING BOXES',\n",
       " '22753': 'SMALL YELLOW BABUSHKA NOTEBOOK ',\n",
       " '22754': 'SMALL RED BABUSHKA NOTEBOOK ',\n",
       " '22756': 'LARGE YELLOW BABUSHKA NOTEBOOK ',\n",
       " '22757': 'LARGE RED BABUSHKA NOTEBOOK ',\n",
       " '22755': 'SMALL PURPLE BABUSHKA NOTEBOOK ',\n",
       " '22759': 'SET OF 3 NOTEBOOKS IN PARCEL',\n",
       " '22758': 'LARGE PURPLE BABUSHKA NOTEBOOK  ',\n",
       " '21181': 'PLEASE ONE PERSON  METAL SIGN',\n",
       " '22621': 'TRADITIONAL KNITTING NANCY',\n",
       " '84837': 'WHITE SWEETHEARTS CABINET 4 DRAWERS',\n",
       " '85160A': 'WHITE BIRD GARDEN DESIGN MUG',\n",
       " '16162L': 'THE KING GIFT BAG',\n",
       " '22456': 'NATURAL SLATE CHALKBOARD LARGE ',\n",
       " '21796': 'SET OF 3 RED STRIPE BASKETS',\n",
       " '10123G': 'ARMY CAMO WRAPPING TAPE',\n",
       " '21323': 'HANGING MEDINA LANTERN LARGE',\n",
       " '85160B': 'BLACK BIRD GARDEN DESIGN MUG',\n",
       " '21690': 'SILVER  CANDLEPOT JARDIN ',\n",
       " '22171': '3 HOOK PHOTO SHELF ANTIQUE WHITE',\n",
       " '20863': 'BLUE PATCH PENCIL CASE PINK HEART',\n",
       " '48184': 'DOOR MAT ENGLISH ROSE ',\n",
       " '21795': 'SET OF 3 BLUE STRIPE BASKET',\n",
       " '21545': 'CERAMIC BIRDHOUSE BUTTERFLY SMALL',\n",
       " '84918': 'CREAM C/COVER W YELLOW/GREEN FLOWER',\n",
       " '21214': 'SET OF 72 IVORY PAPER DOILIES',\n",
       " '84926C': 'FAIRY CAKES TILE COASTER',\n",
       " '22487': 'WHITE WOOD GARDEN PLANT LADDER',\n",
       " '79029': 'GLASS HONEYPOT WASP CATCHER',\n",
       " '82072': 'WHITE WOOD SINGLE P/FRAME',\n",
       " '21585': 'SWALLOW SMALL TUBE MATCHES',\n",
       " '21728': 'METAL MEDINA LANTERN ',\n",
       " '90002C': \"FLOWER BURST SILVER RING MIDN'T BLU\",\n",
       " '21280': 'VINTAGE KITCHEN PRINT VEGETABLES',\n",
       " '37444B': 'BLUE BREAKFAST CUP AND SAUCER ',\n",
       " '22961': 'JAM MAKING SET PRINTED',\n",
       " '82597': 'BOMBS AWAY METAL SIGN',\n",
       " '22963': 'JAM JAR WITH BLUE LID',\n",
       " '21216': 'SET 3 RED SPOT TIN TEA,COFFEE,SUGAR',\n",
       " '84975': 'HEART SHAPED MIRROR',\n",
       " '22086': \"PAPER CHAIN KIT 50'S CHRISTMAS \",\n",
       " '22326': 'ROUND SNACK BOXES ,SET4, WOODLAND ',\n",
       " '37449': 'CERAMIC CAKE STAND + HANGING CAKES',\n",
       " '47566': 'PARTY BUNTING',\n",
       " '22690': 'DOORMAT HOME SWEET HOME BLUE ',\n",
       " '22302': 'COFFEE MUG PEARS  DESIGN',\n",
       " '20713': 'JUMBO BAG OWLS',\n",
       " '20976': '12 PENCILS SMALL TUBE POSY',\n",
       " '85129A': 'WHITE PEARL BEADED HEART, SMALL',\n",
       " '90002E': 'FLOWER BURST SILVER RING GREEN',\n",
       " '22143': 'CHRISTMAS CRAFT HEART DECORATIONS',\n",
       " '78026': 'SEAGRASS S/3 SQU LAUNDRY BOX',\n",
       " '22692': 'DOORMAT WELCOME TO OUR HOME',\n",
       " '85217': 'ASSORTED ICE CREAM FRIDGE MAGNETS',\n",
       " '47567B': 'TEA TIME KITCHEN APRON',\n",
       " '22087': 'PAPER BUNTING WHITE LACE',\n",
       " '20692': 'FLORAL ELEPHANT SOFT TOY',\n",
       " '20960': 'WATERMELON BATH SPONGE',\n",
       " '21312': 'LARGE CHUNKY GLASS ROMAN BOWL',\n",
       " '21687': 'SILVER PLATE CANDLE BOWL LARGE',\n",
       " '22910': 'PAPER CHAIN KIT VINTAGE CHRISTMAS',\n",
       " '22895': 'SET OF 2 TEA TOWELS APPLE AND PEARS',\n",
       " '22950': '36 DOILIES VINTAGE CHRISTMAS',\n",
       " '22952': '72 CAKE CASES VINTAGE CHRISTMAS',\n",
       " '22909': 'SET OF 20 VINTAGE CHRISTMAS NAPKINS',\n",
       " '21610': 'SET 12 PEAR BOTANICAL T-LIGHTS',\n",
       " '21493': ' VINTAGE DESIGN GIFT TAGS',\n",
       " '48116': 'DOOR MAT MULTICOLOUR STRIPE',\n",
       " '21082': 'SET/20 FRUIT SALAD PAPER NAPKINS ',\n",
       " '21529': 'RETRO SPOT CERAMIC TOASTRACK',\n",
       " '84858A': 'NATURAL RIVIERA HANDBAG',\n",
       " '90040D': 'MURANO STYLE GLASS BRACELET PINK',\n",
       " '21490': \"SET OF THREE 50'S GIFT WRAPS \",\n",
       " '79336': 'LIGHT PINK FLOCK GLASS CANDLEHOLDER',\n",
       " '85231L': 'LAVENDER SCENTED SET/9 T-LIGHTS',\n",
       " '85184D': 'S/4 BLUE ROUND DECOUPAGE BOXES',\n",
       " '51008': 'AFGHAN SLIPPER SOCK PAIR',\n",
       " '17165D': \"ASS COL LARGE SAND FROG P'WEIGHT\",\n",
       " '21538': 'DAIRY MAID  PUDDING BOWL',\n",
       " '72529W': 'WHITE ADVENT CANDLE',\n",
       " '22900': ' SET 2 TEA TOWELS I LOVE LONDON ',\n",
       " '22898': 'CHILDRENS APRON APPLE DESIGN',\n",
       " '22908': 'PACK OF 20 NAPKINS RED APPLES',\n",
       " '22894': 'TABLECLOTH RED APPLES DESIGN ',\n",
       " '22897': 'OVEN MITT APPLE DESIGN',\n",
       " '22896': 'PEG BAG APPLE DESIGN',\n",
       " '22939': 'APRON APPLE DELIGHT',\n",
       " '21482': 'MUSHROOM BLUE HOT WATER BOTTLE',\n",
       " '21007': 'ETCHED GLASS DROPLET DECORATION',\n",
       " '85028L': 'FRENCH CHATEAU LARGE FRUIT BOWL ',\n",
       " '82582': 'AREA PATROLLED METAL SIGN',\n",
       " '85028S': 'FRENCH CHATEAU SMALL FRUITBOWL',\n",
       " '20787': 'BLUE RETRO BAR STOOL',\n",
       " '84247C': 'PACK/12 BLUE REINDEER CARD',\n",
       " '35981C': 'WHITE SNOW SCANDINAVIAN STOCKING ',\n",
       " '21330': 'WOODLAND ANIMAL  WRITING SET ',\n",
       " '35596': 'WOOD XMAS TREE 9 FIG SHELVES',\n",
       " '85065': 'CREAM SWEETHEART TRAYS',\n",
       " '20943': 'SET/6 GINGERBREAD STAR T-LIGHTS',\n",
       " '21542': 'WOODLAND WATER TRANSFER TATTOOS ',\n",
       " '35811A': 'ENAMEL PINK SUGAR CONTAINER',\n",
       " '79534': 'MULTICOLOUR GLASS PLATE',\n",
       " '85124A': 'PINK JUICY FRUIT PHOTO FRAME',\n",
       " '17165B': \"ASS COL LARGE SAND GECKO P'WEIGHT\",\n",
       " '48188': 'DOOR MAT WELCOME PUPPIES',\n",
       " '22285': 'DECORATION HEN ON NEST, HANGING',\n",
       " '20734': 'SILVER MINI TAPE MEASURE ',\n",
       " '21432': 'SET OF 3 CASES WOODLAND DESIGN',\n",
       " '21532': 'DAIRY MAID SUGAR JAM BOWL',\n",
       " '35160': 'BUDDHA INCENSE HOLDER ASSORTED',\n",
       " '16248B': 'BLUE HOLE PUNCH',\n",
       " '82607A': 'GLASS BONBON JAR PARFUME AUX FLEURE',\n",
       " '37448': 'CERAMIC CAKE DESIGN SPOTTED MUG',\n",
       " '84691': 'PACK 20 DOLLY PEGS',\n",
       " '22850': 'BREAD BIN DINER STYLE BLACK',\n",
       " '85031B': 'BLOSSOM IMAGES SCRAP BOOK SET',\n",
       " '22689': 'DOORMAT MERRY CHRISTMAS RED ',\n",
       " '22596': 'CHRISTMAS STAR WISH LIST CHALKBOARD',\n",
       " '22080': 'RIBBON REEL SPOTS DESIGN ',\n",
       " '17033': 'BROCADE PURSE,SMALL ARCH BUTTON',\n",
       " '22469': 'HEART OF WICKER SMALL',\n",
       " '35991': 'SET/6 BLACK SNOWFLAKE T-LIGHTS ',\n",
       " '85042': 'ANTIQUE LILY FAIRY LIGHTS',\n",
       " '85031C': 'CURIOUS IMAGES SCRAP BOOK SET',\n",
       " '21806': 'WHITE CHRISTMAS HEART DECORATION',\n",
       " '21016': 'LIGHT BIRD HOUSE TREE DECORATION',\n",
       " '35833G': '4 GOLD FLOCK CHRISTMAS BALLS',\n",
       " '35962': '12 ASS ZINC CHRISTMAS DECORATIONS',\n",
       " '21010': 'ETCHED GLASS BIRD TREE DECORATION',\n",
       " '82615': 'PINK MARSHMALLOW SCARF KNITTING KIT',\n",
       " '82011B': 'BATHROOM SCALES RUBBER DUCKS',\n",
       " '20821': 'GOLDIE LOOKING MIRROR',\n",
       " '21738': 'COSY SLIPPER SHOES SMALL  RED ',\n",
       " '72024U': 'LILAC VOTIVE CANDLE',\n",
       " '85044': 'RED REINDEER STRING OF 20 LIGHTS',\n",
       " '85026B': 'EAU DE NILE JEWELLED T-LIGHT HOLDER',\n",
       " '35633B': 'BLUE TINSEL GARLAND ',\n",
       " '20934': 'SET/3 POT PLANT CANDLES',\n",
       " '16202B': 'PASTEL BLUE PHOTO ALBUM ',\n",
       " '22138': 'BAKING SET 9 PIECE RETROSPOT ',\n",
       " '21268': 'VINTAGE BLUE TINSEL REEL',\n",
       " '84964A': 'PINK PAINTED KASHMIRI TABLE',\n",
       " '90203': 'SILVER CHARM NECKLACE 70CM',\n",
       " '85047': 'WHITE BEADED GARLAND STRING 20LIGHT',\n",
       " '21009': 'ETCHED GLASS STAR TREE DECORATION',\n",
       " '85216': 'ASSORTED CAKES FRIDGE MAGNETS',\n",
       " '85024B': 'EAU DE NILE JEWELLED PHOTOFRAME',\n",
       " '16202E': 'BLACK PHOTO ALBUM ',\n",
       " '85224': 'ASSORTED COLOUR SILK GLASSES CASE',\n",
       " '71279': 'PINK GLASS CANDLEHOLDER',\n",
       " '85214': 'TUB 24 PINK FLOWER PEGS',\n",
       " '35833P': '4 PINK FLOCK CHRISTMAS BALLS',\n",
       " '85195': 'HANGING HEART BASKET',\n",
       " '37444C': 'PINK BREAKFAST CUP AND SAUCER ',\n",
       " '21757': 'LIGHTHOUSE PRINTED METAL SIGN',\n",
       " '47503H': 'ASS FLORAL PRINT SPIRIT LEVEL ',\n",
       " '17012A': 'ORIGAMI VANILLA INCENSE/CANDLE SET ',\n",
       " '35271S': 'GOLD PRINT PAPER BAG',\n",
       " '85226C': 'BLUE PULL BACK RACING CAR',\n",
       " '37352': 'BIRD IN TREE MUG ',\n",
       " '85040B': 'SET/4 BLUE FLOWER CANDLES IN BOWL',\n",
       " '35832': 'WOOLLY HAT SOCK GLOVE ADVENT STRING',\n",
       " '85150': 'LADIES & GENTLEMEN METAL SIGN',\n",
       " '21659': 'GLASS CAKE STAND',\n",
       " '82551': 'LAUNDRY 15C METAL SIGN',\n",
       " '22275': 'WEEKEND BAG VINTAGE ROSE PAISLEY',\n",
       " '85033S': 'SET/6 SILVER REINDEER T-LIGHTS',\n",
       " '21590': 'KINGS CHOICE CIGAR BOX MATCHES ',\n",
       " '16212': 'FUNKY GIRLZ ASST MAGNETIC MEMO PAD',\n",
       " '22145': 'CHRISTMAS CRAFT HEART STOCKING ',\n",
       " '35932': 'PINK CHRISTMAS TREE DECORATION',\n",
       " '85189': 'HANGING BUTTERFLY  EGG',\n",
       " '35400': 'WOODEN BOX ADVENT CALENDAR ',\n",
       " '22470': 'HEART OF WICKER LARGE',\n",
       " '22734': 'SET OF 6 RIBBONS VINTAGE CHRISTMAS',\n",
       " '22687': 'DOORMAT CHRISTMAS VILLAGE',\n",
       " '72814': 'SET/3 CHRISTMAS BRIAR CANDLES',\n",
       " '85232B': 'SET/3 RUSSIAN DOLL STACKING TINS',\n",
       " '21186': 'WHITE DOVE HONEYCOMB PAPER GARLAND',\n",
       " '21614': 'SET OF 12 ROSE BOTANICAL T-LIGHTS',\n",
       " '21770': 'OPEN CLOSED METAL SIGN',\n",
       " '84803A': 'PINK ALLIUM  ARTIFICIAL FLOWER',\n",
       " '21134': 'VICTORIAN METAL POSTCARD CHRISTMAS',\n",
       " '85226A': 'WHITE/BLUE PULL BACK RACING CAR',\n",
       " '20950': 'SET/6  ANGEL T-LIGHTS WHITE/GOLD',\n",
       " '84952C': 'MIRROR LOVE BIRD T-LIGHT HOLDER',\n",
       " '35951': 'FOLKART BAUBLE CHRISTMAS DECORATION',\n",
       " '21421': 'PORCELAIN ROSE LARGE ',\n",
       " '21651': 'HANGING GLASS ETCHED TEALIGHT',\n",
       " '21777': 'RECIPE BOX WITH METAL HEART',\n",
       " '85215': 'ASSORTED CHEESE FRIDGE MAGNETS',\n",
       " '84270': 'ASSTD DESIGN BUBBLE GUM RING',\n",
       " '22959': 'WRAP CHRISTMAS VILLAGE',\n",
       " '90167': 'BEADED LOVE HEART JEWELLERY SET',\n",
       " '37474': 'SET/4 2 TONE EGG SHAPE MIXING BOWLS',\n",
       " '85170A': 'SET/6 IVORY BIRD T-LIGHT CANDLES',\n",
       " '21595': \"Dad's Cab Electronic Meter\",\n",
       " '21661': 'VINTAGE GLASS TEA CADDY',\n",
       " '35958': 'FOLKART ZINC STAR CHRISTMAS DEC',\n",
       " '22114': 'HOT WATER BOTTLE TEA AND SYMPATHY',\n",
       " '21488': 'RED WHITE SCARF  HOT WATER BOTTLE',\n",
       " '84688': 'BEACH HUT DESIGN BLACKBOARD',\n",
       " '17091A': 'LAVENDER INCENSE IN TIN',\n",
       " '84773': 'RED ROSE AND LACE C/COVER',\n",
       " '20878': 'SET/9 CHRISTMAS T-LIGHTS SCENTED ',\n",
       " '62095B': 'TURQOISE ICE CREAM SUNHAT',\n",
       " '84802A': 'WHITE ANEMONE ARTIFICIAL FLOWER',\n",
       " '90002D': 'FLOWER BURST SILVER RING CRYSTAL',\n",
       " '90042B': 'FRESHWATER PEARL BRACELET PINK',\n",
       " '22218': 'CAKE STAND LACE WHITE',\n",
       " '84534B': 'FAIRY CAKE NOTEBOOK A5 SIZE',\n",
       " '20956': 'PORCELAIN T-LIGHT HOLDERS ASSORTED',\n",
       " '85084': 'HOLLY TOP CHRISTMAS STOCKING',\n",
       " '22444': 'GROW YOUR OWN PLANT IN A CAN ',\n",
       " '22591': 'CARDHOLDER GINGHAM CHRISTMAS TREE',\n",
       " '21491': 'SET OF THREE VINTAGE GIFT WRAPS',\n",
       " '84689': 'S/2 BEACH HUT TREASURE CHESTS',\n",
       " '84675': 'FROG KING WATERING CAN',\n",
       " '22501': 'PICNIC BASKET WICKER LARGE',\n",
       " '90112': 'PINK DOLLY HAIR CLIPS',\n",
       " '35957': 'SMALLFOLKART BAUBLE CHRISTMAS DEC',\n",
       " '21667': 'GLASS CAKE COVER AND PLATE',\n",
       " '82605': 'OLD DOC.RUSSEL METAL SIGN',\n",
       " '84562A': 'PINK/WHITE RIBBED MELAMINE JUG',\n",
       " '22323': 'PINK POLKADOT KIDS BAG',\n",
       " '21632': 'VINTAGE PINK DECORATIVE PARASOL',\n",
       " '21348': 'PINK SPOTS CHOCOLATE NESTING BOXES ',\n",
       " '21324': 'HANGING MEDINA LANTERN SMALL',\n",
       " '84823': 'DANISH ROSE FOLDING CHAIR',\n",
       " '84452': 'METAL RABBIT LADDER EASTER ',\n",
       " '37413': 'ICON MUG REVOLUTIONARY',\n",
       " '79063D': 'RETRO PILL BOX , REVOLUTIONARY',\n",
       " '20798': 'CLEAR MILKSHAKE GLASS',\n",
       " '37467': 'PIG MUG IN TWO COLOUR DESIGNS',\n",
       " '85049B': 'LUSH GREENS RIBBONS',\n",
       " '22830': 'UTILTY CABINET WITH HOOKS',\n",
       " '22866': 'HAND WARMER SCOTTY DOG DESIGN',\n",
       " '35607A': 'PINK FLUFFY CHRISTMAS DECORATION',\n",
       " '22242': 'HOOK, 5 HANGER , MAGIC TOADSTOOL',\n",
       " '47591B': \"SCOTTIES DES CHILD'S APRON\",\n",
       " '79063C': 'RETRO PILL BOX KEY CHAIN,THE KING',\n",
       " '79062D': 'RETRO TIN ASHTRAY,REVOLUTIONARY',\n",
       " '22353': 'LUNCHBOX WITH CUTLERY FAIRY CAKES ',\n",
       " '22833': 'HALL CABINET WITH 3 DRAWERS',\n",
       " '35645': 'VINTAGE BEAD PINK JEWEL BOX',\n",
       " '84611B': 'BLACK NEW BAROQUE FLOCK BOX',\n",
       " '84306': 'S/3 PINK SQUARE PLANTERS ROSES',\n",
       " '21429': 'RED GINGHAM ROSE JEWELLERY BOX',\n",
       " '22451': 'SILK PURSE RUSSIAN DOLL RED',\n",
       " '21655': 'HANGING RIDGE GLASS T-LIGHT HOLDER',\n",
       " '22837': 'HOT WATER BOTTLE BABUSHKA ',\n",
       " '16033': 'MINI HIGHLIGHTER PENS',\n",
       " '22865': 'HAND WARMER OWL DESIGN',\n",
       " '84029E': 'RED WOOLLY HOTTIE WHITE HEART.',\n",
       " '15058A': 'BLUE WHITE SPOTS GARDEN PARASOL',\n",
       " '84459B': 'YELLOW METAL CHICKEN HEART ',\n",
       " '21973': 'SET OF 36 MUSHROOM PAPER DOILIES',\n",
       " '90200C': 'BLUE SWEETHEART BRACELET',\n",
       " '84535A': 'ENGLISH ROSE NOTEBOOK A6 SIZE',\n",
       " '84247K': 'FOLK ART GREETING CARD,pack/12',\n",
       " '79302M': 'ART LIGHTS,FUNK MONKEY',\n",
       " '85045': 'GREEN CHRISTMAS TREE STRING 20LIGHT',\n",
       " '21484': 'CHICK GREY HOT WATER BOTTLE',\n",
       " '84029G': 'KNITTED UNION FLAG HOT WATER BOTTLE',\n",
       " '21555': 'CERAMIC STRAWBERRY TRINKET TRAY',\n",
       " '85185B': 'PINK HORSE SOCK PUPPET',\n",
       " '85096': 'HILDA CANDY SPOT RABBIT',\n",
       " '23348': 'CHILDRENS TOY COOKING UTENSIL SET',\n",
       " '22272': 'FELTCRAFT DOLL MARIA',\n",
       " '77101A': 'UNION FLAG WINDSOCK',\n",
       " '22838': '3 TIER CAKE TIN RED AND CREAM',\n",
       " '85206A': 'CREAM FELT EASTER EGG BASKET',\n",
       " '21717': 'EASTER TIN BUCKET',\n",
       " '85197': 'SET OF 12 MINI BUNNIES IN A BUCKET',\n",
       " '21258': 'VICTORIAN SEWING BOX LARGE',\n",
       " '22627': 'MINT KITCHEN SCALES',\n",
       " '21826': 'EIGHT PIECE DINOSAUR SET',\n",
       " '84840': 'SWEETHEART CARRY-ALL BASKET',\n",
       " '22764': 'RUSTIC WOODEN CABINET, GLASS DOORS',\n",
       " '21841': 'BABY MOUSE RED GINGHAM DRESS',\n",
       " '84968B': 'S/16 VINTAGE IVORY CUTLERY',\n",
       " '90005A': 'JADE GREEN ENAMEL HAIR COMB',\n",
       " '85025C': 'PINK HEART SHAPE PHOTO FRAME',\n",
       " '21898': 'POTTING SHED ROSE CANDLE',\n",
       " '21393': 'BLUE  SPOTTY PUDDING BOWL',\n",
       " '21445': '12 PINK ROSE PEG PLACE SETTINGS',\n",
       " '71038': 'WHITE HANGING BEADS CANDLE HOLDER',\n",
       " '47593A': 'CAROUSEL DESIGN BABY BIB',\n",
       " '10002': 'INFLATABLE POLITICAL GLOBE ',\n",
       " '20702': 'PINK PADDED MOBILE',\n",
       " '84906': \"PINK B'FLY C/COVER W BOBBLES\",\n",
       " '15030': 'FAN BLACK FRAME ',\n",
       " '90010A': 'MIDNIGHT BLUE GLASS/SILVER BRACELET',\n",
       " '90082B': 'DIAMANTE BOW BROOCH RED COLOUR',\n",
       " '84596E': 'SMALL LICORICE DES PINK BOWL',\n",
       " '72800D': 'S/4 BLUE DINNER CANDLE SILVER FLOCK',\n",
       " '72801G': 'S/4 BURGUNDY WINE DINNER CANDLES',\n",
       " '22720': 'SET OF 3 CAKE TINS PANTRY DESIGN ',\n",
       " '84507B': 'STRIPES DESIGN MONKEY DOLL',\n",
       " '84741C': 'CITRUS GARLAND FELT FLOWERS ',\n",
       " '21279': 'VINTAGE KITCHEN PRINT FRUITS',\n",
       " '21278': 'VINTAGE KITCHEN PRINT PUDDINGS',\n",
       " '82494L': 'WOODEN FRAME ANTIQUE WHITE ',\n",
       " '20760': 'GARDEN PATH POCKET BOOK',\n",
       " '22988': 'SOLDIERS EGG CUP ',\n",
       " '35819B': 'ACRYLIC HANGING JEWEL,BLUE',\n",
       " '21664': 'RIDGED GLASS STORAGE JAR CREAM LID',\n",
       " '84247L': 'FAWN AND MUSHROOM GREETING CARD',\n",
       " '44265': 'M/COLOUR POM-POM CURTAIN',\n",
       " '84912A': 'PINK ROSE WASHBAG',\n",
       " '20748': 'KENSINGTON COFFEE SET',\n",
       " '35914': 'PINK CHICK EGG WARMER + EGG CUP',\n",
       " '84858C': 'PINK RIVIERA HANDBAG',\n",
       " '84857C': 'PINK MONTE CARLO HANDBAG',\n",
       " '62043B': 'BLUE CHECK BAG W HANDLE 34X20CM',\n",
       " '85146': 'JARDIN ETCHED GLASS SMALL BELL JAR',\n",
       " '22168': 'ORGANISER WOOD, ANTIQUE WHITE ',\n",
       " '21527': 'RETRO SPOT TRADITIONAL TEAPOT ',\n",
       " '22847': 'BREAD BIN, DINER STYLE, IVORY',\n",
       " '35915C': 'PEACH KNITTED HEN ',\n",
       " '84388': 'WISE MAN STAR SHAPE EGG PAN',\n",
       " '85027L': 'FRENCH CHATEAU LARGE PLATTER ',\n",
       " '22867': 'HAND WARMER BIRD DESIGN',\n",
       " '20941': 'FROG CANDLE',\n",
       " '85200': 'BUNNY EGG BOX',\n",
       " '85145': 'JARDIN ETCHED GLASS LARGE BELL JAR',\n",
       " '21911': 'GARDEN METAL SIGN ',\n",
       " '22632': 'HAND WARMER RED POLKA DOT',\n",
       " '85008': 'SET OF 3 CONEY ISLAND OVAL BOXES',\n",
       " '22777': 'GLASS CLOCHE LARGE',\n",
       " '82483': 'WOOD 2 DRAWER CABINET WHITE FINISH',\n",
       " '21897': 'POTTING SHED CANDLE CITRONELLA',\n",
       " '22459': 'CAST IRON HOOK GARDEN TROWEL',\n",
       " '85099F': 'JUMBO BAG STRAWBERRY',\n",
       " '16015': 'MEDIUM CHINESE STYLE SCISSOR',\n",
       " '22173': 'METAL 4 HOOK HANGER FRENCH CHATEAU',\n",
       " '21269': 'ANTIQUE CREAM CUTLERY SHELF ',\n",
       " '84539': 'KNITTED RABBIT DOLL ',\n",
       " '21355': 'TOAST ITS - I LOVE YOU ',\n",
       " '18098C': 'PORCELAIN BUTTERFLY OIL BURNER',\n",
       " '84685': 'BEACH HUT KEY CABINET',\n",
       " '47589': 'CONGRATULATIONS BUNTING',\n",
       " '20778': 'GARDEN PATH NOTEBOOK ',\n",
       " '20851': 'ZINC HEART LATTICE TRAY OVAL ',\n",
       " '22202': 'MILK PAN PINK RETROSPOT',\n",
       " '84596J': 'MIXED NUTS LIGHT GREEN BOWL',\n",
       " '20964': 'POLYESTER FILLER PAD 60x40cm',\n",
       " '22726': 'ALARM CLOCK BAKELIKE GREEN',\n",
       " '21143': 'ANTIQUE GLASS HEART DECORATION ',\n",
       " '22078': 'RIBBON REEL LACE DESIGN ',\n",
       " '37444A': 'YELLOW BREAKFAST CUP AND SAUCER',\n",
       " '82599': \"FANNY'S REST STOPMETAL SIGN\",\n",
       " '84760S': 'SMALL HANGING GLASS+ZINC LANTERN',\n",
       " '23444': 'Next Day Carriage',\n",
       " '20886': 'BOX OF 9 PEBBLE CANDLES',\n",
       " '85185D': 'FROG SOCK PUPPET',\n",
       " '20966': 'SANDWICH BATH SPONGE',\n",
       " '84313C': 'ORANGE TV TRAY TABLE ',\n",
       " '79164': 'BLACK WINE GLASS',\n",
       " '20975': '12 PENCILS SMALL TUBE RED SPOTTY',\n",
       " '35653': 'VINTAGE BEAD NOTEBOOK',\n",
       " '20664': 'TROPICAL HOLIDAY PURSE ',\n",
       " '85016': 'SET OF 6 VINTAGE NOTELETS KIT',\n",
       " '16049': 'TEATIME GEL PENS ASST',\n",
       " '20801': 'LARGE PINK GLASS SUNDAE DISH',\n",
       " '21904': 'HOUSE WRECKING METAL SIGN ',\n",
       " '84917': 'WHITE HAND TOWEL WITH BUTTERFLY',\n",
       " '22502': 'PICNIC BASKET WICKER SMALL',\n",
       " '84796B': 'BLUE SAVANNAH PICNIC HAMPER FOR 2',\n",
       " '21027': 'NINJA RABBIT PINK',\n",
       " '47021G': 'SET/6 BEAD COASTERS GAUZE BAG GOLD',\n",
       " '22968': 'ROSE COTTAGE KEEPSAKE BOX ',\n",
       " '22783': 'SET 3 WICKER OVAL BASKETS W LIDS',\n",
       " '84548': 'CROCHET BEAR RED/BLUE  KEYRING',\n",
       " '21784': 'SHOE SHINE BOX ',\n",
       " '35965': 'FOLKART HEART NAPKIN RINGS',\n",
       " '85141': 'JARDIN ETCHED GLASS FRUITBOWL',\n",
       " '21937': 'STRAWBERRY   PICNIC BAG',\n",
       " '22084': 'PAPER CHAIN KIT EMPIRE',\n",
       " '85213': 'MINI  ZINC GARDEN DECORATIONS ',\n",
       " '84387A': 'BIRD ON BRANCH CANVAS SCREEN',\n",
       " '47013C': 'WINE BOTTLE DRESSING DARK BLUE',\n",
       " '23574': 'PACKING CHARGE',\n",
       " '35966': 'FOLKART CHRISTMAS TREE T-LIGHT HOLD',\n",
       " '84857B': 'BLUE MONTE CARLO HANDBAG',\n",
       " '84686': 'BEACH HUT MIRROR',\n",
       " '20716': 'PARTY FOOD SHOPPER BAG',\n",
       " '82583': 'HOT BATHS METAL SIGN',\n",
       " '84944': 'SET OF 6 KASHMIR FOLKART BAUBLES',\n",
       " '23283': 'DOORMAT VINTAGE LEAVES DESIGN ',\n",
       " '21763': 'VINTAGE WOODEN BAR STOOL',\n",
       " '79337': 'BLUE FLOCK GLASS CANDLEHOLDER',\n",
       " '21067': 'VINTAGE RED TEATIME MUG',\n",
       " '21578': 'WOODLAND DESIGN  COTTON TOTE BAG',\n",
       " '21635': 'MADRAS NOTEBOOK LARGE ',\n",
       " '21069': 'VINTAGE BILLBOARD TEA MUG',\n",
       " '84925F': 'PSYCHEDELIC WALL THERMOMETER',\n",
       " '21272': 'SALLE DE BAIN HOOK',\n",
       " '21472': 'LADYBIRD + BEE RAFFIA FOOD COVER',\n",
       " '22088': 'PAPER BUNTING COLOURED LACE',\n",
       " '85086A': 'CANDY SPOT HEART DECORATION',\n",
       " '22034': 'ROBIN CHRISTMAS CARD',\n",
       " '21686': 'MEDINA STAMPED METAL STOOL',\n",
       " '35819P': 'ACRYLIC HANGING JEWEL,PINK',\n",
       " '84789': 'ENCHANTED BIRD PLANT CAGE',\n",
       " '23084': 'RABBIT NIGHT LIGHT',\n",
       " '21868': 'POTTING SHED TEA MUG',\n",
       " '81952B': 'ROUND BLUE CLOCK W/SUCKER',\n",
       " '21294': 'ETCHED GLASS COASTER',\n",
       " '84595E': 'LARGE TORTILLA DESIGN RED BOWL',\n",
       " '40046A': 'RED DAISY PAPER LAMPSHADE',\n",
       " '21275': 'ZINC TOP  2 DOOR WOODEN SHELF ',\n",
       " '21609': 'SET 12 LAVENDER  BOTANICAL T-LIGHTS',\n",
       " '72709': 'IVORY SCULPTED RND CANDLE ',\n",
       " '84847': 'FLORAL BATHROOM SET',\n",
       " '23134': 'LARGE ZINC HEART WALL ORGANISER',\n",
       " '22722': 'SET OF 6 SPICE TINS PANTRY DESIGN',\n",
       " '21147': 'JINGLE BELLS TREE DECORATION',\n",
       " '79000': 'MOROCCAN TEA GLASS',\n",
       " '21359': 'RELAX LARGE WOOD LETTERS',\n",
       " '22194': 'BLACK DINER WALL CLOCK',\n",
       " '21658': 'GLASS  BEURRE DISH',\n",
       " '21033': 'JUMBO BAG CHARLIE AND LOLA TOYS',\n",
       " '85049D': 'BRIGHT BLUES RIBBONS ',\n",
       " '85152': 'HAND OVER THE CHOCOLATE   SIGN ',\n",
       " '85107': 'CUT GLASS T-LIGHT HOLDER OCTAGON',\n",
       " '85106': 'CUT GLASS HEXAGON T-LIGHT HOLDER',\n",
       " '20684': 'STRAWBERRY DREAM CHILDS UMBRELLA',\n",
       " '21673': 'WHITE SPOT BLUE CERAMIC DRAWER KNOB',\n",
       " '22157': 'ANGEL DECORATION WITH LACE PADDED',\n",
       " '16046': 'TEATIME PEN CASE & PENS',\n",
       " '23284': 'DOORMAT KEEP CALM AND COME IN',\n",
       " '21662': 'VINTAGE GLASS COFFEE CADDY',\n",
       " '23175': 'REGENCY MILK JUG PINK ',\n",
       " '21257': 'VICTORIAN SEWING BOX MEDIUM',\n",
       " '85032D': 'YULETIDE IMAGES GIFT WRAP SET',\n",
       " '37342': 'SPOTTY COFFEE CUP & SAUCER',\n",
       " '21682': 'LARGE MEDINA STAMPED METAL BOWL ',\n",
       " '84989A': '75 GREEN FAIRY CAKE CASES',\n",
       " '85232D': 'SET/3 DECOUPAGE STACKING TINS',\n",
       " '47570B': 'TEA TIME TABLE CLOTH',\n",
       " '84660C': 'PINK STITCHED WALL CLOCK',\n",
       " '23306': 'SET OF 36 DOILIES PANTRY DESIGN',\n",
       " '22035': 'VINTAGE CARAVAN GREETING CARD ',\n",
       " '22050': 'PINK PAISLEY ROSE GIFT WRAP',\n",
       " '23135': 'SMALL ZINC HEART WALL ORGANISER',\n",
       " '35815P': 'ACRYLIC JEWEL SNOWFLAKE, PINK',\n",
       " '35598A': 'DUSTY PINK CHRISTMAS TREE 60CM',\n",
       " '90209C': 'PINK ENAMEL+GLASS HAIR COMB',\n",
       " '35911A': 'MULTICOLOUR RABBIT EGG WARMER',\n",
       " '84663A': 'GRASS HOPPER WOODEN WALL CLOCK ',\n",
       " '21830': 'ASSORTED CREEPY CRAWLIES',\n",
       " '21349': 'IVY HEART WREATH',\n",
       " '22829': 'BROCANTE SHELF WITH HOOKS',\n",
       " '84660A': 'WHITE STITCHED WALL CLOCK',\n",
       " '20984': '12 PENCILS TALL TUBE POSY',\n",
       " '21586': 'KINGS CHOICE GIANT TUBE MATCHES',\n",
       " '21587': 'COSY HOUR GIANT TUBE MATCHES',\n",
       " '22062': 'CERAMIC BOWL WITH LOVE HEART DESIGN',\n",
       " '37370': 'RETRO COFFEE MUGS ASSORTED',\n",
       " '84849D': 'HOT BATHS SOAP HOLDER',\n",
       " '90209B': 'GREEN ENAMEL+GLASS HAIR COMB',\n",
       " '21394': 'RED SPOTTY BEAKER ',\n",
       " '22688': 'DOORMAT PEACE ON EARTH BLUE',\n",
       " '22570': 'FELTCRAFT CUSHION RABBIT',\n",
       " '47504K': 'ENGLISH ROSE GARDEN SECATEURS',\n",
       " '23412': 'HEART MIRROR ANTIQUE WHITE',\n",
       " '35933': 'PINK STOCKING CHRISTMAS DECORATION',\n",
       " '23268': 'SET OF 2 CERAMIC CHRISTMAS REINDEER',\n",
       " '21244': 'BLUE  SPOTTY PLATE ',\n",
       " '21918': 'SET 12 KIDS COLOUR  CHALK STICKS',\n",
       " '21311': 'SET/4 BIRD MIRROR MAGNETS ',\n",
       " '84596G': 'SMALL CHOCOLATES PINK BOWL',\n",
       " '21190': 'PINK HEARTS PAPER GARLAND',\n",
       " '46775D': 'SUNSET COLOUR CHUNKY KNITTED THROW',\n",
       " '23702': 'High Resolution Image',\n",
       " '22149': 'FELTCRAFT 6 FLOWER FRIENDS',\n",
       " '22729': 'ALARM CLOCK BAKELIKE ORANGE',\n",
       " '21801': 'CHRISTMAS TREE DECORATION WITH BELL',\n",
       " '85211': 'S/4 GROOVY CAT MAGNETS',\n",
       " '37327': 'ASSTD MULTICOLOUR CIRCLES MUG',\n",
       " '79030D': 'TUMBLER, BAROQUE',\n",
       " '35810B': 'ENAMEL BLUE RIM COFFEE CONTAINER',\n",
       " '72818': 'CHRISTMAS DECOUPAGE CANDLE',\n",
       " '85135A': 'YELLOW DRAGONFLY HELICOPTER',\n",
       " '23400': 'SHELF WITH 4 HOOKS HOME SWEET HOME',\n",
       " '23579': 'SNACK TRAY I LOVE LONDON',\n",
       " '21071': 'VINTAGE BILLBOARD DRINK ME MUG',\n",
       " '21174': 'POTTERING IN THE SHED METAL SIGN',\n",
       " '85017B': 'ENVELOPE 50 BLOSSOM IMAGES',\n",
       " '22827': 'GIANT SEVENTEEN DRAWER SIDEBOARD',\n",
       " '22812': 'PACK 3 BOXES CHRISTMAS PANNETONE',\n",
       " '21809': 'CHRISTMAS HANGING TREE WITH BELL',\n",
       " '22121': 'NOEL WOODEN BLOCK LETTERS ',\n",
       " '21054': \"NURSE'S BAG SOFT TOY\",\n",
       " '72802C': 'VANILLA SCENT CANDLE JEWELLED BOX',\n",
       " '85125': 'SMALL ROUND CUT GLASS CANDLESTICK',\n",
       " '72817': 'SET/2 CHRISTMAS DECOUPAGE CANDLES',\n",
       " '15060B': 'FAIRY CAKE DESIGN UMBRELLA',\n",
       " '37489A': 'YELLOW/PINK FLOWER DESIGN BIG MUG',\n",
       " '85135B': 'BLUE DRAGONFLY HELICOPTER',\n",
       " '22606': 'WOODEN SKITTLES GARDEN SET',\n",
       " '22568': 'FELTCRAFT CUSHION OWL',\n",
       " '22579': 'WOODEN TREE CHRISTMAS SCANDINAVIAN',\n",
       " '23541': 'WALL ART CLASSIC PUDDINGS ',\n",
       " '22943': 'CHRISTMAS LIGHTS 10 VINTAGE BAUBLES',\n",
       " '21811': 'CHRISTMAS HANGING HEART WITH BELL',\n",
       " '22810': 'SET OF 6 T-LIGHTS SNOWMEN',\n",
       " '21927': 'BLUE/CREAM STRIPE CUSHION COVER ',\n",
       " '22947': 'WOODEN ADVENT CALENDAR RED',\n",
       " '22696': 'WICKER WREATH LARGE',\n",
       " '21804': 'WHITE CHRISTMAS GARLAND STARS TREES',\n",
       " '21808': 'CHRISTMAS GARLAND STARS,TREES',\n",
       " '21803': 'CHRISTMAS TREE STAR DECORATION',\n",
       " '23406': 'HOME SWEET HOME KEY HOLDER',\n",
       " '21620': 'S/4 ROSE    BOTANICAL  CANDLE',\n",
       " '85175': 'CACTI T-LIGHT CANDLES'}"
      ]
     },
     "execution_count": 27,
     "metadata": {},
     "output_type": "execute_result"
    }
   ],
   "source": [
    "mapper_stck = check_stck.set_index('StockCode').to_dict()['Description']\n",
    "mapper_stck"
   ]
  },
  {
   "cell_type": "markdown",
   "metadata": {
    "execution": {
     "iopub.execute_input": "2020-08-06T03:29:05.537949Z",
     "iopub.status.busy": "2020-08-06T03:29:05.536945Z",
     "iopub.status.idle": "2020-08-06T03:29:05.544941Z",
     "shell.execute_reply": "2020-08-06T03:29:05.543943Z",
     "shell.execute_reply.started": "2020-08-06T03:29:05.537949Z"
    }
   },
   "source": [
    "#### Imputing Description"
   ]
  },
  {
   "cell_type": "code",
   "execution_count": 28,
   "metadata": {
    "ExecuteTime": {
     "end_time": "2020-08-17T15:36:17.149393Z",
     "start_time": "2020-08-17T15:36:17.087429Z"
    },
    "execution": {
     "iopub.execute_input": "2020-08-06T12:56:33.429339Z",
     "iopub.status.busy": "2020-08-06T12:56:33.429339Z",
     "iopub.status.idle": "2020-08-06T12:56:33.490301Z",
     "shell.execute_reply": "2020-08-06T12:56:33.489321Z",
     "shell.execute_reply.started": "2020-08-06T12:56:33.429339Z"
    }
   },
   "outputs": [],
   "source": [
    "nc['Description'].fillna(0, inplace=True)"
   ]
  },
  {
   "cell_type": "code",
   "execution_count": 29,
   "metadata": {
    "ExecuteTime": {
     "end_time": "2020-08-17T15:36:17.310301Z",
     "start_time": "2020-08-17T15:36:17.151393Z"
    },
    "execution": {
     "iopub.execute_input": "2020-08-06T13:02:11.629618Z",
     "iopub.status.busy": "2020-08-06T13:02:11.628621Z",
     "iopub.status.idle": "2020-08-06T13:02:11.740555Z",
     "shell.execute_reply": "2020-08-06T13:02:11.739576Z",
     "shell.execute_reply.started": "2020-08-06T13:02:11.629618Z"
    },
    "scrolled": true
   },
   "outputs": [
    {
     "data": {
      "text/html": [
       "<div>\n",
       "<style scoped>\n",
       "    .dataframe tbody tr th:only-of-type {\n",
       "        vertical-align: middle;\n",
       "    }\n",
       "\n",
       "    .dataframe tbody tr th {\n",
       "        vertical-align: top;\n",
       "    }\n",
       "\n",
       "    .dataframe thead th {\n",
       "        text-align: right;\n",
       "    }\n",
       "</style>\n",
       "<table border=\"1\" class=\"dataframe\">\n",
       "  <thead>\n",
       "    <tr style=\"text-align: right;\">\n",
       "      <th></th>\n",
       "      <th>Invoice</th>\n",
       "      <th>StockCode</th>\n",
       "      <th>Description</th>\n",
       "      <th>Quantity</th>\n",
       "      <th>InvoiceDate</th>\n",
       "      <th>Price</th>\n",
       "      <th>Customer ID</th>\n",
       "      <th>Country</th>\n",
       "      <th>Day of Week</th>\n",
       "      <th>Date</th>\n",
       "      <th>Month</th>\n",
       "      <th>Year</th>\n",
       "      <th>Day of Year</th>\n",
       "      <th>Week of Year</th>\n",
       "      <th>Time Hour</th>\n",
       "      <th>Hour</th>\n",
       "    </tr>\n",
       "  </thead>\n",
       "  <tbody>\n",
       "    <tr>\n",
       "      <th>2989</th>\n",
       "      <td>489659</td>\n",
       "      <td>21350</td>\n",
       "      <td>0</td>\n",
       "      <td>230</td>\n",
       "      <td>2009-12-01 17:39:00</td>\n",
       "      <td>0.0</td>\n",
       "      <td>imp26</td>\n",
       "      <td>United Kingdom</td>\n",
       "      <td>Tuesday</td>\n",
       "      <td>01</td>\n",
       "      <td>Dec</td>\n",
       "      <td>2009</td>\n",
       "      <td>335</td>\n",
       "      <td>48</td>\n",
       "      <td>17:39:00</td>\n",
       "      <td>17</td>\n",
       "    </tr>\n",
       "    <tr>\n",
       "      <th>3542</th>\n",
       "      <td>489781</td>\n",
       "      <td>84292</td>\n",
       "      <td>0</td>\n",
       "      <td>17</td>\n",
       "      <td>2009-12-02 11:45:00</td>\n",
       "      <td>0.0</td>\n",
       "      <td>imp29</td>\n",
       "      <td>United Kingdom</td>\n",
       "      <td>Wednesday</td>\n",
       "      <td>02</td>\n",
       "      <td>Dec</td>\n",
       "      <td>2009</td>\n",
       "      <td>336</td>\n",
       "      <td>48</td>\n",
       "      <td>11:45:00</td>\n",
       "      <td>11</td>\n",
       "    </tr>\n",
       "    <tr>\n",
       "      <th>6136</th>\n",
       "      <td>489882</td>\n",
       "      <td>35751C</td>\n",
       "      <td>0</td>\n",
       "      <td>12</td>\n",
       "      <td>2009-12-02 16:22:00</td>\n",
       "      <td>0.0</td>\n",
       "      <td>imp37</td>\n",
       "      <td>United Kingdom</td>\n",
       "      <td>Wednesday</td>\n",
       "      <td>02</td>\n",
       "      <td>Dec</td>\n",
       "      <td>2009</td>\n",
       "      <td>336</td>\n",
       "      <td>48</td>\n",
       "      <td>16:22:00</td>\n",
       "      <td>16</td>\n",
       "    </tr>\n",
       "    <tr>\n",
       "      <th>6312</th>\n",
       "      <td>489898</td>\n",
       "      <td>79323G</td>\n",
       "      <td>0</td>\n",
       "      <td>954</td>\n",
       "      <td>2009-12-03 09:40:00</td>\n",
       "      <td>0.0</td>\n",
       "      <td>imp39</td>\n",
       "      <td>United Kingdom</td>\n",
       "      <td>Thursday</td>\n",
       "      <td>03</td>\n",
       "      <td>Dec</td>\n",
       "      <td>2009</td>\n",
       "      <td>337</td>\n",
       "      <td>48</td>\n",
       "      <td>09:40:00</td>\n",
       "      <td>9</td>\n",
       "    </tr>\n",
       "    <tr>\n",
       "      <th>6336</th>\n",
       "      <td>489903</td>\n",
       "      <td>21166</td>\n",
       "      <td>0</td>\n",
       "      <td>48</td>\n",
       "      <td>2009-12-03 09:57:00</td>\n",
       "      <td>0.0</td>\n",
       "      <td>imp42</td>\n",
       "      <td>United Kingdom</td>\n",
       "      <td>Thursday</td>\n",
       "      <td>03</td>\n",
       "      <td>Dec</td>\n",
       "      <td>2009</td>\n",
       "      <td>337</td>\n",
       "      <td>48</td>\n",
       "      <td>09:57:00</td>\n",
       "      <td>9</td>\n",
       "    </tr>\n",
       "    <tr>\n",
       "      <th>...</th>\n",
       "      <td>...</td>\n",
       "      <td>...</td>\n",
       "      <td>...</td>\n",
       "      <td>...</td>\n",
       "      <td>...</td>\n",
       "      <td>...</td>\n",
       "      <td>...</td>\n",
       "      <td>...</td>\n",
       "      <td>...</td>\n",
       "      <td>...</td>\n",
       "      <td>...</td>\n",
       "      <td>...</td>\n",
       "      <td>...</td>\n",
       "      <td>...</td>\n",
       "      <td>...</td>\n",
       "      <td>...</td>\n",
       "    </tr>\n",
       "    <tr>\n",
       "      <th>997790</th>\n",
       "      <td>581103</td>\n",
       "      <td>22689</td>\n",
       "      <td>0</td>\n",
       "      <td>4</td>\n",
       "      <td>2011-12-07 11:58:00</td>\n",
       "      <td>0.0</td>\n",
       "      <td>imp8084</td>\n",
       "      <td>United Kingdom</td>\n",
       "      <td>Wednesday</td>\n",
       "      <td>07</td>\n",
       "      <td>Dec</td>\n",
       "      <td>2011</td>\n",
       "      <td>341</td>\n",
       "      <td>49</td>\n",
       "      <td>11:58:00</td>\n",
       "      <td>11</td>\n",
       "    </tr>\n",
       "    <tr>\n",
       "      <th>999337</th>\n",
       "      <td>581203</td>\n",
       "      <td>23406</td>\n",
       "      <td>0</td>\n",
       "      <td>15</td>\n",
       "      <td>2011-12-07 18:31:00</td>\n",
       "      <td>0.0</td>\n",
       "      <td>imp8092</td>\n",
       "      <td>United Kingdom</td>\n",
       "      <td>Wednesday</td>\n",
       "      <td>07</td>\n",
       "      <td>Dec</td>\n",
       "      <td>2011</td>\n",
       "      <td>341</td>\n",
       "      <td>49</td>\n",
       "      <td>18:31:00</td>\n",
       "      <td>18</td>\n",
       "    </tr>\n",
       "    <tr>\n",
       "      <th>999338</th>\n",
       "      <td>581209</td>\n",
       "      <td>21620</td>\n",
       "      <td>0</td>\n",
       "      <td>6</td>\n",
       "      <td>2011-12-07 18:35:00</td>\n",
       "      <td>0.0</td>\n",
       "      <td>imp8098</td>\n",
       "      <td>United Kingdom</td>\n",
       "      <td>Wednesday</td>\n",
       "      <td>07</td>\n",
       "      <td>Dec</td>\n",
       "      <td>2011</td>\n",
       "      <td>341</td>\n",
       "      <td>49</td>\n",
       "      <td>18:35:00</td>\n",
       "      <td>18</td>\n",
       "    </tr>\n",
       "    <tr>\n",
       "      <th>1000963</th>\n",
       "      <td>581234</td>\n",
       "      <td>72817</td>\n",
       "      <td>0</td>\n",
       "      <td>27</td>\n",
       "      <td>2011-12-08 10:33:00</td>\n",
       "      <td>0.0</td>\n",
       "      <td>imp8106</td>\n",
       "      <td>United Kingdom</td>\n",
       "      <td>Thursday</td>\n",
       "      <td>08</td>\n",
       "      <td>Dec</td>\n",
       "      <td>2011</td>\n",
       "      <td>342</td>\n",
       "      <td>49</td>\n",
       "      <td>10:33:00</td>\n",
       "      <td>10</td>\n",
       "    </tr>\n",
       "    <tr>\n",
       "      <th>1002496</th>\n",
       "      <td>581408</td>\n",
       "      <td>85175</td>\n",
       "      <td>0</td>\n",
       "      <td>20</td>\n",
       "      <td>2011-12-08 14:06:00</td>\n",
       "      <td>0.0</td>\n",
       "      <td>imp8110</td>\n",
       "      <td>United Kingdom</td>\n",
       "      <td>Thursday</td>\n",
       "      <td>08</td>\n",
       "      <td>Dec</td>\n",
       "      <td>2011</td>\n",
       "      <td>342</td>\n",
       "      <td>49</td>\n",
       "      <td>14:06:00</td>\n",
       "      <td>14</td>\n",
       "    </tr>\n",
       "  </tbody>\n",
       "</table>\n",
       "<p>1605 rows × 16 columns</p>\n",
       "</div>"
      ],
      "text/plain": [
       "         Invoice StockCode Description  Quantity         InvoiceDate  Price  \\\n",
       "2989      489659     21350           0       230 2009-12-01 17:39:00    0.0   \n",
       "3542      489781     84292           0        17 2009-12-02 11:45:00    0.0   \n",
       "6136      489882    35751C           0        12 2009-12-02 16:22:00    0.0   \n",
       "6312      489898    79323G           0       954 2009-12-03 09:40:00    0.0   \n",
       "6336      489903     21166           0        48 2009-12-03 09:57:00    0.0   \n",
       "...          ...       ...         ...       ...                 ...    ...   \n",
       "997790    581103     22689           0         4 2011-12-07 11:58:00    0.0   \n",
       "999337    581203     23406           0        15 2011-12-07 18:31:00    0.0   \n",
       "999338    581209     21620           0         6 2011-12-07 18:35:00    0.0   \n",
       "1000963   581234     72817           0        27 2011-12-08 10:33:00    0.0   \n",
       "1002496   581408     85175           0        20 2011-12-08 14:06:00    0.0   \n",
       "\n",
       "        Customer ID         Country Day of Week Date Month  Year Day of Year  \\\n",
       "2989          imp26  United Kingdom     Tuesday   01   Dec  2009         335   \n",
       "3542          imp29  United Kingdom   Wednesday   02   Dec  2009         336   \n",
       "6136          imp37  United Kingdom   Wednesday   02   Dec  2009         336   \n",
       "6312          imp39  United Kingdom    Thursday   03   Dec  2009         337   \n",
       "6336          imp42  United Kingdom    Thursday   03   Dec  2009         337   \n",
       "...             ...             ...         ...  ...   ...   ...         ...   \n",
       "997790      imp8084  United Kingdom   Wednesday   07   Dec  2011         341   \n",
       "999337      imp8092  United Kingdom   Wednesday   07   Dec  2011         341   \n",
       "999338      imp8098  United Kingdom   Wednesday   07   Dec  2011         341   \n",
       "1000963     imp8106  United Kingdom    Thursday   08   Dec  2011         342   \n",
       "1002496     imp8110  United Kingdom    Thursday   08   Dec  2011         342   \n",
       "\n",
       "        Week of Year Time Hour  Hour  \n",
       "2989              48  17:39:00    17  \n",
       "3542              48  11:45:00    11  \n",
       "6136              48  16:22:00    16  \n",
       "6312              48  09:40:00     9  \n",
       "6336              48  09:57:00     9  \n",
       "...              ...       ...   ...  \n",
       "997790            49  11:58:00    11  \n",
       "999337            49  18:31:00    18  \n",
       "999338            49  18:35:00    18  \n",
       "1000963           49  10:33:00    10  \n",
       "1002496           49  14:06:00    14  \n",
       "\n",
       "[1605 rows x 16 columns]"
      ]
     },
     "execution_count": 29,
     "metadata": {},
     "output_type": "execute_result"
    }
   ],
   "source": [
    "nc[nc['Description'] == 0]"
   ]
  },
  {
   "cell_type": "code",
   "execution_count": 30,
   "metadata": {
    "ExecuteTime": {
     "end_time": "2020-08-17T15:37:13.005206Z",
     "start_time": "2020-08-17T15:36:17.312300Z"
    },
    "execution": {
     "iopub.execute_input": "2020-08-06T13:13:06.807300Z",
     "iopub.status.busy": "2020-08-06T13:13:06.807300Z",
     "iopub.status.idle": "2020-08-06T13:14:01.750021Z",
     "shell.execute_reply": "2020-08-06T13:14:01.749058Z",
     "shell.execute_reply.started": "2020-08-06T13:13:06.807300Z"
    }
   },
   "outputs": [],
   "source": [
    "for i in range(len(nc['Description'])):\n",
    "    if nc.loc[i, 'Description'] == 0 and nc.loc[i, 'StockCode'] in mapper_stck.keys():\n",
    "        nc.loc[i, 'Description'] = mapper_stck[nc.loc[i, 'StockCode']]"
   ]
  },
  {
   "cell_type": "raw",
   "metadata": {
    "execution": {
     "iopub.execute_input": "2020-08-06T10:28:46.976521Z",
     "iopub.status.busy": "2020-08-06T10:28:46.975542Z"
    }
   },
   "source": [
    "for i in range(len(nc['Description'])):\n",
    "    print(nc.loc[i, 'StockCode'] in mapper_stck.keys())"
   ]
  },
  {
   "cell_type": "code",
   "execution_count": 31,
   "metadata": {
    "ExecuteTime": {
     "end_time": "2020-08-17T15:37:13.552514Z",
     "start_time": "2020-08-17T15:37:13.005206Z"
    },
    "execution": {
     "iopub.execute_input": "2020-08-06T13:49:58.845598Z",
     "iopub.status.busy": "2020-08-06T13:49:58.845598Z",
     "iopub.status.idle": "2020-08-06T13:49:59.217367Z",
     "shell.execute_reply": "2020-08-06T13:49:59.215367Z",
     "shell.execute_reply.started": "2020-08-06T13:49:58.845598Z"
    }
   },
   "outputs": [],
   "source": [
    "nc = nc[nc['Description'] != 0]"
   ]
  },
  {
   "cell_type": "code",
   "execution_count": 32,
   "metadata": {
    "ExecuteTime": {
     "end_time": "2020-08-17T15:37:14.143744Z",
     "start_time": "2020-08-17T15:37:13.555512Z"
    },
    "execution": {
     "iopub.execute_input": "2020-08-06T15:24:44.047180Z",
     "iopub.status.busy": "2020-08-06T15:24:44.047180Z",
     "iopub.status.idle": "2020-08-06T15:24:44.838971Z",
     "shell.execute_reply": "2020-08-06T15:24:44.837990Z",
     "shell.execute_reply.started": "2020-08-06T15:24:44.047180Z"
    },
    "scrolled": true
   },
   "outputs": [
    {
     "data": {
      "text/plain": [
       "Invoice         0\n",
       "StockCode       0\n",
       "Description     0\n",
       "Quantity        0\n",
       "InvoiceDate     0\n",
       "Price           0\n",
       "Customer ID     0\n",
       "Country         0\n",
       "Day of Week     0\n",
       "Date            0\n",
       "Month           0\n",
       "Year            0\n",
       "Day of Year     0\n",
       "Week of Year    0\n",
       "Time Hour       0\n",
       "Hour            0\n",
       "dtype: int64"
      ]
     },
     "execution_count": 32,
     "metadata": {},
     "output_type": "execute_result"
    }
   ],
   "source": [
    "nc.isna().sum()"
   ]
  },
  {
   "cell_type": "code",
   "execution_count": 33,
   "metadata": {
    "ExecuteTime": {
     "end_time": "2020-08-17T15:37:14.158735Z",
     "start_time": "2020-08-17T15:37:14.145743Z"
    }
   },
   "outputs": [
    {
     "name": "stdout",
     "output_type": "stream",
     "text": [
      " Still got 2504 rows where Price are equal to Zero (0). I'm going to drop all price where have a Zero(o) values.\n"
     ]
    }
   ],
   "source": [
    "print(f\" Still got {nc[nc['Price'] == 0].shape[0]} rows where Price are equal to Zero (0). I'm going to drop all price where have a Zero(o) values.\")"
   ]
  },
  {
   "cell_type": "markdown",
   "metadata": {},
   "source": [
    "**It just because the business logic where price is zero(0) is impossible, despite of assuming the zero values have another meaning in the real case (should described at features description)**"
   ]
  },
  {
   "cell_type": "code",
   "execution_count": 34,
   "metadata": {
    "ExecuteTime": {
     "end_time": "2020-08-17T15:37:14.613885Z",
     "start_time": "2020-08-17T15:37:14.164731Z"
    },
    "scrolled": true
   },
   "outputs": [],
   "source": [
    "nc = nc[nc['Price'] != 0]"
   ]
  },
  {
   "cell_type": "markdown",
   "metadata": {},
   "source": [
    "### g. `Amount` Additional Features\n",
    "\n",
    "- It's a additional featrues to get insight about *Sales Amount*"
   ]
  },
  {
   "cell_type": "code",
   "execution_count": 35,
   "metadata": {
    "ExecuteTime": {
     "end_time": "2020-08-17T15:37:14.651890Z",
     "start_time": "2020-08-17T15:37:14.618895Z"
    }
   },
   "outputs": [],
   "source": [
    "nc['Amount'] = nc['Quantity'] * nc['Price']"
   ]
  },
  {
   "cell_type": "code",
   "execution_count": 36,
   "metadata": {
    "ExecuteTime": {
     "end_time": "2020-08-17T15:37:14.693839Z",
     "start_time": "2020-08-17T15:37:14.655862Z"
    },
    "scrolled": true
   },
   "outputs": [
    {
     "data": {
      "text/html": [
       "<div>\n",
       "<style scoped>\n",
       "    .dataframe tbody tr th:only-of-type {\n",
       "        vertical-align: middle;\n",
       "    }\n",
       "\n",
       "    .dataframe tbody tr th {\n",
       "        vertical-align: top;\n",
       "    }\n",
       "\n",
       "    .dataframe thead th {\n",
       "        text-align: right;\n",
       "    }\n",
       "</style>\n",
       "<table border=\"1\" class=\"dataframe\">\n",
       "  <thead>\n",
       "    <tr style=\"text-align: right;\">\n",
       "      <th></th>\n",
       "      <th>Invoice</th>\n",
       "      <th>StockCode</th>\n",
       "      <th>Description</th>\n",
       "      <th>Quantity</th>\n",
       "      <th>InvoiceDate</th>\n",
       "      <th>Price</th>\n",
       "      <th>Customer ID</th>\n",
       "      <th>Country</th>\n",
       "      <th>Day of Week</th>\n",
       "      <th>Date</th>\n",
       "      <th>Month</th>\n",
       "      <th>Year</th>\n",
       "      <th>Day of Year</th>\n",
       "      <th>Week of Year</th>\n",
       "      <th>Time Hour</th>\n",
       "      <th>Hour</th>\n",
       "      <th>Amount</th>\n",
       "    </tr>\n",
       "  </thead>\n",
       "  <tbody>\n",
       "    <tr>\n",
       "      <th>0</th>\n",
       "      <td>489434</td>\n",
       "      <td>85048</td>\n",
       "      <td>15CM CHRISTMAS GLASS BALL 20 LIGHTS</td>\n",
       "      <td>12</td>\n",
       "      <td>2009-12-01 07:45:00</td>\n",
       "      <td>6.95</td>\n",
       "      <td>13085.0</td>\n",
       "      <td>United Kingdom</td>\n",
       "      <td>Tuesday</td>\n",
       "      <td>01</td>\n",
       "      <td>Dec</td>\n",
       "      <td>2009</td>\n",
       "      <td>335</td>\n",
       "      <td>48</td>\n",
       "      <td>07:45:00</td>\n",
       "      <td>7</td>\n",
       "      <td>83.4</td>\n",
       "    </tr>\n",
       "    <tr>\n",
       "      <th>1</th>\n",
       "      <td>489434</td>\n",
       "      <td>79323P</td>\n",
       "      <td>PINK CHERRY LIGHTS</td>\n",
       "      <td>12</td>\n",
       "      <td>2009-12-01 07:45:00</td>\n",
       "      <td>6.75</td>\n",
       "      <td>13085.0</td>\n",
       "      <td>United Kingdom</td>\n",
       "      <td>Tuesday</td>\n",
       "      <td>01</td>\n",
       "      <td>Dec</td>\n",
       "      <td>2009</td>\n",
       "      <td>335</td>\n",
       "      <td>48</td>\n",
       "      <td>07:45:00</td>\n",
       "      <td>7</td>\n",
       "      <td>81.0</td>\n",
       "    </tr>\n",
       "  </tbody>\n",
       "</table>\n",
       "</div>"
      ],
      "text/plain": [
       "   Invoice StockCode                          Description  Quantity  \\\n",
       "0   489434     85048  15CM CHRISTMAS GLASS BALL 20 LIGHTS        12   \n",
       "1   489434    79323P                   PINK CHERRY LIGHTS        12   \n",
       "\n",
       "          InvoiceDate  Price Customer ID         Country Day of Week Date  \\\n",
       "0 2009-12-01 07:45:00   6.95     13085.0  United Kingdom     Tuesday   01   \n",
       "1 2009-12-01 07:45:00   6.75     13085.0  United Kingdom     Tuesday   01   \n",
       "\n",
       "  Month  Year Day of Year Week of Year Time Hour  Hour  Amount  \n",
       "0   Dec  2009         335           48  07:45:00     7    83.4  \n",
       "1   Dec  2009         335           48  07:45:00     7    81.0  "
      ]
     },
     "metadata": {},
     "output_type": "display_data"
    },
    {
     "data": {
      "text/plain": [
       "(1003214, 17)"
      ]
     },
     "metadata": {},
     "output_type": "display_data"
    }
   ],
   "source": [
    "display(nc.head(2), nc.shape)"
   ]
  },
  {
   "cell_type": "markdown",
   "metadata": {},
   "source": [
    "**Rearange the `DataFrame`**"
   ]
  },
  {
   "cell_type": "code",
   "execution_count": 37,
   "metadata": {
    "ExecuteTime": {
     "end_time": "2020-08-17T15:37:15.080903Z",
     "start_time": "2020-08-17T15:37:14.697842Z"
    }
   },
   "outputs": [],
   "source": [
    "nc = nc[['Invoice', 'StockCode', 'Description', 'Quantity', 'Price', 'Amount', 'Customer ID', 'Country', \n",
    "         'InvoiceDate', 'Day of Week', 'Date', 'Month', 'Year', 'Day of Year', 'Week of Year', 'Time Hour', 'Hour']]"
   ]
  },
  {
   "cell_type": "code",
   "execution_count": 40,
   "metadata": {
    "ExecuteTime": {
     "end_time": "2020-08-17T15:38:11.700846Z",
     "start_time": "2020-08-17T15:38:10.994952Z"
    }
   },
   "outputs": [
    {
     "name": "stdout",
     "output_type": "stream",
     "text": [
      "<class 'pandas.core.frame.DataFrame'>\n",
      "Int64Index: 1003214 entries, 0 to 1005779\n",
      "Data columns (total 17 columns):\n",
      " #   Column        Non-Null Count    Dtype         \n",
      "---  ------        --------------    -----         \n",
      " 0   Invoice       1003214 non-null  int64         \n",
      " 1   StockCode     1003214 non-null  object        \n",
      " 2   Description   1003214 non-null  object        \n",
      " 3   Quantity      1003214 non-null  int64         \n",
      " 4   Price         1003214 non-null  float64       \n",
      " 5   Amount        1003214 non-null  float64       \n",
      " 6   Customer ID   1003214 non-null  object        \n",
      " 7   Country       1003214 non-null  object        \n",
      " 8   InvoiceDate   1003214 non-null  datetime64[ns]\n",
      " 9   Day of Week   1003214 non-null  object        \n",
      " 10  Date          1003214 non-null  object        \n",
      " 11  Month         1003214 non-null  object        \n",
      " 12  Year          1003214 non-null  object        \n",
      " 13  Day of Year   1003214 non-null  object        \n",
      " 14  Week of Year  1003214 non-null  object        \n",
      " 15  Time Hour     1003214 non-null  object        \n",
      " 16  Hour          1003214 non-null  int64         \n",
      "dtypes: datetime64[ns](1), float64(2), int64(3), object(11)\n",
      "memory usage: 137.8+ MB\n"
     ]
    }
   ],
   "source": [
    "nc.info()"
   ]
  },
  {
   "cell_type": "code",
   "execution_count": null,
   "metadata": {},
   "outputs": [],
   "source": []
  }
 ],
 "metadata": {
  "hide_input": false,
  "kernelspec": {
   "display_name": "Python 3 (ipykernel)",
   "language": "python",
   "name": "python3"
  },
  "language_info": {
   "codemirror_mode": {
    "name": "ipython",
    "version": 3
   },
   "file_extension": ".py",
   "mimetype": "text/x-python",
   "name": "python",
   "nbconvert_exporter": "python",
   "pygments_lexer": "ipython3",
   "version": "3.9.12"
  },
  "toc": {
   "base_numbering": 1,
   "nav_menu": {},
   "number_sections": false,
   "sideBar": true,
   "skip_h1_title": false,
   "title_cell": "Table of Contents",
   "title_sidebar": "Contents",
   "toc_cell": false,
   "toc_position": {
    "height": "calc(100% - 180px)",
    "left": "10px",
    "top": "150px",
    "width": "269.774px"
   },
   "toc_section_display": true,
   "toc_window_display": true
  },
  "toc-autonumbering": false,
  "toc-showcode": false,
  "toc-showmarkdowntxt": false
 },
 "nbformat": 4,
 "nbformat_minor": 4
}
